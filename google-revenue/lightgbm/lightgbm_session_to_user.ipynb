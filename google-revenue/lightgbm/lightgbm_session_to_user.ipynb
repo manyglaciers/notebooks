{
 "cells": [
  {
   "cell_type": "markdown",
   "metadata": {
    "_uuid": "e8e112aa5b5db7303e39d3a9cf1702848962c6c2"
   },
   "source": [
    "### Introduction\n",
    "\n",
    "In this kernel I demonstrate how to create predictions at Session level and then use them at User level so that LighGBM can learn how to better sum individual session prediction. \n",
    "\n",
    "It is sort of mini stacker and to avoid leakage, we use GroupKFold strategy.\n"
   ]
  },
  {
   "cell_type": "code",
   "execution_count": 1,
   "metadata": {
    "_cell_guid": "b1076dfc-b9ad-4769-8c92-a6c4dae69d19",
    "_uuid": "8f2839f25d086af736a60e9eeb907d3b93b6e0e5"
   },
   "outputs": [
    {
     "name": "stdout",
     "output_type": "stream",
     "text": [
      "['prepared_train', 'extracted_fields_test.gz', 'prepared_test', 'extracted_fields_train.gz', 'sample_submission.csv', 'train.csv.zip', 'test.csv.zip', 'sample_submission.csv.zip']\n"
     ]
    }
   ],
   "source": [
    "import os\n",
    "print(os.listdir(\"../input\"))"
   ]
  },
  {
   "cell_type": "code",
   "execution_count": 2,
   "metadata": {
    "_cell_guid": "79c7e3d0-c299-4dcb-8224-4455121ee9b0",
    "_uuid": "d629ff2d2480ee46fbb7e2d37f6b5fab8052498a"
   },
   "outputs": [],
   "source": [
    "import pandas as pd\n",
    "import numpy as np\n",
    "import matplotlib.pyplot as plt\n",
    "import seaborn as sns\n",
    "from sklearn.metrics import mean_squared_error\n",
    "import gc\n",
    "import time\n",
    "from pandas.core.common import SettingWithCopyWarning\n",
    "import warnings\n",
    "import lightgbm as lgb\n",
    "from sklearn.model_selection import GroupKFold\n",
    "\n",
    "# I don't like SettingWithCopyWarnings ...\n",
    "warnings.simplefilter('error', SettingWithCopyWarning)\n",
    "gc.enable()\n",
    "%matplotlib inline"
   ]
  },
  {
   "cell_type": "markdown",
   "metadata": {
    "_uuid": "e8c6c0d5d8cf00737b8ae536b0d528b32fac9166"
   },
   "source": [
    "### Get the extracted data"
   ]
  },
  {
   "cell_type": "code",
   "execution_count": 3,
   "metadata": {
    "_uuid": "6fe04db087c3d25b8b4a5873ee6f104e427525f0"
   },
   "outputs": [
    {
     "data": {
      "text/plain": [
       "((903653, 30), (804684, 30))"
      ]
     },
     "execution_count": 3,
     "metadata": {},
     "output_type": "execute_result"
    }
   ],
   "source": [
    "train = pd.read_csv('../input/extracted_fields_train.gz', \n",
    "                    dtype={'date': str, 'fullVisitorId': str, 'sessionId':str}, nrows=None)\n",
    "test = pd.read_csv('../input/extracted_fields_test.gz', \n",
    "                   dtype={'date': str, 'fullVisitorId': str, 'sessionId':str}, nrows=None)\n",
    "train.shape, test.shape"
   ]
  },
  {
   "cell_type": "markdown",
   "metadata": {
    "_uuid": "b64b336b70ccb5478d33f9e042eeeabee549c919"
   },
   "source": [
    "### Define folding strategy"
   ]
  },
  {
   "cell_type": "code",
   "execution_count": 10,
   "metadata": {
    "_uuid": "cd54722ebf9ae8b68eddb2116c0559625e7d6a48"
   },
   "outputs": [],
   "source": [
    "def get_folds(df=None, n_splits=5):\n",
    "    \"\"\"Returns dataframe indices corresponding to Visitors Group KFold\"\"\"\n",
    "    # Get sorted unique visitors\n",
    "    unique_vis = np.array(sorted(df['fullVisitorId'].unique()))\n",
    "\n",
    "    # Get folds\n",
    "    folds = GroupKFold(n_splits=n_splits)\n",
    "    fold_ids = []\n",
    "    ids = np.arange(df.shape[0])\n",
    "    print(ids)\n",
    "    for trn_vis, val_vis in folds.split(X=unique_vis, y=unique_vis, groups=unique_vis):\n",
    "        fold_ids.append(\n",
    "            [\n",
    "                ids[df['fullVisitorId'].isin(unique_vis[trn_vis])],\n",
    "                ids[df['fullVisitorId'].isin(unique_vis[val_vis])]\n",
    "            ]\n",
    "        )\n",
    "    return fold_ids"
   ]
  },
  {
   "cell_type": "markdown",
   "metadata": {
    "_uuid": "18b2fb7729077132ef249956a1bbb072baee17db"
   },
   "source": [
    "### Get session target"
   ]
  },
  {
   "cell_type": "code",
   "execution_count": 18,
   "metadata": {
    "_uuid": "c539c76d9a5305066ea084ca32016132da41b35b"
   },
   "outputs": [],
   "source": [
    "y_reg = train['totals.transactionRevenue'].fillna(0)\n",
    "del train['totals.transactionRevenue']\n",
    "\n",
    "if 'totals.transactionRevenue' in test.columns:\n",
    "    del test['totals.transactionRevenue']"
   ]
  },
  {
   "cell_type": "markdown",
   "metadata": {
    "_uuid": "1d9af86b1cf94e192d704bfd419eed4490e1debe"
   },
   "source": [
    "### Add date features\n",
    "\n",
    "Only add the one I think can ganeralize"
   ]
  },
  {
   "cell_type": "code",
   "execution_count": 19,
   "metadata": {
    "_uuid": "fbf93fda18940aa29105fa2d66f3514311d4fc68"
   },
   "outputs": [
    {
     "data": {
      "text/plain": [
       "Index(['channelGrouping', 'date', 'fullVisitorId', 'sessionId', 'visitId',\n",
       "       'visitNumber', 'visitStartTime', 'device.browser',\n",
       "       'device.deviceCategory', 'device.isMobile', 'device.operatingSystem',\n",
       "       'geoNetwork.city', 'geoNetwork.continent', 'geoNetwork.country',\n",
       "       'geoNetwork.metro', 'geoNetwork.networkDomain', 'geoNetwork.region',\n",
       "       'geoNetwork.subContinent', 'totals.bounces', 'totals.hits',\n",
       "       'totals.newVisits', 'totals.pageviews', 'trafficSource.adContent',\n",
       "       'trafficSource.campaign', 'trafficSource.isTrueDirect',\n",
       "       'trafficSource.keyword', 'trafficSource.medium',\n",
       "       'trafficSource.referralPath', 'trafficSource.source'],\n",
       "      dtype='object')"
      ]
     },
     "execution_count": 19,
     "metadata": {},
     "output_type": "execute_result"
    }
   ],
   "source": [
    "train.columns"
   ]
  },
  {
   "cell_type": "code",
   "execution_count": 22,
   "metadata": {
    "_uuid": "b04391e12fdca0199ff22ab7febd9b0b53d6cbb3"
   },
   "outputs": [],
   "source": [
    "for df in [train, test]:\n",
    "    df['date'] = pd.to_datetime(df['visitStartTime'], unit='s')\n",
    "    df['sess_date_dow'] = df['date'].dt.dayofweek\n",
    "    df['sess_date_hours'] = df['date'].dt.hour\n",
    "    df['sess_date_dom'] = df['date'].dt.day"
   ]
  },
  {
   "cell_type": "markdown",
   "metadata": {
    "_uuid": "59e7c9bcf14d3f430489d15d22757b91dd9d5ad1"
   },
   "source": [
    "### Create features list"
   ]
  },
  {
   "cell_type": "code",
   "execution_count": 23,
   "metadata": {
    "_uuid": "e09ff3124721ad70eab65b924093b5fd0c12f9c6"
   },
   "outputs": [],
   "source": [
    "excluded_features = [\n",
    "    'date', 'fullVisitorId', 'sessionId', 'totals.transactionRevenue', \n",
    "    'visitId', 'visitStartTime'\n",
    "]\n",
    "\n",
    "categorical_features = [\n",
    "    _f for _f in train.columns\n",
    "    if (_f not in excluded_features) & (train[_f].dtype == 'object')\n",
    "]"
   ]
  },
  {
   "cell_type": "markdown",
   "metadata": {
    "_uuid": "2d207a80600a44e758b6011f24c5808f9b164866"
   },
   "source": [
    "### Factorize categoricals"
   ]
  },
  {
   "cell_type": "code",
   "execution_count": 24,
   "metadata": {
    "_uuid": "4f00eb6b6166cd5be25ebad22aa9dc91a8a3ded2"
   },
   "outputs": [],
   "source": [
    "for f in categorical_features:\n",
    "    train[f], indexer = pd.factorize(train[f])\n",
    "    test[f] = indexer.get_indexer(test[f])"
   ]
  },
  {
   "cell_type": "markdown",
   "metadata": {
    "_uuid": "d7517b473bd776f51925ab0243cf1e3b6592ce0e"
   },
   "source": [
    "### Predict revenues at session level"
   ]
  },
  {
   "cell_type": "code",
   "execution_count": 25,
   "metadata": {},
   "outputs": [
    {
     "name": "stdout",
     "output_type": "stream",
     "text": [
      "[     0      1      2 ... 903650 903651 903652]\n",
      "['channelGrouping', 'visitNumber', 'device.browser', 'device.deviceCategory', 'device.isMobile', 'device.operatingSystem', 'geoNetwork.city', 'geoNetwork.continent', 'geoNetwork.country', 'geoNetwork.metro', 'geoNetwork.networkDomain', 'geoNetwork.region', 'geoNetwork.subContinent', 'totals.bounces', 'totals.hits', 'totals.newVisits', 'totals.pageviews', 'trafficSource.adContent', 'trafficSource.campaign', 'trafficSource.isTrueDirect', 'trafficSource.keyword', 'trafficSource.medium', 'trafficSource.referralPath', 'trafficSource.source', 'sess_date_dow', 'sess_date_hours', 'sess_date_dom']\n",
      "total train features:  27\n"
     ]
    }
   ],
   "source": [
    "folds = get_folds(df=train, n_splits=5)\n",
    "\n",
    "train_features = [_f for _f in train.columns if _f not in excluded_features]\n",
    "print(train_features)\n",
    "print('total train features: ', len(train_features))\n",
    "\n",
    "importances = pd.DataFrame()\n",
    "oof_reg_preds = np.zeros(train.shape[0])\n",
    "sub_reg_preds = np.zeros(test.shape[0])"
   ]
  },
  {
   "cell_type": "code",
   "execution_count": 35,
   "metadata": {
    "_uuid": "e9c155197545dc43ec2f3e23e25955532f7ad25d"
   },
   "outputs": [
    {
     "name": "stdout",
     "output_type": "stream",
     "text": [
      "Training until validation scores don't improve for 50 rounds.\n",
      "[100]\tvalid_0's l2: 2.75876\tvalid_0's rmse: 1.66095\n",
      "[200]\tvalid_0's l2: 2.70796\tvalid_0's rmse: 1.64559\n",
      "[300]\tvalid_0's l2: 2.69984\tvalid_0's rmse: 1.64312\n",
      "[400]\tvalid_0's l2: 2.69356\tvalid_0's rmse: 1.64121\n",
      "[500]\tvalid_0's l2: 2.69179\tvalid_0's rmse: 1.64067\n",
      "[600]\tvalid_0's l2: 2.68899\tvalid_0's rmse: 1.63982\n",
      "Early stopping, best iteration is:\n",
      "[572]\tvalid_0's l2: 2.68867\tvalid_0's rmse: 1.63972\n",
      "Training until validation scores don't improve for 50 rounds.\n",
      "[100]\tvalid_0's l2: 2.68941\tvalid_0's rmse: 1.63994\n",
      "[200]\tvalid_0's l2: 2.64967\tvalid_0's rmse: 1.62778\n",
      "[300]\tvalid_0's l2: 2.64054\tvalid_0's rmse: 1.62497\n",
      "[400]\tvalid_0's l2: 2.63617\tvalid_0's rmse: 1.62363\n",
      "[500]\tvalid_0's l2: 2.63285\tvalid_0's rmse: 1.62261\n",
      "[600]\tvalid_0's l2: 2.63094\tvalid_0's rmse: 1.62202\n",
      "[700]\tvalid_0's l2: 2.62943\tvalid_0's rmse: 1.62155\n",
      "Early stopping, best iteration is:\n",
      "[737]\tvalid_0's l2: 2.62835\tvalid_0's rmse: 1.62122\n",
      "Training until validation scores don't improve for 50 rounds.\n",
      "[100]\tvalid_0's l2: 2.73656\tvalid_0's rmse: 1.65426\n",
      "[200]\tvalid_0's l2: 2.68549\tvalid_0's rmse: 1.63875\n",
      "[300]\tvalid_0's l2: 2.67338\tvalid_0's rmse: 1.63505\n",
      "[400]\tvalid_0's l2: 2.66282\tvalid_0's rmse: 1.63181\n",
      "[500]\tvalid_0's l2: 2.65965\tvalid_0's rmse: 1.63084\n",
      "[600]\tvalid_0's l2: 2.65858\tvalid_0's rmse: 1.63051\n",
      "Early stopping, best iteration is:\n",
      "[606]\tvalid_0's l2: 2.65824\tvalid_0's rmse: 1.63041\n",
      "Training until validation scores don't improve for 50 rounds.\n",
      "[100]\tvalid_0's l2: 2.67347\tvalid_0's rmse: 1.63507\n",
      "[200]\tvalid_0's l2: 2.63414\tvalid_0's rmse: 1.623\n",
      "[300]\tvalid_0's l2: 2.62133\tvalid_0's rmse: 1.61905\n",
      "[400]\tvalid_0's l2: 2.61449\tvalid_0's rmse: 1.61694\n",
      "[500]\tvalid_0's l2: 2.61191\tvalid_0's rmse: 1.61614\n",
      "Early stopping, best iteration is:\n",
      "[481]\tvalid_0's l2: 2.61109\tvalid_0's rmse: 1.61589\n",
      "Training until validation scores don't improve for 50 rounds.\n",
      "[100]\tvalid_0's l2: 2.79959\tvalid_0's rmse: 1.6732\n",
      "[200]\tvalid_0's l2: 2.75651\tvalid_0's rmse: 1.66027\n",
      "[300]\tvalid_0's l2: 2.74534\tvalid_0's rmse: 1.65691\n",
      "[400]\tvalid_0's l2: 2.73514\tvalid_0's rmse: 1.65383\n",
      "[500]\tvalid_0's l2: 2.73281\tvalid_0's rmse: 1.65312\n",
      "Early stopping, best iteration is:\n",
      "[530]\tvalid_0's l2: 2.73067\tvalid_0's rmse: 1.65248\n"
     ]
    },
    {
     "data": {
      "text/plain": [
       "1.6314694795822213"
      ]
     },
     "execution_count": 35,
     "metadata": {},
     "output_type": "execute_result"
    }
   ],
   "source": [
    "for fold_, (trn_, val_) in enumerate(folds):\n",
    "    trn_x, trn_y = train[train_features].iloc[trn_], y_reg.iloc[trn_]\n",
    "    val_x, val_y = train[train_features].iloc[val_], y_reg.iloc[val_]\n",
    "    \n",
    "    reg = lgb.LGBMRegressor(\n",
    "        num_leaves=31,\n",
    "        learning_rate=0.03,\n",
    "        n_estimators=1000,\n",
    "        subsample=.9,\n",
    "        colsample_bytree=.9,\n",
    "        random_state=1\n",
    "    )\n",
    "    reg.fit(\n",
    "        trn_x, np.log1p(trn_y),\n",
    "        eval_set=[(val_x, np.log1p(val_y))],\n",
    "        early_stopping_rounds=50,\n",
    "        verbose=100,\n",
    "        eval_metric='rmse'\n",
    "    )\n",
    "    imp_df = pd.DataFrame()\n",
    "    imp_df['feature'] = train_features\n",
    "    imp_df['gain'] = reg.booster_.feature_importance(importance_type='gain')\n",
    "    \n",
    "    imp_df['fold'] = fold_ + 1\n",
    "    importances = pd.concat([importances, imp_df], axis=0, sort=False)\n",
    "    \n",
    "    oof_reg_preds[val_] = reg.predict(val_x, num_iteration=reg.best_iteration_)\n",
    "    oof_reg_preds[oof_reg_preds < 0] = 0\n",
    "    _preds = reg.predict(test[train_features], num_iteration=reg.best_iteration_)\n",
    "    _preds[_preds < 0] = 0\n",
    "    sub_reg_preds += np.expm1(_preds) / len(folds)\n",
    "    \n",
    "mean_squared_error(np.log1p(y_reg), oof_reg_preds) ** .5"
   ]
  },
  {
   "cell_type": "markdown",
   "metadata": {
    "_uuid": "2b23cdb7ee1e35c6deba9edd6ffd87a4cdc72920"
   },
   "source": [
    "### Display feature importances"
   ]
  },
  {
   "cell_type": "code",
   "execution_count": 17,
   "metadata": {
    "_uuid": "61d4aacc57c2c7c4d9ce0b1cab7221ca7c69138f"
   },
   "outputs": [
    {
     "data": {
      "text/plain": [
       "<matplotlib.axes._subplots.AxesSubplot at 0x7f93bbc53b38>"
      ]
     },
     "execution_count": 17,
     "metadata": {},
     "output_type": "execute_result"
    },
    {
     "data": {
      "image/png": "[encoded data removed]",
      "text/plain": [
       "<Figure size 576x864 with 1 Axes>"
      ]
     },
     "metadata": {
      "needs_background": "light"
     },
     "output_type": "display_data"
    }
   ],
   "source": [
    "import warnings\n",
    "warnings.simplefilter('ignore', FutureWarning)\n",
    "\n",
    "importances['gain_log'] = np.log1p(importances['gain'])\n",
    "mean_gain = importances[['gain', 'feature']].groupby('feature').mean()\n",
    "importances['mean_gain'] = importances['feature'].map(mean_gain['gain'])\n",
    "\n",
    "plt.figure(figsize=(8, 12))\n",
    "sns.barplot(x='gain_log', y='feature', data=importances.sort_values('mean_gain', ascending=False))"
   ]
  },
  {
   "cell_type": "markdown",
   "metadata": {
    "_uuid": "c64447b5858dc899b6b78d26a4e68a8582995051"
   },
   "source": [
    "### Create user level predictions"
   ]
  },
  {
   "cell_type": "code",
   "execution_count": 36,
   "metadata": {
    "_uuid": "1fc92504b40407cff766489db1966e729d0466df"
   },
   "outputs": [],
   "source": [
    "train['predictions'] = np.expm1(oof_reg_preds)# out of fold,train on 80% of data, predict other 20% x 5\n",
    "test['predictions'] = sub_reg_preds #ave(5 folds, use best fit to predict on all of test data)"
   ]
  },
  {
   "cell_type": "code",
   "execution_count": 37,
   "metadata": {
    "_uuid": "515d3d14483844c93710fb6b6f9e39a6a2a1d384"
   },
   "outputs": [],
   "source": [
    "# Aggregate data at User level\n",
    "trn_data = train[train_features + ['fullVisitorId']].groupby('fullVisitorId').mean()"
   ]
  },
  {
   "cell_type": "code",
   "execution_count": 38,
   "metadata": {},
   "outputs": [
    {
     "data": {
      "text/html": [
       "<div>\n",
       "<style scoped>\n",
       "    .dataframe tbody tr th:only-of-type {\n",
       "        vertical-align: middle;\n",
       "    }\n",
       "\n",
       "    .dataframe tbody tr th {\n",
       "        vertical-align: top;\n",
       "    }\n",
       "\n",
       "    .dataframe thead th {\n",
       "        text-align: right;\n",
       "    }\n",
       "</style>\n",
       "<table border=\"1\" class=\"dataframe\">\n",
       "  <thead>\n",
       "    <tr style=\"text-align: right;\">\n",
       "      <th></th>\n",
       "      <th>channelGrouping</th>\n",
       "      <th>visitNumber</th>\n",
       "      <th>device.browser</th>\n",
       "      <th>device.deviceCategory</th>\n",
       "      <th>device.isMobile</th>\n",
       "      <th>device.operatingSystem</th>\n",
       "      <th>geoNetwork.city</th>\n",
       "      <th>geoNetwork.continent</th>\n",
       "      <th>geoNetwork.country</th>\n",
       "      <th>geoNetwork.metro</th>\n",
       "      <th>...</th>\n",
       "      <th>trafficSource.adContent</th>\n",
       "      <th>trafficSource.campaign</th>\n",
       "      <th>trafficSource.isTrueDirect</th>\n",
       "      <th>trafficSource.keyword</th>\n",
       "      <th>trafficSource.medium</th>\n",
       "      <th>trafficSource.referralPath</th>\n",
       "      <th>trafficSource.source</th>\n",
       "      <th>sess_date_dow</th>\n",
       "      <th>sess_date_hours</th>\n",
       "      <th>sess_date_dom</th>\n",
       "    </tr>\n",
       "    <tr>\n",
       "      <th>fullVisitorId</th>\n",
       "      <th></th>\n",
       "      <th></th>\n",
       "      <th></th>\n",
       "      <th></th>\n",
       "      <th></th>\n",
       "      <th></th>\n",
       "      <th></th>\n",
       "      <th></th>\n",
       "      <th></th>\n",
       "      <th></th>\n",
       "      <th></th>\n",
       "      <th></th>\n",
       "      <th></th>\n",
       "      <th></th>\n",
       "      <th></th>\n",
       "      <th></th>\n",
       "      <th></th>\n",
       "      <th></th>\n",
       "      <th></th>\n",
       "      <th></th>\n",
       "      <th></th>\n",
       "    </tr>\n",
       "  </thead>\n",
       "  <tbody>\n",
       "    <tr>\n",
       "      <th>0000010278554503158</th>\n",
       "      <td>0.0</td>\n",
       "      <td>1.0</td>\n",
       "      <td>0.0</td>\n",
       "      <td>0.0</td>\n",
       "      <td>0.0</td>\n",
       "      <td>1.0</td>\n",
       "      <td>1.0</td>\n",
       "      <td>1.0</td>\n",
       "      <td>69.0</td>\n",
       "      <td>1.0</td>\n",
       "      <td>...</td>\n",
       "      <td>-1.0</td>\n",
       "      <td>0.0</td>\n",
       "      <td>NaN</td>\n",
       "      <td>0.0</td>\n",
       "      <td>0.0</td>\n",
       "      <td>-1.0</td>\n",
       "      <td>0.0</td>\n",
       "      <td>4.0</td>\n",
       "      <td>5.0</td>\n",
       "      <td>21.0</td>\n",
       "    </tr>\n",
       "    <tr>\n",
       "      <th>0000020424342248747</th>\n",
       "      <td>0.0</td>\n",
       "      <td>1.0</td>\n",
       "      <td>0.0</td>\n",
       "      <td>0.0</td>\n",
       "      <td>0.0</td>\n",
       "      <td>0.0</td>\n",
       "      <td>46.0</td>\n",
       "      <td>3.0</td>\n",
       "      <td>42.0</td>\n",
       "      <td>0.0</td>\n",
       "      <td>...</td>\n",
       "      <td>-1.0</td>\n",
       "      <td>0.0</td>\n",
       "      <td>NaN</td>\n",
       "      <td>0.0</td>\n",
       "      <td>0.0</td>\n",
       "      <td>-1.0</td>\n",
       "      <td>0.0</td>\n",
       "      <td>3.0</td>\n",
       "      <td>7.0</td>\n",
       "      <td>1.0</td>\n",
       "    </tr>\n",
       "    <tr>\n",
       "      <th>0000027376579751715</th>\n",
       "      <td>0.0</td>\n",
       "      <td>1.0</td>\n",
       "      <td>0.0</td>\n",
       "      <td>0.0</td>\n",
       "      <td>0.0</td>\n",
       "      <td>1.0</td>\n",
       "      <td>1.0</td>\n",
       "      <td>3.0</td>\n",
       "      <td>33.0</td>\n",
       "      <td>1.0</td>\n",
       "      <td>...</td>\n",
       "      <td>-1.0</td>\n",
       "      <td>0.0</td>\n",
       "      <td>NaN</td>\n",
       "      <td>0.0</td>\n",
       "      <td>0.0</td>\n",
       "      <td>-1.0</td>\n",
       "      <td>0.0</td>\n",
       "      <td>6.0</td>\n",
       "      <td>2.0</td>\n",
       "      <td>12.0</td>\n",
       "    </tr>\n",
       "    <tr>\n",
       "      <th>0000039460501403861</th>\n",
       "      <td>6.0</td>\n",
       "      <td>1.0</td>\n",
       "      <td>0.0</td>\n",
       "      <td>0.0</td>\n",
       "      <td>0.0</td>\n",
       "      <td>0.0</td>\n",
       "      <td>1.0</td>\n",
       "      <td>3.0</td>\n",
       "      <td>11.0</td>\n",
       "      <td>1.0</td>\n",
       "      <td>...</td>\n",
       "      <td>-1.0</td>\n",
       "      <td>0.0</td>\n",
       "      <td>NaN</td>\n",
       "      <td>-1.0</td>\n",
       "      <td>1.0</td>\n",
       "      <td>72.0</td>\n",
       "      <td>25.0</td>\n",
       "      <td>0.0</td>\n",
       "      <td>15.0</td>\n",
       "      <td>27.0</td>\n",
       "    </tr>\n",
       "    <tr>\n",
       "      <th>0000040862739425590</th>\n",
       "      <td>2.0</td>\n",
       "      <td>1.5</td>\n",
       "      <td>0.0</td>\n",
       "      <td>0.0</td>\n",
       "      <td>0.0</td>\n",
       "      <td>1.0</td>\n",
       "      <td>111.0</td>\n",
       "      <td>3.0</td>\n",
       "      <td>33.0</td>\n",
       "      <td>3.0</td>\n",
       "      <td>...</td>\n",
       "      <td>-1.0</td>\n",
       "      <td>1.0</td>\n",
       "      <td>1.0</td>\n",
       "      <td>13.0</td>\n",
       "      <td>2.0</td>\n",
       "      <td>-1.0</td>\n",
       "      <td>0.0</td>\n",
       "      <td>5.0</td>\n",
       "      <td>18.0</td>\n",
       "      <td>11.0</td>\n",
       "    </tr>\n",
       "  </tbody>\n",
       "</table>\n",
       "<p>5 rows × 27 columns</p>\n",
       "</div>"
      ],
      "text/plain": [
       "                     channelGrouping  visitNumber  device.browser  \\\n",
       "fullVisitorId                                                       \n",
       "0000010278554503158              0.0          1.0             0.0   \n",
       "0000020424342248747              0.0          1.0             0.0   \n",
       "0000027376579751715              0.0          1.0             0.0   \n",
       "0000039460501403861              6.0          1.0             0.0   \n",
       "0000040862739425590              2.0          1.5             0.0   \n",
       "\n",
       "                     device.deviceCategory  device.isMobile  \\\n",
       "fullVisitorId                                                 \n",
       "0000010278554503158                    0.0              0.0   \n",
       "0000020424342248747                    0.0              0.0   \n",
       "0000027376579751715                    0.0              0.0   \n",
       "0000039460501403861                    0.0              0.0   \n",
       "0000040862739425590                    0.0              0.0   \n",
       "\n",
       "                     device.operatingSystem  geoNetwork.city  \\\n",
       "fullVisitorId                                                  \n",
       "0000010278554503158                     1.0              1.0   \n",
       "0000020424342248747                     0.0             46.0   \n",
       "0000027376579751715                     1.0              1.0   \n",
       "0000039460501403861                     0.0              1.0   \n",
       "0000040862739425590                     1.0            111.0   \n",
       "\n",
       "                     geoNetwork.continent  geoNetwork.country  \\\n",
       "fullVisitorId                                                   \n",
       "0000010278554503158                   1.0                69.0   \n",
       "0000020424342248747                   3.0                42.0   \n",
       "0000027376579751715                   3.0                33.0   \n",
       "0000039460501403861                   3.0                11.0   \n",
       "0000040862739425590                   3.0                33.0   \n",
       "\n",
       "                     geoNetwork.metro      ...        trafficSource.adContent  \\\n",
       "fullVisitorId                              ...                                  \n",
       "0000010278554503158               1.0      ...                           -1.0   \n",
       "0000020424342248747               0.0      ...                           -1.0   \n",
       "0000027376579751715               1.0      ...                           -1.0   \n",
       "0000039460501403861               1.0      ...                           -1.0   \n",
       "0000040862739425590               3.0      ...                           -1.0   \n",
       "\n",
       "                     trafficSource.campaign  trafficSource.isTrueDirect  \\\n",
       "fullVisitorId                                                             \n",
       "0000010278554503158                     0.0                         NaN   \n",
       "0000020424342248747                     0.0                         NaN   \n",
       "0000027376579751715                     0.0                         NaN   \n",
       "0000039460501403861                     0.0                         NaN   \n",
       "0000040862739425590                     1.0                         1.0   \n",
       "\n",
       "                     trafficSource.keyword  trafficSource.medium  \\\n",
       "fullVisitorId                                                      \n",
       "0000010278554503158                    0.0                   0.0   \n",
       "0000020424342248747                    0.0                   0.0   \n",
       "0000027376579751715                    0.0                   0.0   \n",
       "0000039460501403861                   -1.0                   1.0   \n",
       "0000040862739425590                   13.0                   2.0   \n",
       "\n",
       "                     trafficSource.referralPath  trafficSource.source  \\\n",
       "fullVisitorId                                                           \n",
       "0000010278554503158                        -1.0                   0.0   \n",
       "0000020424342248747                        -1.0                   0.0   \n",
       "0000027376579751715                        -1.0                   0.0   \n",
       "0000039460501403861                        72.0                  25.0   \n",
       "0000040862739425590                        -1.0                   0.0   \n",
       "\n",
       "                     sess_date_dow  sess_date_hours  sess_date_dom  \n",
       "fullVisitorId                                                       \n",
       "0000010278554503158            4.0              5.0           21.0  \n",
       "0000020424342248747            3.0              7.0            1.0  \n",
       "0000027376579751715            6.0              2.0           12.0  \n",
       "0000039460501403861            0.0             15.0           27.0  \n",
       "0000040862739425590            5.0             18.0           11.0  \n",
       "\n",
       "[5 rows x 27 columns]"
      ]
     },
     "execution_count": 38,
     "metadata": {},
     "output_type": "execute_result"
    }
   ],
   "source": [
    "trn_data.head()"
   ]
  },
  {
   "cell_type": "code",
   "execution_count": 39,
   "metadata": {
    "_uuid": "31d76001e77e3ee2e10e67a5bc899a83c4cfeb8d"
   },
   "outputs": [
    {
     "name": "stdout",
     "output_type": "stream",
     "text": [
      "CPU times: user 27.7 s, sys: 160 ms, total: 27.9 s\n",
      "Wall time: 27.9 s\n"
     ]
    }
   ],
   "source": [
    "%%time\n",
    "# Create a list of predictions for each Visitor\n",
    "trn_pred_list = train[['fullVisitorId', 'predictions']].groupby('fullVisitorId')\\\n",
    "    .apply(lambda df: list(df.predictions))\\\n",
    "    .apply(lambda x: {'pred_'+str(i): pred for i, pred in enumerate(x)})"
   ]
  },
  {
   "cell_type": "code",
   "execution_count": 42,
   "metadata": {
    "scrolled": true
   },
   "outputs": [
    {
     "data": {
      "text/plain": [
       "fullVisitorId\n",
       "0005096736076850458                                      {'pred_0': 0.0}\n",
       "0015065858137292339                     {'pred_0': 0.014368145639969396}\n",
       "0018131669611141208                       {'pred_0': 0.5091941841459183}\n",
       "0019595737093157672                        {'pred_0': 80.17896037209007}\n",
       "0042187268246961920                                      {'pred_0': 0.0}\n",
       "0057228682567989873                       {'pred_0': 0.8392808420177446}\n",
       "0063191589012692475                                      {'pred_0': 0.0}\n",
       "010089030391699708                     {'pred_0': 0.0036372982003840745}\n",
       "0113895825226302532                                      {'pred_0': 0.0}\n",
       "0129431257283813068                     {'pred_0': 0.023366492396325222}\n",
       "0131151074734304934                     {'pred_0': 0.009824860952351156}\n",
       "0131179127719119947                                      {'pred_0': 0.0}\n",
       "0185467632009737931    {'pred_0': 1.0128622280599109, 'pred_1': 35.12...\n",
       "0222416580106802736                        {'pred_0': 6.960861413210688}\n",
       "0233327970438842308                                      {'pred_0': 0.0}\n",
       "0235163185121505241                      {'pred_0': 0.20231863512781262}\n",
       "0239575343807682372                   {'pred_0': 0.00046401218171657666}\n",
       "0259347581822527605                                      {'pred_0': 0.0}\n",
       "0279061735787069658                                      {'pred_0': 0.0}\n",
       "0280238535388529584                                      {'pred_0': 0.0}\n",
       "0291367698246091951                      {'pred_0': 0.18869750977353972}\n",
       "0314733033105141755                        {'pred_0': 16.90427018470325}\n",
       "0324986642157335302                                      {'pred_0': 0.0}\n",
       "0326331894704342594                                      {'pred_0': 0.0}\n",
       "0334360546945417186                    {'pred_0': 0.0007891653506247247}\n",
       "0369009073977683421                                      {'pred_0': 0.0}\n",
       "0372293367991472845                     {'pred_0': 0.004076488791249453}\n",
       "0376226808798391185                       {'pred_0': 1.0427472002084146}\n",
       "0377252082666908306                                      {'pred_0': 0.0}\n",
       "0382673099726376315                                      {'pred_0': 0.0}\n",
       "                                             ...                        \n",
       "9713406509356101583    {'pred_0': 0.009984120241206634, 'pred_1': 2.4...\n",
       "9720159920091351756                      {'pred_0': 0.04947476645971778}\n",
       "9728692165997661197                                      {'pred_0': 0.0}\n",
       "9751981524420154777                                      {'pred_0': 0.0}\n",
       "9754532782260767990                     {'pred_0': 0.012662073785228574}\n",
       "9764446941948669349    {'pred_0': 0.007642284610686188, 'pred_1': 25....\n",
       "9766687616534671859                      {'pred_0': 0.05745008795184702}\n",
       "9769979708832471355                       {'pred_0': 0.2319692328610351}\n",
       "9772828344252850532                   {'pred_0': 3.7599874789126707e-05}\n",
       "978688880214456769                                       {'pred_0': 0.0}\n",
       "9801276214964695322                       {'pred_0': 0.5102963762723608}\n",
       "981335814973636193                      {'pred_0': 0.003549957787434144}\n",
       "982320996976275749                    {'pred_0': 3.7599874789126707e-05}\n",
       "9832971751514779402                     {'pred_0': 0.004537686327727822}\n",
       "9833487197981263914                                      {'pred_0': 0.0}\n",
       "9848106977532534405                                      {'pred_0': 0.0}\n",
       "9858648949352567729                        {'pred_0': 76.69381968605282}\n",
       "9870305678537397476                                      {'pred_0': 0.0}\n",
       "9874029322760071744                                      {'pred_0': 0.0}\n",
       "9876750586615598787                                      {'pred_0': 0.0}\n",
       "9899597990499329329                                      {'pred_0': 0.0}\n",
       "9915610176563106076                       {'pred_0': 0.5908503563999494}\n",
       "9929807646390802668                    {'pred_0': 0.0004148858541581233}\n",
       "9951675044734502684                      {'pred_0': 0.00888638669079135}\n",
       "9959189454218257461                    {'pred_0': 0.0003016526988867814}\n",
       "9960353142606371996                         {'pred_0': 21.9296418677544}\n",
       "9966505186635465691                     {'pred_0': 0.000587954248654451}\n",
       "9976108007685501102                                      {'pred_0': 0.0}\n",
       "9987056085213279488                                      {'pred_0': 0.0}\n",
       "9991882289486375263                                      {'pred_0': 0.0}\n",
       "Length: 944, dtype: object"
      ]
     },
     "execution_count": 42,
     "metadata": {},
     "output_type": "execute_result"
    }
   ],
   "source": [
    "train[['fullVisitorId', 'predictions']].head(1000).groupby('fullVisitorId')\\\n",
    "    .apply(lambda df: list(df.predictions))\\\n",
    "    .apply(lambda x: {'pred_'+str(i): pred for i, pred in enumerate(x)})"
   ]
  },
  {
   "cell_type": "code",
   "execution_count": 46,
   "metadata": {
    "_uuid": "b8f1bac1ef32a58f70aa7bcca79acc7119ddcfb5"
   },
   "outputs": [
    {
     "data": {
      "text/plain": [
       "(714167, 310)"
      ]
     },
     "execution_count": 46,
     "metadata": {},
     "output_type": "execute_result"
    }
   ],
   "source": [
    "# Create a DataFrame with VisitorId as index\n",
    "# trn_pred_list contains dict \n",
    "# so creating a dataframe from it will expand dict values into columns\n",
    "trn_all_predictions = pd.DataFrame(list(trn_pred_list.values), index=trn_data.index)\n",
    "trn_feats = trn_all_predictions.columns\n",
    "trn_all_predictions['t_mean'] = np.log1p(trn_all_predictions[trn_feats].mean(axis=1))\n",
    "trn_all_predictions['t_median'] = np.log1p(trn_all_predictions[trn_feats].median(axis=1))\n",
    "trn_all_predictions['t_sum_log'] = np.log1p(trn_all_predictions[trn_feats]).sum(axis=1)\n",
    "trn_all_predictions['t_sum_act'] = np.log1p(trn_all_predictions[trn_feats].fillna(0).sum(axis=1))\n",
    "trn_all_predictions['t_nb_sess'] = trn_all_predictions[trn_feats].isnull().sum(axis=1)\n",
    "full_data = pd.concat([trn_data, trn_all_predictions], axis=1)\n",
    "del trn_data, trn_all_predictions\n",
    "gc.collect()\n",
    "full_data.shape"
   ]
  },
  {
   "cell_type": "code",
   "execution_count": 49,
   "metadata": {},
   "outputs": [
    {
     "data": {
      "text/html": [
       "<div>\n",
       "<style scoped>\n",
       "    .dataframe tbody tr th:only-of-type {\n",
       "        vertical-align: middle;\n",
       "    }\n",
       "\n",
       "    .dataframe tbody tr th {\n",
       "        vertical-align: top;\n",
       "    }\n",
       "\n",
       "    .dataframe thead th {\n",
       "        text-align: right;\n",
       "    }\n",
       "</style>\n",
       "<table border=\"1\" class=\"dataframe\">\n",
       "  <thead>\n",
       "    <tr style=\"text-align: right;\">\n",
       "      <th></th>\n",
       "      <th>channelGrouping</th>\n",
       "      <th>visitNumber</th>\n",
       "      <th>device.browser</th>\n",
       "      <th>device.deviceCategory</th>\n",
       "      <th>device.isMobile</th>\n",
       "      <th>device.operatingSystem</th>\n",
       "      <th>geoNetwork.city</th>\n",
       "      <th>geoNetwork.continent</th>\n",
       "      <th>geoNetwork.country</th>\n",
       "      <th>geoNetwork.metro</th>\n",
       "      <th>...</th>\n",
       "      <th>pred_95</th>\n",
       "      <th>pred_96</th>\n",
       "      <th>pred_97</th>\n",
       "      <th>pred_98</th>\n",
       "      <th>pred_99</th>\n",
       "      <th>t_mean</th>\n",
       "      <th>t_median</th>\n",
       "      <th>t_sum_log</th>\n",
       "      <th>t_sum_act</th>\n",
       "      <th>t_nb_sess</th>\n",
       "    </tr>\n",
       "    <tr>\n",
       "      <th>fullVisitorId</th>\n",
       "      <th></th>\n",
       "      <th></th>\n",
       "      <th></th>\n",
       "      <th></th>\n",
       "      <th></th>\n",
       "      <th></th>\n",
       "      <th></th>\n",
       "      <th></th>\n",
       "      <th></th>\n",
       "      <th></th>\n",
       "      <th></th>\n",
       "      <th></th>\n",
       "      <th></th>\n",
       "      <th></th>\n",
       "      <th></th>\n",
       "      <th></th>\n",
       "      <th></th>\n",
       "      <th></th>\n",
       "      <th></th>\n",
       "      <th></th>\n",
       "      <th></th>\n",
       "    </tr>\n",
       "  </thead>\n",
       "  <tbody>\n",
       "    <tr>\n",
       "      <th>0000010278554503158</th>\n",
       "      <td>0.0</td>\n",
       "      <td>1.0</td>\n",
       "      <td>0.0</td>\n",
       "      <td>0.0</td>\n",
       "      <td>0.0</td>\n",
       "      <td>1.0</td>\n",
       "      <td>1.0</td>\n",
       "      <td>1.0</td>\n",
       "      <td>69.0</td>\n",
       "      <td>1.0</td>\n",
       "      <td>...</td>\n",
       "      <td>NaN</td>\n",
       "      <td>NaN</td>\n",
       "      <td>NaN</td>\n",
       "      <td>NaN</td>\n",
       "      <td>NaN</td>\n",
       "      <td>0.000000</td>\n",
       "      <td>0.000000</td>\n",
       "      <td>0.000000</td>\n",
       "      <td>0.000000</td>\n",
       "      <td>277</td>\n",
       "    </tr>\n",
       "    <tr>\n",
       "      <th>0000020424342248747</th>\n",
       "      <td>0.0</td>\n",
       "      <td>1.0</td>\n",
       "      <td>0.0</td>\n",
       "      <td>0.0</td>\n",
       "      <td>0.0</td>\n",
       "      <td>0.0</td>\n",
       "      <td>46.0</td>\n",
       "      <td>3.0</td>\n",
       "      <td>42.0</td>\n",
       "      <td>0.0</td>\n",
       "      <td>...</td>\n",
       "      <td>NaN</td>\n",
       "      <td>NaN</td>\n",
       "      <td>NaN</td>\n",
       "      <td>NaN</td>\n",
       "      <td>NaN</td>\n",
       "      <td>0.000000</td>\n",
       "      <td>0.000000</td>\n",
       "      <td>0.000000</td>\n",
       "      <td>0.000000</td>\n",
       "      <td>277</td>\n",
       "    </tr>\n",
       "    <tr>\n",
       "      <th>0000027376579751715</th>\n",
       "      <td>0.0</td>\n",
       "      <td>1.0</td>\n",
       "      <td>0.0</td>\n",
       "      <td>0.0</td>\n",
       "      <td>0.0</td>\n",
       "      <td>1.0</td>\n",
       "      <td>1.0</td>\n",
       "      <td>3.0</td>\n",
       "      <td>33.0</td>\n",
       "      <td>1.0</td>\n",
       "      <td>...</td>\n",
       "      <td>NaN</td>\n",
       "      <td>NaN</td>\n",
       "      <td>NaN</td>\n",
       "      <td>NaN</td>\n",
       "      <td>NaN</td>\n",
       "      <td>0.004820</td>\n",
       "      <td>0.004820</td>\n",
       "      <td>0.004820</td>\n",
       "      <td>0.004820</td>\n",
       "      <td>277</td>\n",
       "    </tr>\n",
       "    <tr>\n",
       "      <th>0000039460501403861</th>\n",
       "      <td>6.0</td>\n",
       "      <td>1.0</td>\n",
       "      <td>0.0</td>\n",
       "      <td>0.0</td>\n",
       "      <td>0.0</td>\n",
       "      <td>0.0</td>\n",
       "      <td>1.0</td>\n",
       "      <td>3.0</td>\n",
       "      <td>11.0</td>\n",
       "      <td>1.0</td>\n",
       "      <td>...</td>\n",
       "      <td>NaN</td>\n",
       "      <td>NaN</td>\n",
       "      <td>NaN</td>\n",
       "      <td>NaN</td>\n",
       "      <td>NaN</td>\n",
       "      <td>0.000014</td>\n",
       "      <td>0.000014</td>\n",
       "      <td>0.000014</td>\n",
       "      <td>0.000014</td>\n",
       "      <td>277</td>\n",
       "    </tr>\n",
       "    <tr>\n",
       "      <th>0000040862739425590</th>\n",
       "      <td>2.0</td>\n",
       "      <td>1.5</td>\n",
       "      <td>0.0</td>\n",
       "      <td>0.0</td>\n",
       "      <td>0.0</td>\n",
       "      <td>1.0</td>\n",
       "      <td>111.0</td>\n",
       "      <td>3.0</td>\n",
       "      <td>33.0</td>\n",
       "      <td>3.0</td>\n",
       "      <td>...</td>\n",
       "      <td>NaN</td>\n",
       "      <td>NaN</td>\n",
       "      <td>NaN</td>\n",
       "      <td>NaN</td>\n",
       "      <td>NaN</td>\n",
       "      <td>0.006622</td>\n",
       "      <td>0.006622</td>\n",
       "      <td>0.013238</td>\n",
       "      <td>0.013200</td>\n",
       "      <td>276</td>\n",
       "    </tr>\n",
       "  </tbody>\n",
       "</table>\n",
       "<p>5 rows × 310 columns</p>\n",
       "</div>"
      ],
      "text/plain": [
       "                     channelGrouping  visitNumber  device.browser  \\\n",
       "fullVisitorId                                                       \n",
       "0000010278554503158              0.0          1.0             0.0   \n",
       "0000020424342248747              0.0          1.0             0.0   \n",
       "0000027376579751715              0.0          1.0             0.0   \n",
       "0000039460501403861              6.0          1.0             0.0   \n",
       "0000040862739425590              2.0          1.5             0.0   \n",
       "\n",
       "                     device.deviceCategory  device.isMobile  \\\n",
       "fullVisitorId                                                 \n",
       "0000010278554503158                    0.0              0.0   \n",
       "0000020424342248747                    0.0              0.0   \n",
       "0000027376579751715                    0.0              0.0   \n",
       "0000039460501403861                    0.0              0.0   \n",
       "0000040862739425590                    0.0              0.0   \n",
       "\n",
       "                     device.operatingSystem  geoNetwork.city  \\\n",
       "fullVisitorId                                                  \n",
       "0000010278554503158                     1.0              1.0   \n",
       "0000020424342248747                     0.0             46.0   \n",
       "0000027376579751715                     1.0              1.0   \n",
       "0000039460501403861                     0.0              1.0   \n",
       "0000040862739425590                     1.0            111.0   \n",
       "\n",
       "                     geoNetwork.continent  geoNetwork.country  \\\n",
       "fullVisitorId                                                   \n",
       "0000010278554503158                   1.0                69.0   \n",
       "0000020424342248747                   3.0                42.0   \n",
       "0000027376579751715                   3.0                33.0   \n",
       "0000039460501403861                   3.0                11.0   \n",
       "0000040862739425590                   3.0                33.0   \n",
       "\n",
       "                     geoNetwork.metro    ...      pred_95  pred_96  pred_97  \\\n",
       "fullVisitorId                            ...                                  \n",
       "0000010278554503158               1.0    ...          NaN      NaN      NaN   \n",
       "0000020424342248747               0.0    ...          NaN      NaN      NaN   \n",
       "0000027376579751715               1.0    ...          NaN      NaN      NaN   \n",
       "0000039460501403861               1.0    ...          NaN      NaN      NaN   \n",
       "0000040862739425590               3.0    ...          NaN      NaN      NaN   \n",
       "\n",
       "                     pred_98  pred_99    t_mean  t_median  t_sum_log  \\\n",
       "fullVisitorId                                                          \n",
       "0000010278554503158      NaN      NaN  0.000000  0.000000   0.000000   \n",
       "0000020424342248747      NaN      NaN  0.000000  0.000000   0.000000   \n",
       "0000027376579751715      NaN      NaN  0.004820  0.004820   0.004820   \n",
       "0000039460501403861      NaN      NaN  0.000014  0.000014   0.000014   \n",
       "0000040862739425590      NaN      NaN  0.006622  0.006622   0.013238   \n",
       "\n",
       "                     t_sum_act  t_nb_sess  \n",
       "fullVisitorId                              \n",
       "0000010278554503158   0.000000        277  \n",
       "0000020424342248747   0.000000        277  \n",
       "0000027376579751715   0.004820        277  \n",
       "0000039460501403861   0.000014        277  \n",
       "0000040862739425590   0.013200        276  \n",
       "\n",
       "[5 rows x 310 columns]"
      ]
     },
     "execution_count": 49,
     "metadata": {},
     "output_type": "execute_result"
    }
   ],
   "source": [
    "full_data.head()"
   ]
  },
  {
   "cell_type": "code",
   "execution_count": 50,
   "metadata": {
    "_uuid": "12a86e1f61f819417bede61f3746366b5028222f"
   },
   "outputs": [
    {
     "name": "stdout",
     "output_type": "stream",
     "text": [
      "CPU times: user 24.4 s, sys: 140 ms, total: 24.5 s\n",
      "Wall time: 23.8 s\n"
     ]
    }
   ],
   "source": [
    "%%time\n",
    "sub_pred_list = test[['fullVisitorId', 'predictions']].groupby('fullVisitorId')\\\n",
    "    .apply(lambda df: list(df.predictions))\\\n",
    "    .apply(lambda x: {'pred_'+str(i): pred for i, pred in enumerate(x)})"
   ]
  },
  {
   "cell_type": "code",
   "execution_count": 51,
   "metadata": {
    "_uuid": "611f2a86ffff5947b6863818538577b58f099535"
   },
   "outputs": [
    {
     "data": {
      "text/plain": [
       "(617242, 310)"
      ]
     },
     "execution_count": 51,
     "metadata": {},
     "output_type": "execute_result"
    }
   ],
   "source": [
    "sub_data = test[train_features + ['fullVisitorId']].groupby('fullVisitorId').mean()\n",
    "sub_all_predictions = pd.DataFrame(list(sub_pred_list.values), index=sub_data.index)\n",
    "for f in trn_feats:\n",
    "    if f not in sub_all_predictions.columns:\n",
    "        sub_all_predictions[f] = np.nan\n",
    "sub_all_predictions['t_mean'] = np.log1p(sub_all_predictions[trn_feats].mean(axis=1))\n",
    "sub_all_predictions['t_median'] = np.log1p(sub_all_predictions[trn_feats].median(axis=1))\n",
    "sub_all_predictions['t_sum_log'] = np.log1p(sub_all_predictions[trn_feats]).sum(axis=1)\n",
    "sub_all_predictions['t_sum_act'] = np.log1p(sub_all_predictions[trn_feats].fillna(0).sum(axis=1))\n",
    "sub_all_predictions['t_nb_sess'] = sub_all_predictions[trn_feats].isnull().sum(axis=1)\n",
    "sub_full_data = pd.concat([sub_data, sub_all_predictions], axis=1)\n",
    "del sub_data, sub_all_predictions\n",
    "gc.collect()\n",
    "sub_full_data.shape"
   ]
  },
  {
   "cell_type": "markdown",
   "metadata": {
    "_uuid": "c901512b911c731113c0515e97ce80ddf7b7f118"
   },
   "source": [
    "### Create target at Visitor level"
   ]
  },
  {
   "cell_type": "code",
   "execution_count": 52,
   "metadata": {
    "_uuid": "bf3b05a18f83821d12d05500f8e0e52f0603d6c5"
   },
   "outputs": [],
   "source": [
    "train['target'] = y_reg\n",
    "trn_user_target = train[['fullVisitorId', 'target']].groupby('fullVisitorId').sum()"
   ]
  },
  {
   "cell_type": "markdown",
   "metadata": {
    "_uuid": "73a0db5cfa89fa95a120d6c02b768272f30bca2b"
   },
   "source": [
    "### Train a model at Visitor level"
   ]
  },
  {
   "cell_type": "code",
   "execution_count": 54,
   "metadata": {
    "_uuid": "236f5546dfad2fee431a28534ef57cf8fec249ec"
   },
   "outputs": [
    {
     "name": "stdout",
     "output_type": "stream",
     "text": [
      "[     0      1      2 ... 714164 714165 714166]\n",
      "Training until validation scores don't improve for 50 rounds.\n",
      "[100]\tTRAIN's l2: 2.37341\tTRAIN's rmse: 1.54059\tVALID's l2: 2.50652\tVALID's rmse: 1.5832\n",
      "Early stopping, best iteration is:\n",
      "[132]\tTRAIN's l2: 2.3265\tTRAIN's rmse: 1.52529\tVALID's l2: 2.50196\tVALID's rmse: 1.58176\n",
      "Training until validation scores don't improve for 50 rounds.\n",
      "[100]\tTRAIN's l2: 2.3665\tTRAIN's rmse: 1.53834\tVALID's l2: 2.51758\tVALID's rmse: 1.58669\n",
      "Early stopping, best iteration is:\n",
      "[128]\tTRAIN's l2: 2.32703\tTRAIN's rmse: 1.52546\tVALID's l2: 2.5115\tVALID's rmse: 1.58477\n",
      "Training until validation scores don't improve for 50 rounds.\n",
      "[100]\tTRAIN's l2: 2.36064\tTRAIN's rmse: 1.53644\tVALID's l2: 2.53618\tVALID's rmse: 1.59254\n",
      "[200]\tTRAIN's l2: 2.25517\tTRAIN's rmse: 1.50172\tVALID's l2: 2.53228\tVALID's rmse: 1.59131\n",
      "Early stopping, best iteration is:\n",
      "[157]\tTRAIN's l2: 2.28981\tTRAIN's rmse: 1.51321\tVALID's l2: 2.53108\tVALID's rmse: 1.59094\n",
      "Training until validation scores don't improve for 50 rounds.\n",
      "[100]\tTRAIN's l2: 2.38004\tTRAIN's rmse: 1.54274\tVALID's l2: 2.4512\tVALID's rmse: 1.56563\n",
      "Early stopping, best iteration is:\n",
      "[134]\tTRAIN's l2: 2.33112\tTRAIN's rmse: 1.5268\tVALID's l2: 2.44867\tVALID's rmse: 1.56482\n",
      "Training until validation scores don't improve for 50 rounds.\n",
      "[100]\tTRAIN's l2: 2.35571\tTRAIN's rmse: 1.53483\tVALID's l2: 2.5513\tVALID's rmse: 1.59728\n",
      "Early stopping, best iteration is:\n",
      "[129]\tTRAIN's l2: 2.31445\tTRAIN's rmse: 1.52133\tVALID's l2: 2.54804\tVALID's rmse: 1.59626\n"
     ]
    },
    {
     "data": {
      "text/plain": [
       "1.583744448178488"
      ]
     },
     "execution_count": 54,
     "metadata": {},
     "output_type": "execute_result"
    }
   ],
   "source": [
    "folds = get_folds(df=full_data[['totals.pageviews']].reset_index(), n_splits=5)\n",
    "\n",
    "oof_preds = np.zeros(full_data.shape[0])\n",
    "sub_preds = np.zeros(sub_full_data.shape[0])\n",
    "vis_importances = pd.DataFrame()\n",
    "\n",
    "for fold_, (trn_, val_) in enumerate(folds):\n",
    "    trn_x, trn_y = full_data.iloc[trn_], trn_user_target['target'].iloc[trn_]\n",
    "    val_x, val_y = full_data.iloc[val_], trn_user_target['target'].iloc[val_]\n",
    "    \n",
    "    reg = lgb.LGBMRegressor(\n",
    "        num_leaves=31,\n",
    "        learning_rate=0.03,\n",
    "        n_estimators=1000,\n",
    "        subsample=.9,\n",
    "        colsample_bytree=.9,\n",
    "        random_state=1\n",
    "    )\n",
    "    reg.fit(\n",
    "        trn_x, np.log1p(trn_y),\n",
    "        eval_set=[(trn_x, np.log1p(trn_y)), (val_x, np.log1p(val_y))],\n",
    "        eval_names=['TRAIN', 'VALID'],\n",
    "        early_stopping_rounds=50,\n",
    "        eval_metric='rmse',\n",
    "        verbose=100\n",
    "    )\n",
    "    \n",
    "    imp_df = pd.DataFrame()\n",
    "    imp_df['feature'] = trn_x.columns\n",
    "    imp_df['gain'] = reg.booster_.feature_importance(importance_type='gain')\n",
    "    \n",
    "    imp_df['fold'] = fold_ + 1\n",
    "    vis_importances = pd.concat([vis_importances, imp_df], axis=0, sort=False)\n",
    "    \n",
    "    oof_preds[val_] = reg.predict(val_x, num_iteration=reg.best_iteration_)\n",
    "    oof_preds[oof_preds < 0] = 0\n",
    "    \n",
    "    # Make sure features are in the same order\n",
    "    _preds = reg.predict(sub_full_data[full_data.columns], num_iteration=reg.best_iteration_)\n",
    "    _preds[_preds < 0] = 0\n",
    "    sub_preds += _preds / len(folds)\n",
    "    \n",
    "mean_squared_error(np.log1p(trn_user_target['target']), oof_preds) ** .5"
   ]
  },
  {
   "cell_type": "markdown",
   "metadata": {
    "_uuid": "8a334da6d1b615108f7d7200a8268bd2aff52d65"
   },
   "source": [
    "### Display feature importances"
   ]
  },
  {
   "cell_type": "code",
   "execution_count": 55,
   "metadata": {
    "_uuid": "c9722bdf108cf510b6f59db3d99e406790c99194"
   },
   "outputs": [
    {
     "name": "stderr",
     "output_type": "stream",
     "text": [
      "/home/ec2-user/anaconda3/lib/python3.7/site-packages/scipy/stats/stats.py:1713: FutureWarning: Using a non-tuple sequence for multidimensional indexing is deprecated; use `arr[tuple(seq)]` instead of `arr[seq]`. In the future this will be interpreted as an array index, `arr[np.array(seq)]`, which will result either in an error or a different result.\n",
      "  return np.add.reduce(sorted[indexer] * weights, axis=axis) / sumval\n"
     ]
    },
    {
     "data": {
      "text/plain": [
       "<matplotlib.axes._subplots.AxesSubplot at 0x7fd6cd149a20>"
      ]
     },
     "execution_count": 55,
     "metadata": {},
     "output_type": "execute_result"
    },
    {
     "data": {
      "image/png": "[encoded data removed]",
      "text/plain": [
       "<Figure size 576x1800 with 1 Axes>"
      ]
     },
     "metadata": {
      "needs_background": "light"
     },
     "output_type": "display_data"
    }
   ],
   "source": [
    "vis_importances['gain_log'] = np.log1p(vis_importances['gain'])\n",
    "mean_gain = vis_importances[['gain', 'feature']].groupby('feature').mean()\n",
    "vis_importances['mean_gain'] = vis_importances['feature'].map(mean_gain['gain'])\n",
    "\n",
    "plt.figure(figsize=(8, 25))\n",
    "sns.barplot(x='gain_log', y='feature', data=vis_importances.sort_values('mean_gain', ascending=False).iloc[:300])"
   ]
  },
  {
   "cell_type": "markdown",
   "metadata": {
    "_uuid": "dbd81ac5df63f2c94c00e678b00dd7993d06df6f"
   },
   "source": [
    "### Save predictions"
   ]
  },
  {
   "cell_type": "code",
   "execution_count": 27,
   "metadata": {
    "_uuid": "feb757b51ac10132118cc0db22f7adda70f0913f"
   },
   "outputs": [],
   "source": [
    "sub_full_data['PredictedLogRevenue'] = sub_preds\n",
    "sub_full_data[['PredictedLogRevenue']].to_csv('new_test.csv', index=True)"
   ]
  },
  {
   "cell_type": "markdown",
   "metadata": {},
   "source": []
  }
 ],
 "metadata": {
  "kernelspec": {
   "display_name": "Python 3",
   "language": "python",
   "name": "python3"
  },
  "language_info": {
   "codemirror_mode": {
    "name": "ipython",
    "version": 3
   },
   "file_extension": ".py",
   "mimetype": "text/x-python",
   "name": "python",
   "nbconvert_exporter": "python",
   "pygments_lexer": "ipython3",
   "version": "3.7.0"
  }
 },
 "nbformat": 4,
 "nbformat_minor": 1
}
