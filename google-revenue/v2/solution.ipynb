{
 "cells": [
  {
   "cell_type": "markdown",
   "metadata": {
    "_uuid": "a4176bdb948cbe9f4ac9375d537bcb5bd1d9e543"
   },
   "source": [
    "# Used in this kernel:\n",
    "* preprocessed dataset by olivier https://www.kaggle.com/ogrellier/create-extracted-json-fields-dataset\n",
    "* exported google analytics data https://www.kaggle.com/satian/exported-google-analytics-data\n",
    "\n",
    "\n",
    "* story of a leak v.01 https://www.kaggle.com/igauty/story-of-a-leak-v01\n",
    "* future is here https://www.kaggle.com/ashishpatel26/future-is-here\n",
    "* teach-lightgbm-to-sum-predictions https://www.kaggle.com/satian/story-of-a-leak/notebook\n",
    "* Thanks for karkun : https://www.kaggle.com/karkun/sergey-ivanov-msu-mmp/\n",
    "\n",
    "\n",
    "The code below is full of bugs, which I didn't remove as they seem to improve LB."
   ]
  },
  {
   "cell_type": "code",
   "execution_count": 1,
   "metadata": {
    "ExecuteTime": {
     "end_time": "2018-10-14T10:14:20.374807Z",
     "start_time": "2018-10-14T10:14:18.330773Z"
    },
    "_uuid": "b016d39d81044ee10dc2db1e96effe796ab436c7"
   },
   "outputs": [],
   "source": [
    "import pandas as pd\n",
    "import numpy as np\n",
    "\n",
    "# DRAGONS\n",
    "import xgboost as xgb\n",
    "import lightgbm as lgb\n",
    "import catboost as cat\n",
    "\n",
    "# plots\n",
    "import seaborn as sns\n",
    "import matplotlib.pyplot as plt\n",
    "%matplotlib inline\n",
    "\n",
    "# pandas / plt options\n",
    "pd.options.display.max_columns = 999\n",
    "plt.rcParams['figure.figsize'] = (14, 7)\n",
    "font = {'family' : 'verdana',\n",
    "        'weight' : 'bold',\n",
    "        'size'   : 14}\n",
    "plt.rc('font', **font)\n",
    "\n",
    "# remove warnings\n",
    "import warnings\n",
    "warnings.simplefilter(\"ignore\")\n",
    "\n",
    "# garbage collector\n",
    "import gc\n",
    "gc.enable()"
   ]
  },
  {
   "cell_type": "markdown",
   "metadata": {
    "_uuid": "dbc90dc52990c378a98005c2e07b8acc9a48e820"
   },
   "source": [
    "# Loading data"
   ]
  },
  {
   "cell_type": "code",
   "execution_count": 2,
   "metadata": {
    "ExecuteTime": {
     "end_time": "2018-10-14T10:14:30.266681Z",
     "start_time": "2018-10-14T10:14:20.378792Z"
    },
    "_uuid": "7f6b083fcf773198924ff26d53f2d39ed1ec2dd5"
   },
   "outputs": [
    {
     "data": {
      "text/plain": [
       "((903653, 30), (804684, 30))"
      ]
     },
     "execution_count": 2,
     "metadata": {},
     "output_type": "execute_result"
    }
   ],
   "source": [
    "train = pd.read_csv('../input/extracted_fields_train.gz', dtype={'date': str, 'fullVisitorId': str, 'sessionId':str, 'visitId': np.int64})\n",
    "test = pd.read_csv('../input/extracted_fields_test.gz', dtype={'date': str, 'fullVisitorId': str, 'sessionId':str, 'visitId': np.int64})\n",
    "train.shape, test.shape"
   ]
  },
  {
   "cell_type": "code",
   "execution_count": 3,
   "metadata": {
    "ExecuteTime": {
     "end_time": "2018-10-14T10:14:30.297664Z",
     "start_time": "2018-10-14T10:14:30.267681Z"
    },
    "_uuid": "12834063b05cfd19329161414b0ebdd071213c7e"
   },
   "outputs": [
    {
     "data": {
      "text/html": [
       "<div>\n",
       "<style scoped>\n",
       "    .dataframe tbody tr th:only-of-type {\n",
       "        vertical-align: middle;\n",
       "    }\n",
       "\n",
       "    .dataframe tbody tr th {\n",
       "        vertical-align: top;\n",
       "    }\n",
       "\n",
       "    .dataframe thead th {\n",
       "        text-align: right;\n",
       "    }\n",
       "</style>\n",
       "<table border=\"1\" class=\"dataframe\">\n",
       "  <thead>\n",
       "    <tr style=\"text-align: right;\">\n",
       "      <th></th>\n",
       "      <th>channelGrouping</th>\n",
       "      <th>date</th>\n",
       "      <th>fullVisitorId</th>\n",
       "      <th>sessionId</th>\n",
       "      <th>visitId</th>\n",
       "      <th>visitNumber</th>\n",
       "      <th>visitStartTime</th>\n",
       "      <th>device.browser</th>\n",
       "      <th>device.deviceCategory</th>\n",
       "      <th>device.isMobile</th>\n",
       "      <th>device.operatingSystem</th>\n",
       "      <th>geoNetwork.city</th>\n",
       "      <th>geoNetwork.continent</th>\n",
       "      <th>geoNetwork.country</th>\n",
       "      <th>geoNetwork.metro</th>\n",
       "      <th>geoNetwork.networkDomain</th>\n",
       "      <th>geoNetwork.region</th>\n",
       "      <th>geoNetwork.subContinent</th>\n",
       "      <th>totals.bounces</th>\n",
       "      <th>totals.hits</th>\n",
       "      <th>totals.newVisits</th>\n",
       "      <th>totals.pageviews</th>\n",
       "      <th>totals.transactionRevenue</th>\n",
       "      <th>trafficSource.adContent</th>\n",
       "      <th>trafficSource.campaign</th>\n",
       "      <th>trafficSource.isTrueDirect</th>\n",
       "      <th>trafficSource.keyword</th>\n",
       "      <th>trafficSource.medium</th>\n",
       "      <th>trafficSource.referralPath</th>\n",
       "      <th>trafficSource.source</th>\n",
       "    </tr>\n",
       "  </thead>\n",
       "  <tbody>\n",
       "    <tr>\n",
       "      <th>0</th>\n",
       "      <td>Organic Search</td>\n",
       "      <td>20160902</td>\n",
       "      <td>1131660440785968503</td>\n",
       "      <td>1131660440785968503_1472830385</td>\n",
       "      <td>1472830385</td>\n",
       "      <td>1.0</td>\n",
       "      <td>1.472830e+09</td>\n",
       "      <td>Chrome</td>\n",
       "      <td>desktop</td>\n",
       "      <td>0.0</td>\n",
       "      <td>Windows</td>\n",
       "      <td>Izmir</td>\n",
       "      <td>Asia</td>\n",
       "      <td>Turkey</td>\n",
       "      <td>(not set)</td>\n",
       "      <td>ttnet.com.tr</td>\n",
       "      <td>Izmir</td>\n",
       "      <td>Western Asia</td>\n",
       "      <td>1.0</td>\n",
       "      <td>1.0</td>\n",
       "      <td>1.0</td>\n",
       "      <td>1.0</td>\n",
       "      <td>NaN</td>\n",
       "      <td>NaN</td>\n",
       "      <td>(not set)</td>\n",
       "      <td>NaN</td>\n",
       "      <td>(not provided)</td>\n",
       "      <td>organic</td>\n",
       "      <td>NaN</td>\n",
       "      <td>google</td>\n",
       "    </tr>\n",
       "    <tr>\n",
       "      <th>1</th>\n",
       "      <td>Organic Search</td>\n",
       "      <td>20160902</td>\n",
       "      <td>377306020877927890</td>\n",
       "      <td>377306020877927890_1472880147</td>\n",
       "      <td>1472880147</td>\n",
       "      <td>1.0</td>\n",
       "      <td>1.472880e+09</td>\n",
       "      <td>Firefox</td>\n",
       "      <td>desktop</td>\n",
       "      <td>0.0</td>\n",
       "      <td>Macintosh</td>\n",
       "      <td>not available in demo dataset</td>\n",
       "      <td>Oceania</td>\n",
       "      <td>Australia</td>\n",
       "      <td>not available in demo dataset</td>\n",
       "      <td>dodo.net.au</td>\n",
       "      <td>not available in demo dataset</td>\n",
       "      <td>Australasia</td>\n",
       "      <td>1.0</td>\n",
       "      <td>1.0</td>\n",
       "      <td>1.0</td>\n",
       "      <td>1.0</td>\n",
       "      <td>NaN</td>\n",
       "      <td>NaN</td>\n",
       "      <td>(not set)</td>\n",
       "      <td>NaN</td>\n",
       "      <td>(not provided)</td>\n",
       "      <td>organic</td>\n",
       "      <td>NaN</td>\n",
       "      <td>google</td>\n",
       "    </tr>\n",
       "    <tr>\n",
       "      <th>2</th>\n",
       "      <td>Organic Search</td>\n",
       "      <td>20160902</td>\n",
       "      <td>3895546263509774583</td>\n",
       "      <td>3895546263509774583_1472865386</td>\n",
       "      <td>1472865386</td>\n",
       "      <td>1.0</td>\n",
       "      <td>1.472865e+09</td>\n",
       "      <td>Chrome</td>\n",
       "      <td>desktop</td>\n",
       "      <td>0.0</td>\n",
       "      <td>Windows</td>\n",
       "      <td>Madrid</td>\n",
       "      <td>Europe</td>\n",
       "      <td>Spain</td>\n",
       "      <td>(not set)</td>\n",
       "      <td>unknown.unknown</td>\n",
       "      <td>Community of Madrid</td>\n",
       "      <td>Southern Europe</td>\n",
       "      <td>1.0</td>\n",
       "      <td>1.0</td>\n",
       "      <td>1.0</td>\n",
       "      <td>1.0</td>\n",
       "      <td>NaN</td>\n",
       "      <td>NaN</td>\n",
       "      <td>(not set)</td>\n",
       "      <td>NaN</td>\n",
       "      <td>(not provided)</td>\n",
       "      <td>organic</td>\n",
       "      <td>NaN</td>\n",
       "      <td>google</td>\n",
       "    </tr>\n",
       "    <tr>\n",
       "      <th>3</th>\n",
       "      <td>Organic Search</td>\n",
       "      <td>20160902</td>\n",
       "      <td>4763447161404445595</td>\n",
       "      <td>4763447161404445595_1472881213</td>\n",
       "      <td>1472881213</td>\n",
       "      <td>1.0</td>\n",
       "      <td>1.472881e+09</td>\n",
       "      <td>UC Browser</td>\n",
       "      <td>desktop</td>\n",
       "      <td>0.0</td>\n",
       "      <td>Linux</td>\n",
       "      <td>not available in demo dataset</td>\n",
       "      <td>Asia</td>\n",
       "      <td>Indonesia</td>\n",
       "      <td>not available in demo dataset</td>\n",
       "      <td>unknown.unknown</td>\n",
       "      <td>not available in demo dataset</td>\n",
       "      <td>Southeast Asia</td>\n",
       "      <td>1.0</td>\n",
       "      <td>1.0</td>\n",
       "      <td>1.0</td>\n",
       "      <td>1.0</td>\n",
       "      <td>NaN</td>\n",
       "      <td>NaN</td>\n",
       "      <td>(not set)</td>\n",
       "      <td>NaN</td>\n",
       "      <td>google + online</td>\n",
       "      <td>organic</td>\n",
       "      <td>NaN</td>\n",
       "      <td>google</td>\n",
       "    </tr>\n",
       "    <tr>\n",
       "      <th>4</th>\n",
       "      <td>Organic Search</td>\n",
       "      <td>20160902</td>\n",
       "      <td>27294437909732085</td>\n",
       "      <td>27294437909732085_1472822600</td>\n",
       "      <td>1472822600</td>\n",
       "      <td>2.0</td>\n",
       "      <td>1.472823e+09</td>\n",
       "      <td>Chrome</td>\n",
       "      <td>mobile</td>\n",
       "      <td>1.0</td>\n",
       "      <td>Android</td>\n",
       "      <td>not available in demo dataset</td>\n",
       "      <td>Europe</td>\n",
       "      <td>United Kingdom</td>\n",
       "      <td>not available in demo dataset</td>\n",
       "      <td>unknown.unknown</td>\n",
       "      <td>not available in demo dataset</td>\n",
       "      <td>Northern Europe</td>\n",
       "      <td>1.0</td>\n",
       "      <td>1.0</td>\n",
       "      <td>NaN</td>\n",
       "      <td>1.0</td>\n",
       "      <td>NaN</td>\n",
       "      <td>NaN</td>\n",
       "      <td>(not set)</td>\n",
       "      <td>1.0</td>\n",
       "      <td>(not provided)</td>\n",
       "      <td>organic</td>\n",
       "      <td>NaN</td>\n",
       "      <td>google</td>\n",
       "    </tr>\n",
       "  </tbody>\n",
       "</table>\n",
       "</div>"
      ],
      "text/plain": [
       "  channelGrouping      date        fullVisitorId  \\\n",
       "0  Organic Search  20160902  1131660440785968503   \n",
       "1  Organic Search  20160902   377306020877927890   \n",
       "2  Organic Search  20160902  3895546263509774583   \n",
       "3  Organic Search  20160902  4763447161404445595   \n",
       "4  Organic Search  20160902    27294437909732085   \n",
       "\n",
       "                        sessionId     visitId  visitNumber  visitStartTime  \\\n",
       "0  1131660440785968503_1472830385  1472830385          1.0    1.472830e+09   \n",
       "1   377306020877927890_1472880147  1472880147          1.0    1.472880e+09   \n",
       "2  3895546263509774583_1472865386  1472865386          1.0    1.472865e+09   \n",
       "3  4763447161404445595_1472881213  1472881213          1.0    1.472881e+09   \n",
       "4    27294437909732085_1472822600  1472822600          2.0    1.472823e+09   \n",
       "\n",
       "  device.browser device.deviceCategory  device.isMobile  \\\n",
       "0         Chrome               desktop              0.0   \n",
       "1        Firefox               desktop              0.0   \n",
       "2         Chrome               desktop              0.0   \n",
       "3     UC Browser               desktop              0.0   \n",
       "4         Chrome                mobile              1.0   \n",
       "\n",
       "  device.operatingSystem                geoNetwork.city geoNetwork.continent  \\\n",
       "0                Windows                          Izmir                 Asia   \n",
       "1              Macintosh  not available in demo dataset              Oceania   \n",
       "2                Windows                         Madrid               Europe   \n",
       "3                  Linux  not available in demo dataset                 Asia   \n",
       "4                Android  not available in demo dataset               Europe   \n",
       "\n",
       "  geoNetwork.country               geoNetwork.metro geoNetwork.networkDomain  \\\n",
       "0             Turkey                      (not set)             ttnet.com.tr   \n",
       "1          Australia  not available in demo dataset              dodo.net.au   \n",
       "2              Spain                      (not set)          unknown.unknown   \n",
       "3          Indonesia  not available in demo dataset          unknown.unknown   \n",
       "4     United Kingdom  not available in demo dataset          unknown.unknown   \n",
       "\n",
       "               geoNetwork.region geoNetwork.subContinent  totals.bounces  \\\n",
       "0                          Izmir            Western Asia             1.0   \n",
       "1  not available in demo dataset             Australasia             1.0   \n",
       "2            Community of Madrid         Southern Europe             1.0   \n",
       "3  not available in demo dataset          Southeast Asia             1.0   \n",
       "4  not available in demo dataset         Northern Europe             1.0   \n",
       "\n",
       "   totals.hits  totals.newVisits  totals.pageviews  totals.transactionRevenue  \\\n",
       "0          1.0               1.0               1.0                        NaN   \n",
       "1          1.0               1.0               1.0                        NaN   \n",
       "2          1.0               1.0               1.0                        NaN   \n",
       "3          1.0               1.0               1.0                        NaN   \n",
       "4          1.0               NaN               1.0                        NaN   \n",
       "\n",
       "  trafficSource.adContent trafficSource.campaign  trafficSource.isTrueDirect  \\\n",
       "0                     NaN              (not set)                         NaN   \n",
       "1                     NaN              (not set)                         NaN   \n",
       "2                     NaN              (not set)                         NaN   \n",
       "3                     NaN              (not set)                         NaN   \n",
       "4                     NaN              (not set)                         1.0   \n",
       "\n",
       "  trafficSource.keyword trafficSource.medium trafficSource.referralPath  \\\n",
       "0        (not provided)              organic                        NaN   \n",
       "1        (not provided)              organic                        NaN   \n",
       "2        (not provided)              organic                        NaN   \n",
       "3       google + online              organic                        NaN   \n",
       "4        (not provided)              organic                        NaN   \n",
       "\n",
       "  trafficSource.source  \n",
       "0               google  \n",
       "1               google  \n",
       "2               google  \n",
       "3               google  \n",
       "4               google  "
      ]
     },
     "execution_count": 3,
     "metadata": {},
     "output_type": "execute_result"
    }
   ],
   "source": [
    "train.head()"
   ]
  },
  {
   "cell_type": "code",
   "execution_count": 4,
   "metadata": {
    "ExecuteTime": {
     "end_time": "2018-10-14T10:14:30.396606Z",
     "start_time": "2018-10-14T10:14:30.299663Z"
    },
    "_uuid": "7001881e9cdfc9638e1e168ce1a97ffa1a6ee437"
   },
   "outputs": [
    {
     "data": {
      "text/plain": [
       "Index(['channelGrouping', 'date', 'fullVisitorId', 'sessionId', 'visitId',\n",
       "       'visitNumber', 'visitStartTime', 'device.browser',\n",
       "       'device.deviceCategory', 'device.isMobile', 'device.operatingSystem',\n",
       "       'geoNetwork.city', 'geoNetwork.continent', 'geoNetwork.country',\n",
       "       'geoNetwork.metro', 'geoNetwork.networkDomain', 'geoNetwork.region',\n",
       "       'geoNetwork.subContinent', 'totals.bounces', 'totals.hits',\n",
       "       'totals.newVisits', 'totals.pageviews', 'totals.transactionRevenue',\n",
       "       'trafficSource.adContent', 'trafficSource.campaign',\n",
       "       'trafficSource.isTrueDirect', 'trafficSource.keyword',\n",
       "       'trafficSource.medium', 'trafficSource.referralPath',\n",
       "       'trafficSource.source'],\n",
       "      dtype='object')"
      ]
     },
     "execution_count": 4,
     "metadata": {},
     "output_type": "execute_result"
    }
   ],
   "source": [
    "train.columns"
   ]
  },
  {
   "cell_type": "code",
   "execution_count": 5,
   "metadata": {
    "ExecuteTime": {
     "end_time": "2018-10-14T10:14:30.550531Z",
     "start_time": "2018-10-14T10:14:30.397605Z"
    },
    "_uuid": "f1d568be7bbf52ac066399d17c17cc44f0dd69ea"
   },
   "outputs": [],
   "source": [
    "# Getting data from leak\n",
    "train_store_1 = pd.read_csv('../google-analytics-data/Train_external_data.csv', low_memory=False, skiprows=6, dtype={\"Client Id\":'str'})\n",
    "train_store_2 = pd.read_csv('../google-analytics-data/Train_external_data_2.csv', low_memory=False, skiprows=6, dtype={\"Client Id\":'str'})\n",
    "test_store_1 = pd.read_csv('../google-analytics-data/Test_external_data.csv', low_memory=False, skiprows=6, dtype={\"Client Id\":'str'})\n",
    "test_store_2 = pd.read_csv('../google-analytics-data/Test_external_data_2.csv', low_memory=False, skiprows=6, dtype={\"Client Id\":'str'})"
   ]
  },
  {
   "cell_type": "code",
   "execution_count": 6,
   "metadata": {
    "ExecuteTime": {
     "end_time": "2018-10-14T10:14:30.621476Z",
     "start_time": "2018-10-14T10:14:30.551531Z"
    },
    "_uuid": "46f2d38576a9bccb01f09bdd2a167c779bbaaeb9"
   },
   "outputs": [],
   "source": [
    "# Getting VisitId from Google Analytics...\n",
    "for df in [train_store_1, train_store_2, test_store_1, test_store_2]:\n",
    "    df[\"visitId\"] = df[\"Client Id\"].apply(lambda x: x.split('.', 1)[1]).astype(np.int64)"
   ]
  },
  {
   "cell_type": "code",
   "execution_count": 7,
   "metadata": {
    "ExecuteTime": {
     "end_time": "2018-10-14T10:14:36.446327Z",
     "start_time": "2018-10-14T10:14:30.623475Z"
    },
    "_uuid": "0a2c78bc947a4442398175ca79258d506afb1856"
   },
   "outputs": [],
   "source": [
    "# Merge with train/test data\n",
    "train = train.merge(pd.concat([train_store_1, train_store_2], sort=False), how=\"left\", on=\"visitId\")\n",
    "test = test.merge(pd.concat([test_store_1, test_store_2], sort=False), how=\"left\", on=\"visitId\")\n",
    "\n",
    "# Drop Client Id\n",
    "for df in [train, test]:\n",
    "    df.drop(\"Client Id\", 1, inplace=True)"
   ]
  },
  {
   "cell_type": "code",
   "execution_count": 8,
   "metadata": {
    "ExecuteTime": {
     "end_time": "2018-10-14T10:14:36.452308Z",
     "start_time": "2018-10-14T10:14:36.447328Z"
    },
    "_uuid": "84b797e0506d46d08c178c42495cae71a4dbdf1b"
   },
   "outputs": [
    {
     "data": {
      "text/plain": [
       "Index(['channelGrouping', 'date', 'fullVisitorId', 'sessionId', 'visitId',\n",
       "       'visitNumber', 'visitStartTime', 'device.browser',\n",
       "       'device.deviceCategory', 'device.isMobile', 'device.operatingSystem',\n",
       "       'geoNetwork.city', 'geoNetwork.continent', 'geoNetwork.country',\n",
       "       'geoNetwork.metro', 'geoNetwork.networkDomain', 'geoNetwork.region',\n",
       "       'geoNetwork.subContinent', 'totals.bounces', 'totals.hits',\n",
       "       'totals.newVisits', 'totals.pageviews', 'totals.transactionRevenue',\n",
       "       'trafficSource.adContent', 'trafficSource.campaign',\n",
       "       'trafficSource.isTrueDirect', 'trafficSource.keyword',\n",
       "       'trafficSource.medium', 'trafficSource.referralPath',\n",
       "       'trafficSource.source', 'Sessions', 'Avg. Session Duration',\n",
       "       'Bounce Rate', 'Revenue', 'Transactions', 'Goal Conversion Rate'],\n",
       "      dtype='object')"
      ]
     },
     "execution_count": 8,
     "metadata": {},
     "output_type": "execute_result"
    }
   ],
   "source": [
    "train.columns"
   ]
  },
  {
   "cell_type": "code",
   "execution_count": 9,
   "metadata": {
    "ExecuteTime": {
     "end_time": "2018-10-14T10:14:37.910365Z",
     "start_time": "2018-10-14T10:14:36.608218Z"
    },
    "_uuid": "acd4760138ba9a70f2341d5f51395afcce94fea0"
   },
   "outputs": [],
   "source": [
    "# Cleaning Revenue\n",
    "for df in [train, test]:\n",
    "    df[\"Revenue\"].fillna('$', inplace=True)\n",
    "    df[\"Revenue\"] = df[\"Revenue\"].apply(lambda x: x.replace('$', '').replace(',', ''))\n",
    "    df[\"Revenue\"] = pd.to_numeric(df[\"Revenue\"], errors=\"coerce\")\n",
    "    df[\"Revenue\"].fillna(0.0, inplace=True)"
   ]
  },
  {
   "cell_type": "code",
   "execution_count": 10,
   "metadata": {
    "ExecuteTime": {
     "end_time": "2018-10-14T10:14:37.956337Z",
     "start_time": "2018-10-14T10:14:37.911363Z"
    },
    "_uuid": "41c897be1747a5e6e90b54ea1307993870f3aa3d"
   },
   "outputs": [
    {
     "data": {
      "text/plain": [
       "35"
      ]
     },
     "execution_count": 10,
     "metadata": {},
     "output_type": "execute_result"
    }
   ],
   "source": [
    "for df in [train_store_1, train_store_2, test_store_1, test_store_2]:\n",
    "    del df\n",
    "gc.collect()"
   ]
  },
  {
   "cell_type": "markdown",
   "metadata": {
    "_uuid": "119d7b06bb71fb519a943d0c11e447a170d916bb",
    "heading_collapsed": true
   },
   "source": [
    "# Looking around"
   ]
  },
  {
   "cell_type": "markdown",
   "metadata": {
    "_uuid": "21f6e7a41c2316f62138cf9349c341d6ca3ad8a3",
    "hidden": true
   },
   "source": [
    "Some pictures to have in mind: target distribution"
   ]
  },
  {
   "cell_type": "code",
   "execution_count": 11,
   "metadata": {
    "ExecuteTime": {
     "end_time": "2018-10-14T10:14:39.624803Z",
     "start_time": "2018-10-14T10:14:37.957337Z"
    },
    "_uuid": "328715e736f64240b00cd7ee1a3fb69bb5cdcdc0",
    "hidden": true
   },
   "outputs": [],
   "source": [
    "target_sums = train.groupby(\"fullVisitorId\")[\"totals.transactionRevenue\"].sum().reset_index()"
   ]
  },
  {
   "cell_type": "code",
   "execution_count": 12,
   "metadata": {
    "ExecuteTime": {
     "end_time": "2018-10-14T10:14:44.420456Z",
     "start_time": "2018-10-14T10:14:39.625788Z"
    },
    "_uuid": "9a2625a3b7c28ac417ba1172f63d308e12dfd581",
    "hidden": true
   },
   "outputs": [
    {
     "data": {
      "image/png": "[encoded data removed]",
      "text/plain": [
       "<Figure size 1440x432 with 1 Axes>"
      ]
     },
     "metadata": {
      "needs_background": "light"
     },
     "output_type": "display_data"
    }
   ],
   "source": [
    "plt.figure(figsize=(20,6))\n",
    "plt.scatter(range(target_sums.shape[0]), np.sort(np.log1p(target_sums[\"totals.transactionRevenue\"].values)), color = \"#ff4500\")\n",
    "plt.xlabel('index')\n",
    "plt.ylabel('TransactionRevenue')\n",
    "plt.show()"
   ]
  },
  {
   "cell_type": "markdown",
   "metadata": {
    "ExecuteTime": {
     "end_time": "2018-10-07T17:19:33.369729Z",
     "start_time": "2018-10-07T17:19:33.366722Z"
    },
    "_uuid": "2721d8feb6f34473500c413e68d450a26cf248ff",
    "hidden": true
   },
   "source": [
    "Key problem:"
   ]
  },
  {
   "cell_type": "code",
   "execution_count": 13,
   "metadata": {
    "ExecuteTime": {
     "end_time": "2018-10-14T10:14:46.039836Z",
     "start_time": "2018-10-14T10:14:44.421442Z"
    },
    "_uuid": "df2413f1c01615949d9ca3e6be92c354a737975d",
    "hidden": true
   },
   "outputs": [
    {
     "data": {
      "text/plain": [
       "<matplotlib.legend.Legend at 0x7fd2e3e1af28>"
      ]
     },
     "execution_count": 13,
     "metadata": {},
     "output_type": "execute_result"
    },
    {
     "data": {
      "image/png": "[encoded data removed]",
      "text/plain": [
       "<Figure size 1440x432 with 1 Axes>"
      ]
     },
     "metadata": {
      "needs_background": "light"
     },
     "output_type": "display_data"
    }
   ],
   "source": [
    "train.date = pd.to_datetime(train.date, format=\"%Y%m%d\")\n",
    "test.date = pd.to_datetime(test.date, format=\"%Y%m%d\")\n",
    "plt.figure(figsize=(20,6))\n",
    "train.date.value_counts().sort_index().plot(label=\"train\", color = \"#FFD700\")\n",
    "test.date.value_counts().sort_index().plot(label=\"test\", color = \"#48D1CC\")\n",
    "plt.legend()"
   ]
  },
  {
   "cell_type": "markdown",
   "metadata": {
    "_uuid": "7bad2cb96ee8759029c2673274ebafea874ab019",
    "hidden": true
   },
   "source": [
    "Comparing categories in train and test:"
   ]
  },
  {
   "cell_type": "code",
   "execution_count": 14,
   "metadata": {
    "ExecuteTime": {
     "end_time": "2018-10-14T10:14:46.414251Z",
     "start_time": "2018-10-14T10:14:46.040835Z"
    },
    "_uuid": "d01fd047ebf1846878180feed9ec7727d86eb5c9",
    "hidden": true
   },
   "outputs": [
    {
     "data": {
      "image/png": "[encoded data removed]",
      "text/plain": [
       "<Figure size 1440x432 with 1 Axes>"
      ]
     },
     "metadata": {
      "needs_background": "light"
     },
     "output_type": "display_data"
    }
   ],
   "source": [
    "palette = sns.color_palette(\"bright\")\n",
    "\n",
    "# Use palplot and pass in the variable:\n",
    "# sns.palplot(palette)\n",
    "\n",
    "def drawBars(columnname):\n",
    "    plt.figure(figsize=(20,6))\n",
    "    sns.barplot(x=\"count\", y=\"index\", hue=\"dataset\",data=pd.melt(pd.concat([train[columnname].value_counts().rename(\"train\"), \n",
    "                                                                            test[columnname].value_counts().rename(\"test\")], axis=1, sort=\"False\").reset_index(), \n",
    "                                                                 id_vars=\"index\", var_name=\"dataset\", value_name=\"count\"),palette=palette)\n",
    "\n",
    "drawBars(\"channelGrouping\")"
   ]
  },
  {
   "cell_type": "code",
   "execution_count": 15,
   "metadata": {
    "ExecuteTime": {
     "end_time": "2018-10-14T10:14:46.749189Z",
     "start_time": "2018-10-14T10:14:46.415238Z"
    },
    "_uuid": "c74de2f8e3ec4d25deae73dd6717a821c0368bc9",
    "hidden": true
   },
   "outputs": [
    {
     "data": {
      "image/png": "[encoded data removed]",
      "text/plain": [
       "<Figure size 1440x432 with 1 Axes>"
      ]
     },
     "metadata": {
      "needs_background": "light"
     },
     "output_type": "display_data"
    }
   ],
   "source": [
    "drawBars(\"geoNetwork.continent\")"
   ]
  },
  {
   "cell_type": "code",
   "execution_count": 16,
   "metadata": {
    "ExecuteTime": {
     "end_time": "2018-10-14T10:14:47.335654Z",
     "start_time": "2018-10-14T10:14:46.751174Z"
    },
    "_uuid": "11be97e1e52ade3a4c65cb0133d23f24e5fa0c7f",
    "hidden": true
   },
   "outputs": [
    {
     "name": "stdout",
     "output_type": "stream",
     "text": [
      "Unique visitor ids in train: 714167\n",
      "Unique visitor ids in test: 617242\n",
      "Common visitors in train and test: 7679\n"
     ]
    }
   ],
   "source": [
    "ids_train = set(train.fullVisitorId.unique())\n",
    "ids_test = set(test.fullVisitorId.unique())\n",
    "print(\"Unique visitor ids in train:\", len(ids_train))\n",
    "print(\"Unique visitor ids in test:\", len(ids_test))\n",
    "print(\"Common visitors in train and test:\", len(ids_train & ids_test))"
   ]
  },
  {
   "cell_type": "markdown",
   "metadata": {
    "_uuid": "656995db4dd09f60e3dcd6f96bed21267c2ee200",
    "hidden": true
   },
   "source": [
    "Weird \"double\" sessions:"
   ]
  },
  {
   "cell_type": "code",
   "execution_count": 17,
   "metadata": {
    "ExecuteTime": {
     "end_time": "2018-10-14T10:14:48.731726Z",
     "start_time": "2018-10-14T10:14:47.336636Z"
    },
    "_uuid": "c21eed82c1eb34e88d016ebf83611f9093458bfa",
    "hidden": true
   },
   "outputs": [
    {
     "data": {
      "text/html": [
       "<div>\n",
       "<style scoped>\n",
       "    .dataframe tbody tr th:only-of-type {\n",
       "        vertical-align: middle;\n",
       "    }\n",
       "\n",
       "    .dataframe tbody tr th {\n",
       "        vertical-align: top;\n",
       "    }\n",
       "\n",
       "    .dataframe thead th {\n",
       "        text-align: right;\n",
       "    }\n",
       "</style>\n",
       "<table border=\"1\" class=\"dataframe\">\n",
       "  <thead>\n",
       "    <tr style=\"text-align: right;\">\n",
       "      <th></th>\n",
       "      <th>channelGrouping</th>\n",
       "      <th>date</th>\n",
       "      <th>fullVisitorId</th>\n",
       "      <th>sessionId</th>\n",
       "      <th>visitId</th>\n",
       "      <th>visitNumber</th>\n",
       "      <th>visitStartTime</th>\n",
       "      <th>device.browser</th>\n",
       "      <th>device.deviceCategory</th>\n",
       "      <th>device.isMobile</th>\n",
       "      <th>device.operatingSystem</th>\n",
       "      <th>geoNetwork.city</th>\n",
       "      <th>geoNetwork.continent</th>\n",
       "      <th>geoNetwork.country</th>\n",
       "      <th>geoNetwork.metro</th>\n",
       "      <th>geoNetwork.networkDomain</th>\n",
       "      <th>geoNetwork.region</th>\n",
       "      <th>geoNetwork.subContinent</th>\n",
       "      <th>totals.bounces</th>\n",
       "      <th>totals.hits</th>\n",
       "      <th>totals.newVisits</th>\n",
       "      <th>totals.pageviews</th>\n",
       "      <th>totals.transactionRevenue</th>\n",
       "      <th>trafficSource.adContent</th>\n",
       "      <th>trafficSource.campaign</th>\n",
       "      <th>trafficSource.isTrueDirect</th>\n",
       "      <th>trafficSource.keyword</th>\n",
       "      <th>trafficSource.medium</th>\n",
       "      <th>trafficSource.referralPath</th>\n",
       "      <th>trafficSource.source</th>\n",
       "      <th>Sessions</th>\n",
       "      <th>Avg. Session Duration</th>\n",
       "      <th>Bounce Rate</th>\n",
       "      <th>Revenue</th>\n",
       "      <th>Transactions</th>\n",
       "      <th>Goal Conversion Rate</th>\n",
       "    </tr>\n",
       "  </thead>\n",
       "  <tbody>\n",
       "    <tr>\n",
       "      <th>212027</th>\n",
       "      <td>Organic Search</td>\n",
       "      <td>2016-08-21</td>\n",
       "      <td>0011338928267756760</td>\n",
       "      <td>0011338928267756760_1471848731</td>\n",
       "      <td>1471848731</td>\n",
       "      <td>1.0</td>\n",
       "      <td>1.471849e+09</td>\n",
       "      <td>Chrome</td>\n",
       "      <td>desktop</td>\n",
       "      <td>0.0</td>\n",
       "      <td>Windows</td>\n",
       "      <td>not available in demo dataset</td>\n",
       "      <td>Asia</td>\n",
       "      <td>China</td>\n",
       "      <td>not available in demo dataset</td>\n",
       "      <td>unknown.unknown</td>\n",
       "      <td>not available in demo dataset</td>\n",
       "      <td>Eastern Asia</td>\n",
       "      <td>NaN</td>\n",
       "      <td>2.0</td>\n",
       "      <td>1.0</td>\n",
       "      <td>1.0</td>\n",
       "      <td>NaN</td>\n",
       "      <td>NaN</td>\n",
       "      <td>(not set)</td>\n",
       "      <td>NaN</td>\n",
       "      <td>(not provided)</td>\n",
       "      <td>organic</td>\n",
       "      <td>NaN</td>\n",
       "      <td>google</td>\n",
       "      <td>NaN</td>\n",
       "      <td>NaN</td>\n",
       "      <td>NaN</td>\n",
       "      <td>0.0</td>\n",
       "      <td>NaN</td>\n",
       "      <td>NaN</td>\n",
       "    </tr>\n",
       "    <tr>\n",
       "      <th>82177</th>\n",
       "      <td>Organic Search</td>\n",
       "      <td>2016-08-22</td>\n",
       "      <td>0011338928267756760</td>\n",
       "      <td>0011338928267756760_1471848731</td>\n",
       "      <td>1471848731</td>\n",
       "      <td>1.0</td>\n",
       "      <td>1.471849e+09</td>\n",
       "      <td>Chrome</td>\n",
       "      <td>desktop</td>\n",
       "      <td>0.0</td>\n",
       "      <td>Windows</td>\n",
       "      <td>not available in demo dataset</td>\n",
       "      <td>Asia</td>\n",
       "      <td>China</td>\n",
       "      <td>not available in demo dataset</td>\n",
       "      <td>unknown.unknown</td>\n",
       "      <td>not available in demo dataset</td>\n",
       "      <td>Eastern Asia</td>\n",
       "      <td>NaN</td>\n",
       "      <td>2.0</td>\n",
       "      <td>1.0</td>\n",
       "      <td>1.0</td>\n",
       "      <td>NaN</td>\n",
       "      <td>NaN</td>\n",
       "      <td>(not set)</td>\n",
       "      <td>NaN</td>\n",
       "      <td>(not provided)</td>\n",
       "      <td>organic</td>\n",
       "      <td>NaN</td>\n",
       "      <td>google</td>\n",
       "      <td>NaN</td>\n",
       "      <td>NaN</td>\n",
       "      <td>NaN</td>\n",
       "      <td>0.0</td>\n",
       "      <td>NaN</td>\n",
       "      <td>NaN</td>\n",
       "    </tr>\n",
       "    <tr>\n",
       "      <th>848580</th>\n",
       "      <td>Referral</td>\n",
       "      <td>2016-12-31</td>\n",
       "      <td>0014884852016449602</td>\n",
       "      <td>0014884852016449602_1483257533</td>\n",
       "      <td>1483257533</td>\n",
       "      <td>2.0</td>\n",
       "      <td>1.483258e+09</td>\n",
       "      <td>Chrome</td>\n",
       "      <td>desktop</td>\n",
       "      <td>0.0</td>\n",
       "      <td>Macintosh</td>\n",
       "      <td>Los Angeles</td>\n",
       "      <td>Americas</td>\n",
       "      <td>United States</td>\n",
       "      <td>Los Angeles CA</td>\n",
       "      <td>(not set)</td>\n",
       "      <td>California</td>\n",
       "      <td>Northern America</td>\n",
       "      <td>1.0</td>\n",
       "      <td>1.0</td>\n",
       "      <td>NaN</td>\n",
       "      <td>1.0</td>\n",
       "      <td>NaN</td>\n",
       "      <td>NaN</td>\n",
       "      <td>(not set)</td>\n",
       "      <td>1.0</td>\n",
       "      <td>NaN</td>\n",
       "      <td>referral</td>\n",
       "      <td>/</td>\n",
       "      <td>mall.googleplex.com</td>\n",
       "      <td>NaN</td>\n",
       "      <td>NaN</td>\n",
       "      <td>NaN</td>\n",
       "      <td>0.0</td>\n",
       "      <td>NaN</td>\n",
       "      <td>NaN</td>\n",
       "    </tr>\n",
       "    <tr>\n",
       "      <th>802550</th>\n",
       "      <td>Referral</td>\n",
       "      <td>2017-01-01</td>\n",
       "      <td>0014884852016449602</td>\n",
       "      <td>0014884852016449602_1483257533</td>\n",
       "      <td>1483257533</td>\n",
       "      <td>2.0</td>\n",
       "      <td>1.483258e+09</td>\n",
       "      <td>Chrome</td>\n",
       "      <td>desktop</td>\n",
       "      <td>0.0</td>\n",
       "      <td>Macintosh</td>\n",
       "      <td>Los Angeles</td>\n",
       "      <td>Americas</td>\n",
       "      <td>United States</td>\n",
       "      <td>Los Angeles CA</td>\n",
       "      <td>(not set)</td>\n",
       "      <td>California</td>\n",
       "      <td>Northern America</td>\n",
       "      <td>NaN</td>\n",
       "      <td>10.0</td>\n",
       "      <td>NaN</td>\n",
       "      <td>6.0</td>\n",
       "      <td>NaN</td>\n",
       "      <td>NaN</td>\n",
       "      <td>(not set)</td>\n",
       "      <td>1.0</td>\n",
       "      <td>NaN</td>\n",
       "      <td>referral</td>\n",
       "      <td>/</td>\n",
       "      <td>mall.googleplex.com</td>\n",
       "      <td>NaN</td>\n",
       "      <td>NaN</td>\n",
       "      <td>NaN</td>\n",
       "      <td>0.0</td>\n",
       "      <td>NaN</td>\n",
       "      <td>NaN</td>\n",
       "    </tr>\n",
       "    <tr>\n",
       "      <th>428608</th>\n",
       "      <td>Organic Search</td>\n",
       "      <td>2017-06-05</td>\n",
       "      <td>0019612470994343873</td>\n",
       "      <td>0019612470994343873_1496731675</td>\n",
       "      <td>1496731675</td>\n",
       "      <td>24.0</td>\n",
       "      <td>1.496732e+09</td>\n",
       "      <td>Chrome</td>\n",
       "      <td>desktop</td>\n",
       "      <td>0.0</td>\n",
       "      <td>Macintosh</td>\n",
       "      <td>Mountain View</td>\n",
       "      <td>Americas</td>\n",
       "      <td>United States</td>\n",
       "      <td>San Francisco-Oakland-San Jose CA</td>\n",
       "      <td>comcast.net</td>\n",
       "      <td>California</td>\n",
       "      <td>Northern America</td>\n",
       "      <td>NaN</td>\n",
       "      <td>14.0</td>\n",
       "      <td>NaN</td>\n",
       "      <td>14.0</td>\n",
       "      <td>NaN</td>\n",
       "      <td>NaN</td>\n",
       "      <td>(not set)</td>\n",
       "      <td>1.0</td>\n",
       "      <td>(not provided)</td>\n",
       "      <td>organic</td>\n",
       "      <td>NaN</td>\n",
       "      <td>google</td>\n",
       "      <td>NaN</td>\n",
       "      <td>NaN</td>\n",
       "      <td>NaN</td>\n",
       "      <td>0.0</td>\n",
       "      <td>NaN</td>\n",
       "      <td>NaN</td>\n",
       "    </tr>\n",
       "    <tr>\n",
       "      <th>202288</th>\n",
       "      <td>Organic Search</td>\n",
       "      <td>2017-06-06</td>\n",
       "      <td>0019612470994343873</td>\n",
       "      <td>0019612470994343873_1496731675</td>\n",
       "      <td>1496731675</td>\n",
       "      <td>24.0</td>\n",
       "      <td>1.496732e+09</td>\n",
       "      <td>Chrome</td>\n",
       "      <td>desktop</td>\n",
       "      <td>0.0</td>\n",
       "      <td>Macintosh</td>\n",
       "      <td>Mountain View</td>\n",
       "      <td>Americas</td>\n",
       "      <td>United States</td>\n",
       "      <td>San Francisco-Oakland-San Jose CA</td>\n",
       "      <td>comcast.net</td>\n",
       "      <td>California</td>\n",
       "      <td>Northern America</td>\n",
       "      <td>NaN</td>\n",
       "      <td>2.0</td>\n",
       "      <td>NaN</td>\n",
       "      <td>2.0</td>\n",
       "      <td>NaN</td>\n",
       "      <td>NaN</td>\n",
       "      <td>(not set)</td>\n",
       "      <td>1.0</td>\n",
       "      <td>(not provided)</td>\n",
       "      <td>organic</td>\n",
       "      <td>NaN</td>\n",
       "      <td>google</td>\n",
       "      <td>NaN</td>\n",
       "      <td>NaN</td>\n",
       "      <td>NaN</td>\n",
       "      <td>0.0</td>\n",
       "      <td>NaN</td>\n",
       "      <td>NaN</td>\n",
       "    </tr>\n",
       "    <tr>\n",
       "      <th>46654</th>\n",
       "      <td>Paid Search</td>\n",
       "      <td>2017-05-19</td>\n",
       "      <td>0031542961723593073</td>\n",
       "      <td>0031542961723593073_1495261490</td>\n",
       "      <td>1495261490</td>\n",
       "      <td>1.0</td>\n",
       "      <td>1.495261e+09</td>\n",
       "      <td>Chrome</td>\n",
       "      <td>tablet</td>\n",
       "      <td>1.0</td>\n",
       "      <td>iOS</td>\n",
       "      <td>not available in demo dataset</td>\n",
       "      <td>Americas</td>\n",
       "      <td>United States</td>\n",
       "      <td>not available in demo dataset</td>\n",
       "      <td>comcast.net</td>\n",
       "      <td>not available in demo dataset</td>\n",
       "      <td>Northern America</td>\n",
       "      <td>NaN</td>\n",
       "      <td>37.0</td>\n",
       "      <td>1.0</td>\n",
       "      <td>32.0</td>\n",
       "      <td>NaN</td>\n",
       "      <td>{KeyWord:Google Brand Items}</td>\n",
       "      <td>AW - Accessories</td>\n",
       "      <td>NaN</td>\n",
       "      <td>+google +tshirt +store</td>\n",
       "      <td>cpc</td>\n",
       "      <td>NaN</td>\n",
       "      <td>google</td>\n",
       "      <td>NaN</td>\n",
       "      <td>NaN</td>\n",
       "      <td>NaN</td>\n",
       "      <td>0.0</td>\n",
       "      <td>NaN</td>\n",
       "      <td>NaN</td>\n",
       "    </tr>\n",
       "    <tr>\n",
       "      <th>857847</th>\n",
       "      <td>Paid Search</td>\n",
       "      <td>2017-05-20</td>\n",
       "      <td>0031542961723593073</td>\n",
       "      <td>0031542961723593073_1495261490</td>\n",
       "      <td>1495261490</td>\n",
       "      <td>1.0</td>\n",
       "      <td>1.495264e+09</td>\n",
       "      <td>Chrome</td>\n",
       "      <td>tablet</td>\n",
       "      <td>1.0</td>\n",
       "      <td>iOS</td>\n",
       "      <td>not available in demo dataset</td>\n",
       "      <td>Americas</td>\n",
       "      <td>United States</td>\n",
       "      <td>not available in demo dataset</td>\n",
       "      <td>comcast.net</td>\n",
       "      <td>not available in demo dataset</td>\n",
       "      <td>Northern America</td>\n",
       "      <td>NaN</td>\n",
       "      <td>5.0</td>\n",
       "      <td>1.0</td>\n",
       "      <td>4.0</td>\n",
       "      <td>NaN</td>\n",
       "      <td>{KeyWord:Google Brand Items}</td>\n",
       "      <td>AW - Accessories</td>\n",
       "      <td>NaN</td>\n",
       "      <td>+google +tshirt +store</td>\n",
       "      <td>cpc</td>\n",
       "      <td>NaN</td>\n",
       "      <td>google</td>\n",
       "      <td>NaN</td>\n",
       "      <td>NaN</td>\n",
       "      <td>NaN</td>\n",
       "      <td>0.0</td>\n",
       "      <td>NaN</td>\n",
       "      <td>NaN</td>\n",
       "    </tr>\n",
       "    <tr>\n",
       "      <th>618668</th>\n",
       "      <td>Referral</td>\n",
       "      <td>2017-01-24</td>\n",
       "      <td>0039798900163330977</td>\n",
       "      <td>0039798900163330977_1485331011</td>\n",
       "      <td>1485331011</td>\n",
       "      <td>4.0</td>\n",
       "      <td>1.485331e+09</td>\n",
       "      <td>Chrome</td>\n",
       "      <td>desktop</td>\n",
       "      <td>0.0</td>\n",
       "      <td>Macintosh</td>\n",
       "      <td>(not set)</td>\n",
       "      <td>Asia</td>\n",
       "      <td>Singapore</td>\n",
       "      <td>(not set)</td>\n",
       "      <td>(not set)</td>\n",
       "      <td>(not set)</td>\n",
       "      <td>Southeast Asia</td>\n",
       "      <td>NaN</td>\n",
       "      <td>5.0</td>\n",
       "      <td>NaN</td>\n",
       "      <td>5.0</td>\n",
       "      <td>NaN</td>\n",
       "      <td>NaN</td>\n",
       "      <td>(not set)</td>\n",
       "      <td>1.0</td>\n",
       "      <td>NaN</td>\n",
       "      <td>referral</td>\n",
       "      <td>/</td>\n",
       "      <td>mall.googleplex.com</td>\n",
       "      <td>NaN</td>\n",
       "      <td>NaN</td>\n",
       "      <td>NaN</td>\n",
       "      <td>0.0</td>\n",
       "      <td>NaN</td>\n",
       "      <td>NaN</td>\n",
       "    </tr>\n",
       "    <tr>\n",
       "      <th>520543</th>\n",
       "      <td>Referral</td>\n",
       "      <td>2017-01-25</td>\n",
       "      <td>0039798900163330977</td>\n",
       "      <td>0039798900163330977_1485331011</td>\n",
       "      <td>1485331011</td>\n",
       "      <td>4.0</td>\n",
       "      <td>1.485331e+09</td>\n",
       "      <td>Chrome</td>\n",
       "      <td>desktop</td>\n",
       "      <td>0.0</td>\n",
       "      <td>Macintosh</td>\n",
       "      <td>(not set)</td>\n",
       "      <td>Asia</td>\n",
       "      <td>Singapore</td>\n",
       "      <td>(not set)</td>\n",
       "      <td>(not set)</td>\n",
       "      <td>(not set)</td>\n",
       "      <td>Southeast Asia</td>\n",
       "      <td>NaN</td>\n",
       "      <td>5.0</td>\n",
       "      <td>NaN</td>\n",
       "      <td>3.0</td>\n",
       "      <td>NaN</td>\n",
       "      <td>NaN</td>\n",
       "      <td>(not set)</td>\n",
       "      <td>1.0</td>\n",
       "      <td>NaN</td>\n",
       "      <td>referral</td>\n",
       "      <td>/</td>\n",
       "      <td>mall.googleplex.com</td>\n",
       "      <td>NaN</td>\n",
       "      <td>NaN</td>\n",
       "      <td>NaN</td>\n",
       "      <td>0.0</td>\n",
       "      <td>NaN</td>\n",
       "      <td>NaN</td>\n",
       "    </tr>\n",
       "  </tbody>\n",
       "</table>\n",
       "</div>"
      ],
      "text/plain": [
       "       channelGrouping       date        fullVisitorId  \\\n",
       "212027  Organic Search 2016-08-21  0011338928267756760   \n",
       "82177   Organic Search 2016-08-22  0011338928267756760   \n",
       "848580        Referral 2016-12-31  0014884852016449602   \n",
       "802550        Referral 2017-01-01  0014884852016449602   \n",
       "428608  Organic Search 2017-06-05  0019612470994343873   \n",
       "202288  Organic Search 2017-06-06  0019612470994343873   \n",
       "46654      Paid Search 2017-05-19  0031542961723593073   \n",
       "857847     Paid Search 2017-05-20  0031542961723593073   \n",
       "618668        Referral 2017-01-24  0039798900163330977   \n",
       "520543        Referral 2017-01-25  0039798900163330977   \n",
       "\n",
       "                             sessionId     visitId  visitNumber  \\\n",
       "212027  0011338928267756760_1471848731  1471848731          1.0   \n",
       "82177   0011338928267756760_1471848731  1471848731          1.0   \n",
       "848580  0014884852016449602_1483257533  1483257533          2.0   \n",
       "802550  0014884852016449602_1483257533  1483257533          2.0   \n",
       "428608  0019612470994343873_1496731675  1496731675         24.0   \n",
       "202288  0019612470994343873_1496731675  1496731675         24.0   \n",
       "46654   0031542961723593073_1495261490  1495261490          1.0   \n",
       "857847  0031542961723593073_1495261490  1495261490          1.0   \n",
       "618668  0039798900163330977_1485331011  1485331011          4.0   \n",
       "520543  0039798900163330977_1485331011  1485331011          4.0   \n",
       "\n",
       "        visitStartTime device.browser device.deviceCategory  device.isMobile  \\\n",
       "212027    1.471849e+09         Chrome               desktop              0.0   \n",
       "82177     1.471849e+09         Chrome               desktop              0.0   \n",
       "848580    1.483258e+09         Chrome               desktop              0.0   \n",
       "802550    1.483258e+09         Chrome               desktop              0.0   \n",
       "428608    1.496732e+09         Chrome               desktop              0.0   \n",
       "202288    1.496732e+09         Chrome               desktop              0.0   \n",
       "46654     1.495261e+09         Chrome                tablet              1.0   \n",
       "857847    1.495264e+09         Chrome                tablet              1.0   \n",
       "618668    1.485331e+09         Chrome               desktop              0.0   \n",
       "520543    1.485331e+09         Chrome               desktop              0.0   \n",
       "\n",
       "       device.operatingSystem                geoNetwork.city  \\\n",
       "212027                Windows  not available in demo dataset   \n",
       "82177                 Windows  not available in demo dataset   \n",
       "848580              Macintosh                    Los Angeles   \n",
       "802550              Macintosh                    Los Angeles   \n",
       "428608              Macintosh                  Mountain View   \n",
       "202288              Macintosh                  Mountain View   \n",
       "46654                     iOS  not available in demo dataset   \n",
       "857847                    iOS  not available in demo dataset   \n",
       "618668              Macintosh                      (not set)   \n",
       "520543              Macintosh                      (not set)   \n",
       "\n",
       "       geoNetwork.continent geoNetwork.country  \\\n",
       "212027                 Asia              China   \n",
       "82177                  Asia              China   \n",
       "848580             Americas      United States   \n",
       "802550             Americas      United States   \n",
       "428608             Americas      United States   \n",
       "202288             Americas      United States   \n",
       "46654              Americas      United States   \n",
       "857847             Americas      United States   \n",
       "618668                 Asia          Singapore   \n",
       "520543                 Asia          Singapore   \n",
       "\n",
       "                         geoNetwork.metro geoNetwork.networkDomain  \\\n",
       "212027      not available in demo dataset          unknown.unknown   \n",
       "82177       not available in demo dataset          unknown.unknown   \n",
       "848580                     Los Angeles CA                (not set)   \n",
       "802550                     Los Angeles CA                (not set)   \n",
       "428608  San Francisco-Oakland-San Jose CA              comcast.net   \n",
       "202288  San Francisco-Oakland-San Jose CA              comcast.net   \n",
       "46654       not available in demo dataset              comcast.net   \n",
       "857847      not available in demo dataset              comcast.net   \n",
       "618668                          (not set)                (not set)   \n",
       "520543                          (not set)                (not set)   \n",
       "\n",
       "                    geoNetwork.region geoNetwork.subContinent  totals.bounces  \\\n",
       "212027  not available in demo dataset            Eastern Asia             NaN   \n",
       "82177   not available in demo dataset            Eastern Asia             NaN   \n",
       "848580                     California        Northern America             1.0   \n",
       "802550                     California        Northern America             NaN   \n",
       "428608                     California        Northern America             NaN   \n",
       "202288                     California        Northern America             NaN   \n",
       "46654   not available in demo dataset        Northern America             NaN   \n",
       "857847  not available in demo dataset        Northern America             NaN   \n",
       "618668                      (not set)          Southeast Asia             NaN   \n",
       "520543                      (not set)          Southeast Asia             NaN   \n",
       "\n",
       "        totals.hits  totals.newVisits  totals.pageviews  \\\n",
       "212027          2.0               1.0               1.0   \n",
       "82177           2.0               1.0               1.0   \n",
       "848580          1.0               NaN               1.0   \n",
       "802550         10.0               NaN               6.0   \n",
       "428608         14.0               NaN              14.0   \n",
       "202288          2.0               NaN               2.0   \n",
       "46654          37.0               1.0              32.0   \n",
       "857847          5.0               1.0               4.0   \n",
       "618668          5.0               NaN               5.0   \n",
       "520543          5.0               NaN               3.0   \n",
       "\n",
       "        totals.transactionRevenue       trafficSource.adContent  \\\n",
       "212027                        NaN                           NaN   \n",
       "82177                         NaN                           NaN   \n",
       "848580                        NaN                           NaN   \n",
       "802550                        NaN                           NaN   \n",
       "428608                        NaN                           NaN   \n",
       "202288                        NaN                           NaN   \n",
       "46654                         NaN  {KeyWord:Google Brand Items}   \n",
       "857847                        NaN  {KeyWord:Google Brand Items}   \n",
       "618668                        NaN                           NaN   \n",
       "520543                        NaN                           NaN   \n",
       "\n",
       "       trafficSource.campaign  trafficSource.isTrueDirect  \\\n",
       "212027              (not set)                         NaN   \n",
       "82177               (not set)                         NaN   \n",
       "848580              (not set)                         1.0   \n",
       "802550              (not set)                         1.0   \n",
       "428608              (not set)                         1.0   \n",
       "202288              (not set)                         1.0   \n",
       "46654        AW - Accessories                         NaN   \n",
       "857847       AW - Accessories                         NaN   \n",
       "618668              (not set)                         1.0   \n",
       "520543              (not set)                         1.0   \n",
       "\n",
       "         trafficSource.keyword trafficSource.medium  \\\n",
       "212027          (not provided)              organic   \n",
       "82177           (not provided)              organic   \n",
       "848580                     NaN             referral   \n",
       "802550                     NaN             referral   \n",
       "428608          (not provided)              organic   \n",
       "202288          (not provided)              organic   \n",
       "46654   +google +tshirt +store                  cpc   \n",
       "857847  +google +tshirt +store                  cpc   \n",
       "618668                     NaN             referral   \n",
       "520543                     NaN             referral   \n",
       "\n",
       "       trafficSource.referralPath trafficSource.source  Sessions  \\\n",
       "212027                        NaN               google       NaN   \n",
       "82177                         NaN               google       NaN   \n",
       "848580                          /  mall.googleplex.com       NaN   \n",
       "802550                          /  mall.googleplex.com       NaN   \n",
       "428608                        NaN               google       NaN   \n",
       "202288                        NaN               google       NaN   \n",
       "46654                         NaN               google       NaN   \n",
       "857847                        NaN               google       NaN   \n",
       "618668                          /  mall.googleplex.com       NaN   \n",
       "520543                          /  mall.googleplex.com       NaN   \n",
       "\n",
       "       Avg. Session Duration Bounce Rate  Revenue  Transactions  \\\n",
       "212027                   NaN         NaN      0.0           NaN   \n",
       "82177                    NaN         NaN      0.0           NaN   \n",
       "848580                   NaN         NaN      0.0           NaN   \n",
       "802550                   NaN         NaN      0.0           NaN   \n",
       "428608                   NaN         NaN      0.0           NaN   \n",
       "202288                   NaN         NaN      0.0           NaN   \n",
       "46654                    NaN         NaN      0.0           NaN   \n",
       "857847                   NaN         NaN      0.0           NaN   \n",
       "618668                   NaN         NaN      0.0           NaN   \n",
       "520543                   NaN         NaN      0.0           NaN   \n",
       "\n",
       "       Goal Conversion Rate  \n",
       "212027                  NaN  \n",
       "82177                   NaN  \n",
       "848580                  NaN  \n",
       "802550                  NaN  \n",
       "428608                  NaN  \n",
       "202288                  NaN  \n",
       "46654                   NaN  \n",
       "857847                  NaN  \n",
       "618668                  NaN  \n",
       "520543                  NaN  "
      ]
     },
     "execution_count": 17,
     "metadata": {},
     "output_type": "execute_result"
    }
   ],
   "source": [
    "problem = train[train.sessionId.map(train.sessionId.value_counts() == 2)].sort_values([\"sessionId\", 'visitStartTime'])\n",
    "problem.head(10)"
   ]
  },
  {
   "cell_type": "markdown",
   "metadata": {
    "_uuid": "4e397738f34d9c4c05735755ed06900d943e2c83",
    "hidden": true
   },
   "source": [
    "VisitStartTime seems to be same thing as visitId... yet not always!"
   ]
  },
  {
   "cell_type": "code",
   "execution_count": 19,
   "metadata": {
    "ExecuteTime": {
     "end_time": "2018-10-14T10:14:48.753719Z",
     "start_time": "2018-10-14T10:14:48.732712Z"
    },
    "_uuid": "d1da4c6151bb7383022c400ac4f4fd5b5a8d8be2",
    "hidden": true
   },
   "outputs": [
    {
     "data": {
      "text/plain": [
       "<matplotlib.axes._subplots.AxesSubplot at 0x7fd2e241cc50>"
      ]
     },
     "execution_count": 19,
     "metadata": {},
     "output_type": "execute_result"
    },
    {
     "data": {
      "image/png": "[encoded data removed]",
      "text/plain": [
       "<Figure size 1440x432 with 1 Axes>"
      ]
     },
     "metadata": {
      "needs_background": "light"
     },
     "output_type": "display_data"
    }
   ],
   "source": [
    "plt.figure(figsize=(20,6))\n",
    "(train.visitStartTime == train.visitId).value_counts()\n",
    "(train.visitStartTime == train.visitId).value_counts().plot.barh(color = [\"orange\",\"green\"])"
   ]
  },
  {
   "cell_type": "markdown",
   "metadata": {
    "_uuid": "095aa23508ed949ebdd2116a290c960ee5c1d5c4",
    "hidden": true
   },
   "source": [
    "Suspicious simultaneous visitors with same visitorId and same visitStartTime:"
   ]
  },
  {
   "cell_type": "code",
   "execution_count": 20,
   "metadata": {
    "ExecuteTime": {
     "end_time": "2018-10-14T10:14:53.691564Z",
     "start_time": "2018-10-14T10:14:48.754700Z"
    },
    "_uuid": "8c46911f4f61272464a1adfa00a29b4c54b2d472",
    "hidden": true
   },
   "outputs": [
    {
     "data": {
      "text/html": [
       "<div>\n",
       "<style scoped>\n",
       "    .dataframe tbody tr th:only-of-type {\n",
       "        vertical-align: middle;\n",
       "    }\n",
       "\n",
       "    .dataframe tbody tr th {\n",
       "        vertical-align: top;\n",
       "    }\n",
       "\n",
       "    .dataframe thead th {\n",
       "        text-align: right;\n",
       "    }\n",
       "</style>\n",
       "<table border=\"1\" class=\"dataframe\">\n",
       "  <thead>\n",
       "    <tr style=\"text-align: right;\">\n",
       "      <th></th>\n",
       "      <th>channelGrouping</th>\n",
       "      <th>date</th>\n",
       "      <th>fullVisitorId</th>\n",
       "      <th>sessionId</th>\n",
       "      <th>visitId</th>\n",
       "      <th>visitNumber</th>\n",
       "      <th>visitStartTime</th>\n",
       "      <th>device.browser</th>\n",
       "      <th>device.deviceCategory</th>\n",
       "      <th>device.isMobile</th>\n",
       "      <th>device.operatingSystem</th>\n",
       "      <th>geoNetwork.city</th>\n",
       "      <th>geoNetwork.continent</th>\n",
       "      <th>geoNetwork.country</th>\n",
       "      <th>geoNetwork.metro</th>\n",
       "      <th>geoNetwork.networkDomain</th>\n",
       "      <th>geoNetwork.region</th>\n",
       "      <th>geoNetwork.subContinent</th>\n",
       "      <th>totals.bounces</th>\n",
       "      <th>totals.hits</th>\n",
       "      <th>totals.newVisits</th>\n",
       "      <th>totals.pageviews</th>\n",
       "      <th>totals.transactionRevenue</th>\n",
       "      <th>trafficSource.adContent</th>\n",
       "      <th>trafficSource.campaign</th>\n",
       "      <th>trafficSource.isTrueDirect</th>\n",
       "      <th>trafficSource.keyword</th>\n",
       "      <th>trafficSource.medium</th>\n",
       "      <th>trafficSource.referralPath</th>\n",
       "      <th>trafficSource.source</th>\n",
       "      <th>Sessions</th>\n",
       "      <th>Avg. Session Duration</th>\n",
       "      <th>Bounce Rate</th>\n",
       "      <th>Revenue</th>\n",
       "      <th>Transactions</th>\n",
       "      <th>Goal Conversion Rate</th>\n",
       "    </tr>\n",
       "  </thead>\n",
       "  <tbody>\n",
       "    <tr>\n",
       "      <th>258149</th>\n",
       "      <td>Direct</td>\n",
       "      <td>2017-04-25</td>\n",
       "      <td>2416319035096969159</td>\n",
       "      <td>2416319035096969159_1493146175</td>\n",
       "      <td>1493146175</td>\n",
       "      <td>1.0</td>\n",
       "      <td>1.493146e+09</td>\n",
       "      <td>Chrome</td>\n",
       "      <td>desktop</td>\n",
       "      <td>0.0</td>\n",
       "      <td>Chrome OS</td>\n",
       "      <td>Buenos Aires</td>\n",
       "      <td>Americas</td>\n",
       "      <td>Argentina</td>\n",
       "      <td>(not set)</td>\n",
       "      <td>(not set)</td>\n",
       "      <td>Buenos Aires</td>\n",
       "      <td>South America</td>\n",
       "      <td>NaN</td>\n",
       "      <td>2.0</td>\n",
       "      <td>1.0</td>\n",
       "      <td>2.0</td>\n",
       "      <td>NaN</td>\n",
       "      <td>NaN</td>\n",
       "      <td>(not set)</td>\n",
       "      <td>1.0</td>\n",
       "      <td>NaN</td>\n",
       "      <td>(none)</td>\n",
       "      <td>NaN</td>\n",
       "      <td>(direct)</td>\n",
       "      <td>NaN</td>\n",
       "      <td>NaN</td>\n",
       "      <td>NaN</td>\n",
       "      <td>0.0</td>\n",
       "      <td>NaN</td>\n",
       "      <td>NaN</td>\n",
       "    </tr>\n",
       "    <tr>\n",
       "      <th>258251</th>\n",
       "      <td>Direct</td>\n",
       "      <td>2017-04-25</td>\n",
       "      <td>5875467051006180209</td>\n",
       "      <td>5875467051006180209_1493146175</td>\n",
       "      <td>1493146175</td>\n",
       "      <td>1.0</td>\n",
       "      <td>1.493146e+09</td>\n",
       "      <td>Chrome</td>\n",
       "      <td>desktop</td>\n",
       "      <td>0.0</td>\n",
       "      <td>Chrome OS</td>\n",
       "      <td>Buenos Aires</td>\n",
       "      <td>Americas</td>\n",
       "      <td>Argentina</td>\n",
       "      <td>(not set)</td>\n",
       "      <td>(not set)</td>\n",
       "      <td>Buenos Aires</td>\n",
       "      <td>South America</td>\n",
       "      <td>NaN</td>\n",
       "      <td>4.0</td>\n",
       "      <td>1.0</td>\n",
       "      <td>4.0</td>\n",
       "      <td>NaN</td>\n",
       "      <td>NaN</td>\n",
       "      <td>(not set)</td>\n",
       "      <td>1.0</td>\n",
       "      <td>NaN</td>\n",
       "      <td>(none)</td>\n",
       "      <td>NaN</td>\n",
       "      <td>(direct)</td>\n",
       "      <td>NaN</td>\n",
       "      <td>NaN</td>\n",
       "      <td>NaN</td>\n",
       "      <td>0.0</td>\n",
       "      <td>NaN</td>\n",
       "      <td>NaN</td>\n",
       "    </tr>\n",
       "    <tr>\n",
       "      <th>258415</th>\n",
       "      <td>Direct</td>\n",
       "      <td>2017-04-25</td>\n",
       "      <td>3888067253787916439</td>\n",
       "      <td>3888067253787916439_1493146175</td>\n",
       "      <td>1493146175</td>\n",
       "      <td>1.0</td>\n",
       "      <td>1.493146e+09</td>\n",
       "      <td>Chrome</td>\n",
       "      <td>desktop</td>\n",
       "      <td>0.0</td>\n",
       "      <td>Chrome OS</td>\n",
       "      <td>Buenos Aires</td>\n",
       "      <td>Americas</td>\n",
       "      <td>Argentina</td>\n",
       "      <td>(not set)</td>\n",
       "      <td>(not set)</td>\n",
       "      <td>Buenos Aires</td>\n",
       "      <td>South America</td>\n",
       "      <td>NaN</td>\n",
       "      <td>7.0</td>\n",
       "      <td>1.0</td>\n",
       "      <td>7.0</td>\n",
       "      <td>NaN</td>\n",
       "      <td>NaN</td>\n",
       "      <td>(not set)</td>\n",
       "      <td>1.0</td>\n",
       "      <td>NaN</td>\n",
       "      <td>(none)</td>\n",
       "      <td>NaN</td>\n",
       "      <td>(direct)</td>\n",
       "      <td>NaN</td>\n",
       "      <td>NaN</td>\n",
       "      <td>NaN</td>\n",
       "      <td>0.0</td>\n",
       "      <td>NaN</td>\n",
       "      <td>NaN</td>\n",
       "    </tr>\n",
       "    <tr>\n",
       "      <th>258455</th>\n",
       "      <td>Direct</td>\n",
       "      <td>2017-04-25</td>\n",
       "      <td>0579533224601930433</td>\n",
       "      <td>0579533224601930433_1493146175</td>\n",
       "      <td>1493146175</td>\n",
       "      <td>1.0</td>\n",
       "      <td>1.493146e+09</td>\n",
       "      <td>Chrome</td>\n",
       "      <td>desktop</td>\n",
       "      <td>0.0</td>\n",
       "      <td>Chrome OS</td>\n",
       "      <td>Buenos Aires</td>\n",
       "      <td>Americas</td>\n",
       "      <td>Argentina</td>\n",
       "      <td>(not set)</td>\n",
       "      <td>(not set)</td>\n",
       "      <td>Buenos Aires</td>\n",
       "      <td>South America</td>\n",
       "      <td>NaN</td>\n",
       "      <td>8.0</td>\n",
       "      <td>1.0</td>\n",
       "      <td>8.0</td>\n",
       "      <td>NaN</td>\n",
       "      <td>NaN</td>\n",
       "      <td>(not set)</td>\n",
       "      <td>1.0</td>\n",
       "      <td>NaN</td>\n",
       "      <td>(none)</td>\n",
       "      <td>NaN</td>\n",
       "      <td>(direct)</td>\n",
       "      <td>NaN</td>\n",
       "      <td>NaN</td>\n",
       "      <td>NaN</td>\n",
       "      <td>0.0</td>\n",
       "      <td>NaN</td>\n",
       "      <td>NaN</td>\n",
       "    </tr>\n",
       "    <tr>\n",
       "      <th>258470</th>\n",
       "      <td>Direct</td>\n",
       "      <td>2017-04-25</td>\n",
       "      <td>956161522071607688</td>\n",
       "      <td>956161522071607688_1493146175</td>\n",
       "      <td>1493146175</td>\n",
       "      <td>1.0</td>\n",
       "      <td>1.493146e+09</td>\n",
       "      <td>Chrome</td>\n",
       "      <td>desktop</td>\n",
       "      <td>0.0</td>\n",
       "      <td>Chrome OS</td>\n",
       "      <td>Buenos Aires</td>\n",
       "      <td>Americas</td>\n",
       "      <td>Argentina</td>\n",
       "      <td>(not set)</td>\n",
       "      <td>(not set)</td>\n",
       "      <td>Buenos Aires</td>\n",
       "      <td>South America</td>\n",
       "      <td>NaN</td>\n",
       "      <td>9.0</td>\n",
       "      <td>1.0</td>\n",
       "      <td>9.0</td>\n",
       "      <td>NaN</td>\n",
       "      <td>NaN</td>\n",
       "      <td>(not set)</td>\n",
       "      <td>1.0</td>\n",
       "      <td>NaN</td>\n",
       "      <td>(none)</td>\n",
       "      <td>NaN</td>\n",
       "      <td>(direct)</td>\n",
       "      <td>NaN</td>\n",
       "      <td>NaN</td>\n",
       "      <td>NaN</td>\n",
       "      <td>0.0</td>\n",
       "      <td>NaN</td>\n",
       "      <td>NaN</td>\n",
       "    </tr>\n",
       "    <tr>\n",
       "      <th>258523</th>\n",
       "      <td>Direct</td>\n",
       "      <td>2017-04-25</td>\n",
       "      <td>2943475894610901056</td>\n",
       "      <td>2943475894610901056_1493146175</td>\n",
       "      <td>1493146175</td>\n",
       "      <td>1.0</td>\n",
       "      <td>1.493146e+09</td>\n",
       "      <td>Chrome</td>\n",
       "      <td>desktop</td>\n",
       "      <td>0.0</td>\n",
       "      <td>Chrome OS</td>\n",
       "      <td>Buenos Aires</td>\n",
       "      <td>Americas</td>\n",
       "      <td>Argentina</td>\n",
       "      <td>(not set)</td>\n",
       "      <td>(not set)</td>\n",
       "      <td>Buenos Aires</td>\n",
       "      <td>South America</td>\n",
       "      <td>NaN</td>\n",
       "      <td>12.0</td>\n",
       "      <td>1.0</td>\n",
       "      <td>12.0</td>\n",
       "      <td>NaN</td>\n",
       "      <td>NaN</td>\n",
       "      <td>(not set)</td>\n",
       "      <td>1.0</td>\n",
       "      <td>NaN</td>\n",
       "      <td>(none)</td>\n",
       "      <td>NaN</td>\n",
       "      <td>(direct)</td>\n",
       "      <td>NaN</td>\n",
       "      <td>NaN</td>\n",
       "      <td>NaN</td>\n",
       "      <td>0.0</td>\n",
       "      <td>NaN</td>\n",
       "      <td>NaN</td>\n",
       "    </tr>\n",
       "    <tr>\n",
       "      <th>258583</th>\n",
       "      <td>Direct</td>\n",
       "      <td>2017-04-25</td>\n",
       "      <td>715403851793675702</td>\n",
       "      <td>715403851793675702_1493146175</td>\n",
       "      <td>1493146175</td>\n",
       "      <td>1.0</td>\n",
       "      <td>1.493146e+09</td>\n",
       "      <td>Chrome</td>\n",
       "      <td>desktop</td>\n",
       "      <td>0.0</td>\n",
       "      <td>Chrome OS</td>\n",
       "      <td>Buenos Aires</td>\n",
       "      <td>Americas</td>\n",
       "      <td>Argentina</td>\n",
       "      <td>(not set)</td>\n",
       "      <td>(not set)</td>\n",
       "      <td>Buenos Aires</td>\n",
       "      <td>South America</td>\n",
       "      <td>NaN</td>\n",
       "      <td>16.0</td>\n",
       "      <td>1.0</td>\n",
       "      <td>8.0</td>\n",
       "      <td>NaN</td>\n",
       "      <td>NaN</td>\n",
       "      <td>(not set)</td>\n",
       "      <td>1.0</td>\n",
       "      <td>NaN</td>\n",
       "      <td>(none)</td>\n",
       "      <td>NaN</td>\n",
       "      <td>(direct)</td>\n",
       "      <td>NaN</td>\n",
       "      <td>NaN</td>\n",
       "      <td>NaN</td>\n",
       "      <td>0.0</td>\n",
       "      <td>NaN</td>\n",
       "      <td>NaN</td>\n",
       "    </tr>\n",
       "    <tr>\n",
       "      <th>259881</th>\n",
       "      <td>Direct</td>\n",
       "      <td>2017-04-25</td>\n",
       "      <td>2234027337409555263</td>\n",
       "      <td>2234027337409555263_1493146175</td>\n",
       "      <td>1493146175</td>\n",
       "      <td>1.0</td>\n",
       "      <td>1.493146e+09</td>\n",
       "      <td>Chrome</td>\n",
       "      <td>desktop</td>\n",
       "      <td>0.0</td>\n",
       "      <td>Chrome OS</td>\n",
       "      <td>Buenos Aires</td>\n",
       "      <td>Americas</td>\n",
       "      <td>Argentina</td>\n",
       "      <td>(not set)</td>\n",
       "      <td>(not set)</td>\n",
       "      <td>Buenos Aires</td>\n",
       "      <td>South America</td>\n",
       "      <td>NaN</td>\n",
       "      <td>3.0</td>\n",
       "      <td>1.0</td>\n",
       "      <td>3.0</td>\n",
       "      <td>NaN</td>\n",
       "      <td>NaN</td>\n",
       "      <td>(not set)</td>\n",
       "      <td>1.0</td>\n",
       "      <td>NaN</td>\n",
       "      <td>(none)</td>\n",
       "      <td>NaN</td>\n",
       "      <td>(direct)</td>\n",
       "      <td>NaN</td>\n",
       "      <td>NaN</td>\n",
       "      <td>NaN</td>\n",
       "      <td>0.0</td>\n",
       "      <td>NaN</td>\n",
       "      <td>NaN</td>\n",
       "    </tr>\n",
       "  </tbody>\n",
       "</table>\n",
       "</div>"
      ],
      "text/plain": [
       "       channelGrouping       date        fullVisitorId  \\\n",
       "258149          Direct 2017-04-25  2416319035096969159   \n",
       "258251          Direct 2017-04-25  5875467051006180209   \n",
       "258415          Direct 2017-04-25  3888067253787916439   \n",
       "258455          Direct 2017-04-25  0579533224601930433   \n",
       "258470          Direct 2017-04-25   956161522071607688   \n",
       "258523          Direct 2017-04-25  2943475894610901056   \n",
       "258583          Direct 2017-04-25   715403851793675702   \n",
       "259881          Direct 2017-04-25  2234027337409555263   \n",
       "\n",
       "                             sessionId     visitId  visitNumber  \\\n",
       "258149  2416319035096969159_1493146175  1493146175          1.0   \n",
       "258251  5875467051006180209_1493146175  1493146175          1.0   \n",
       "258415  3888067253787916439_1493146175  1493146175          1.0   \n",
       "258455  0579533224601930433_1493146175  1493146175          1.0   \n",
       "258470   956161522071607688_1493146175  1493146175          1.0   \n",
       "258523  2943475894610901056_1493146175  1493146175          1.0   \n",
       "258583   715403851793675702_1493146175  1493146175          1.0   \n",
       "259881  2234027337409555263_1493146175  1493146175          1.0   \n",
       "\n",
       "        visitStartTime device.browser device.deviceCategory  device.isMobile  \\\n",
       "258149    1.493146e+09         Chrome               desktop              0.0   \n",
       "258251    1.493146e+09         Chrome               desktop              0.0   \n",
       "258415    1.493146e+09         Chrome               desktop              0.0   \n",
       "258455    1.493146e+09         Chrome               desktop              0.0   \n",
       "258470    1.493146e+09         Chrome               desktop              0.0   \n",
       "258523    1.493146e+09         Chrome               desktop              0.0   \n",
       "258583    1.493146e+09         Chrome               desktop              0.0   \n",
       "259881    1.493146e+09         Chrome               desktop              0.0   \n",
       "\n",
       "       device.operatingSystem geoNetwork.city geoNetwork.continent  \\\n",
       "258149              Chrome OS    Buenos Aires             Americas   \n",
       "258251              Chrome OS    Buenos Aires             Americas   \n",
       "258415              Chrome OS    Buenos Aires             Americas   \n",
       "258455              Chrome OS    Buenos Aires             Americas   \n",
       "258470              Chrome OS    Buenos Aires             Americas   \n",
       "258523              Chrome OS    Buenos Aires             Americas   \n",
       "258583              Chrome OS    Buenos Aires             Americas   \n",
       "259881              Chrome OS    Buenos Aires             Americas   \n",
       "\n",
       "       geoNetwork.country geoNetwork.metro geoNetwork.networkDomain  \\\n",
       "258149          Argentina        (not set)                (not set)   \n",
       "258251          Argentina        (not set)                (not set)   \n",
       "258415          Argentina        (not set)                (not set)   \n",
       "258455          Argentina        (not set)                (not set)   \n",
       "258470          Argentina        (not set)                (not set)   \n",
       "258523          Argentina        (not set)                (not set)   \n",
       "258583          Argentina        (not set)                (not set)   \n",
       "259881          Argentina        (not set)                (not set)   \n",
       "\n",
       "       geoNetwork.region geoNetwork.subContinent  totals.bounces  totals.hits  \\\n",
       "258149      Buenos Aires           South America             NaN          2.0   \n",
       "258251      Buenos Aires           South America             NaN          4.0   \n",
       "258415      Buenos Aires           South America             NaN          7.0   \n",
       "258455      Buenos Aires           South America             NaN          8.0   \n",
       "258470      Buenos Aires           South America             NaN          9.0   \n",
       "258523      Buenos Aires           South America             NaN         12.0   \n",
       "258583      Buenos Aires           South America             NaN         16.0   \n",
       "259881      Buenos Aires           South America             NaN          3.0   \n",
       "\n",
       "        totals.newVisits  totals.pageviews  totals.transactionRevenue  \\\n",
       "258149               1.0               2.0                        NaN   \n",
       "258251               1.0               4.0                        NaN   \n",
       "258415               1.0               7.0                        NaN   \n",
       "258455               1.0               8.0                        NaN   \n",
       "258470               1.0               9.0                        NaN   \n",
       "258523               1.0              12.0                        NaN   \n",
       "258583               1.0               8.0                        NaN   \n",
       "259881               1.0               3.0                        NaN   \n",
       "\n",
       "       trafficSource.adContent trafficSource.campaign  \\\n",
       "258149                     NaN              (not set)   \n",
       "258251                     NaN              (not set)   \n",
       "258415                     NaN              (not set)   \n",
       "258455                     NaN              (not set)   \n",
       "258470                     NaN              (not set)   \n",
       "258523                     NaN              (not set)   \n",
       "258583                     NaN              (not set)   \n",
       "259881                     NaN              (not set)   \n",
       "\n",
       "        trafficSource.isTrueDirect trafficSource.keyword trafficSource.medium  \\\n",
       "258149                         1.0                   NaN               (none)   \n",
       "258251                         1.0                   NaN               (none)   \n",
       "258415                         1.0                   NaN               (none)   \n",
       "258455                         1.0                   NaN               (none)   \n",
       "258470                         1.0                   NaN               (none)   \n",
       "258523                         1.0                   NaN               (none)   \n",
       "258583                         1.0                   NaN               (none)   \n",
       "259881                         1.0                   NaN               (none)   \n",
       "\n",
       "       trafficSource.referralPath trafficSource.source  Sessions  \\\n",
       "258149                        NaN             (direct)       NaN   \n",
       "258251                        NaN             (direct)       NaN   \n",
       "258415                        NaN             (direct)       NaN   \n",
       "258455                        NaN             (direct)       NaN   \n",
       "258470                        NaN             (direct)       NaN   \n",
       "258523                        NaN             (direct)       NaN   \n",
       "258583                        NaN             (direct)       NaN   \n",
       "259881                        NaN             (direct)       NaN   \n",
       "\n",
       "       Avg. Session Duration Bounce Rate  Revenue  Transactions  \\\n",
       "258149                   NaN         NaN      0.0           NaN   \n",
       "258251                   NaN         NaN      0.0           NaN   \n",
       "258415                   NaN         NaN      0.0           NaN   \n",
       "258455                   NaN         NaN      0.0           NaN   \n",
       "258470                   NaN         NaN      0.0           NaN   \n",
       "258523                   NaN         NaN      0.0           NaN   \n",
       "258583                   NaN         NaN      0.0           NaN   \n",
       "259881                   NaN         NaN      0.0           NaN   \n",
       "\n",
       "       Goal Conversion Rate  \n",
       "258149                  NaN  \n",
       "258251                  NaN  \n",
       "258415                  NaN  \n",
       "258455                  NaN  \n",
       "258470                  NaN  \n",
       "258523                  NaN  \n",
       "258583                  NaN  \n",
       "259881                  NaN  "
      ]
     },
     "execution_count": 20,
     "metadata": {},
     "output_type": "execute_result"
    }
   ],
   "source": [
    "train.loc[pd.to_datetime(train.visitStartTime, unit='s') == \"2017-04-25 18:49:35\"].head(8)"
   ]
  },
  {
   "cell_type": "markdown",
   "metadata": {
    "_uuid": "62bd7555d3071836e871bfd3056916375d4a84ae",
    "hidden": true
   },
   "source": [
    "Seems to be a serious problem:"
   ]
  },
  {
   "cell_type": "code",
   "execution_count": 21,
   "metadata": {
    "ExecuteTime": {
     "end_time": "2018-10-14T10:14:54.071763Z",
     "start_time": "2018-10-14T10:14:53.692566Z"
    },
    "_uuid": "5dc9f41d1d93edcee46d9d3cd73be75334c42c24",
    "hidden": true
   },
   "outputs": [
    {
     "name": "stdout",
     "output_type": "stream",
     "text": [
      "Train:  [     0 869451  16411    396     38      3      3      0      1]\n"
     ]
    }
   ],
   "source": [
    "print(\"Train: \", np.bincount(train.visitId.value_counts()))"
   ]
  },
  {
   "cell_type": "code",
   "execution_count": 22,
   "metadata": {
    "ExecuteTime": {
     "end_time": "2018-10-14T10:14:54.199694Z",
     "start_time": "2018-10-14T10:14:54.072751Z"
    },
    "_uuid": "8aca51ed171fffc4b5745422ebfbd934f1fcf2a0",
    "hidden": true
   },
   "outputs": [
    {
     "name": "stdout",
     "output_type": "stream",
     "text": [
      "test:  [     0 759983  17804    978    262    110     62     36     18     17\n",
      "     24     12     15     24     22     24     19     21     21     23\n",
      "      9      8      5      2      2      0      1      0      2]\n"
     ]
    }
   ],
   "source": [
    "print(\"test: \", np.bincount(test.visitId.value_counts()))"
   ]
  },
  {
   "cell_type": "markdown",
   "metadata": {
    "_uuid": "17aff2e8a7b671707d33e013bfed5978d3d689f1"
   },
   "source": [
    "# Preprocessing"
   ]
  },
  {
   "cell_type": "markdown",
   "metadata": {
    "_uuid": "943bf363df8a37af86aeb46eec0cd8a9db078bf7"
   },
   "source": [
    "Setting time as index and saving time as feature (for FE purposes only)"
   ]
  },
  {
   "cell_type": "code",
   "execution_count": 23,
   "metadata": {
    "ExecuteTime": {
     "end_time": "2018-10-14T10:15:03.164776Z",
     "start_time": "2018-10-14T10:14:54.200678Z"
    },
    "_uuid": "3ed4a7cd86cef5f945e2e57d1c29affd8aec46d6"
   },
   "outputs": [],
   "source": [
    "train.visitStartTime = pd.to_datetime(train.visitStartTime, unit='s')\n",
    "test.visitStartTime = pd.to_datetime(test.visitStartTime, unit='s')\n",
    "train[\"date\"] = train.visitStartTime\n",
    "test[\"date\"] = test.visitStartTime"
   ]
  },
  {
   "cell_type": "code",
   "execution_count": 24,
   "metadata": {
    "ExecuteTime": {
     "end_time": "2018-10-14T10:15:04.170198Z",
     "start_time": "2018-10-14T10:15:03.165734Z"
    },
    "_uuid": "37086f27593fe6ffae04bba4016f1e2250e8d6bd"
   },
   "outputs": [],
   "source": [
    "train.set_index(\"visitStartTime\", inplace=True)\n",
    "test.set_index(\"visitStartTime\", inplace=True)\n",
    "train.sort_index(inplace=True)\n",
    "test.sort_index(inplace=True)"
   ]
  },
  {
   "cell_type": "markdown",
   "metadata": {
    "_uuid": "fe8ceb2681656261dd7fcd114a8f102817cf3aaa"
   },
   "source": [
    "Clearing rare categories and setting 0 to NaNs:"
   ]
  },
  {
   "cell_type": "code",
   "execution_count": 25,
   "metadata": {
    "ExecuteTime": {
     "end_time": "2018-10-14T10:15:04.263164Z",
     "start_time": "2018-10-14T10:15:04.171179Z"
    },
    "_uuid": "9fb6867cb20933891f4f1d5fbfe210bedadea973"
   },
   "outputs": [],
   "source": [
    "def clearRare(columnname, limit = 1000):\n",
    "    # you may search for rare categories in train, train&test, or just test\n",
    "    #vc = pd.concat([train[columnname], test[columnname]], sort=False).value_counts()\n",
    "    vc = test[columnname].value_counts()\n",
    "    \n",
    "    common = vc > limit\n",
    "    common = set(common.index[common].values)\n",
    "    print(\"Set\", sum(vc <= limit), columnname, \"categories to 'other';\", end=\" \")\n",
    "    \n",
    "    train.loc[train[columnname].map(lambda x: x not in common), columnname] = 'other'\n",
    "    test.loc[test[columnname].map(lambda x: x not in common), columnname] = 'other'\n",
    "    print(\"now there are\", train[columnname].nunique(), \"categories in train\")"
   ]
  },
  {
   "cell_type": "code",
   "execution_count": 26,
   "metadata": {
    "ExecuteTime": {
     "end_time": "2018-10-14T10:15:06.666037Z",
     "start_time": "2018-10-14T10:15:04.264177Z"
    },
    "_uuid": "f701fb7ac0896957145e44b1e827019d75b51ea9"
   },
   "outputs": [],
   "source": [
    "train.fillna(0, inplace=True)\n",
    "test.fillna(0, inplace=True)"
   ]
  },
  {
   "cell_type": "code",
   "execution_count": 27,
   "metadata": {
    "ExecuteTime": {
     "end_time": "2018-10-14T10:15:14.334775Z",
     "start_time": "2018-10-14T10:15:06.667037Z"
    },
    "_uuid": "a695f7c5574559cde287a13717e45fb2d2cfbf3e"
   },
   "outputs": [
    {
     "name": "stdout",
     "output_type": "stream",
     "text": [
      "Set 98 device.browser categories to 'other'; now there are 11 categories in train\n",
      "Set 15 device.operatingSystem categories to 'other'; now there are 8 categories in train\n",
      "Set 160 geoNetwork.country categories to 'other'; now there are 60 categories in train\n",
      "Set 656 geoNetwork.city categories to 'other'; now there are 77 categories in train\n",
      "Set 86 geoNetwork.metro categories to 'other'; now there are 24 categories in train\n",
      "Set 25689 geoNetwork.networkDomain categories to 'other'; now there are 62 categories in train\n",
      "Set 314 geoNetwork.region categories to 'other'; now there are 62 categories in train\n",
      "Set 5 geoNetwork.subContinent categories to 'other'; now there are 19 categories in train\n",
      "Set 46 trafficSource.adContent categories to 'other'; now there are 4 categories in train\n",
      "Set 23 trafficSource.campaign categories to 'other'; now there are 5 categories in train\n",
      "Set 2409 trafficSource.keyword categories to 'other'; now there are 8 categories in train\n",
      "Set 1 trafficSource.medium categories to 'other'; now there are 7 categories in train\n",
      "Set 2173 trafficSource.referralPath categories to 'other'; now there are 17 categories in train\n",
      "Set 303 trafficSource.source categories to 'other'; now there are 22 categories in train\n"
     ]
    }
   ],
   "source": [
    "clearRare(\"device.browser\")\n",
    "clearRare(\"device.operatingSystem\")\n",
    "clearRare(\"geoNetwork.country\")\n",
    "clearRare(\"geoNetwork.city\")\n",
    "clearRare(\"geoNetwork.metro\")\n",
    "clearRare(\"geoNetwork.networkDomain\")\n",
    "clearRare(\"geoNetwork.region\")\n",
    "clearRare(\"geoNetwork.subContinent\")\n",
    "clearRare(\"trafficSource.adContent\")\n",
    "clearRare(\"trafficSource.campaign\")\n",
    "clearRare(\"trafficSource.keyword\")\n",
    "clearRare(\"trafficSource.medium\")\n",
    "clearRare(\"trafficSource.referralPath\")\n",
    "clearRare(\"trafficSource.source\")"
   ]
  },
  {
   "cell_type": "code",
   "execution_count": 28,
   "metadata": {
    "ExecuteTime": {
     "end_time": "2018-10-14T10:15:26.177042Z",
     "start_time": "2018-10-14T10:15:19.256035Z"
    },
    "_uuid": "8fe894ddc03426c5478af9e6d0434b4979dd9a26"
   },
   "outputs": [],
   "source": [
    "# Clearing leaked data:\n",
    "for df in [train, test]:\n",
    "    df[\"Avg. Session Duration\"][df[\"Avg. Session Duration\"] == 0] = \"00:00:00\"\n",
    "    df[\"Avg. Session Duration\"] = df[\"Avg. Session Duration\"].str.split(':').apply(lambda x: int(x[0]) * 60 + int(x[1]))\n",
    "    df[\"Bounce Rate\"] = df[\"Bounce Rate\"].astype(str).apply(lambda x: x.replace('%', '')).astype(float)\n",
    "    df[\"Goal Conversion Rate\"] = df[\"Goal Conversion Rate\"].astype(str).apply(lambda x: x.replace('%', '')).astype(float)"
   ]
  },
  {
   "cell_type": "markdown",
   "metadata": {
    "_uuid": "2b7f3a3afa9484311f41ad94445c47f538d05159"
   },
   "source": [
    "# Features"
   ]
  },
  {
   "cell_type": "markdown",
   "metadata": {
    "_uuid": "68e22002e956f21dbcdd067827bbf52b108aac0b"
   },
   "source": [
    "Based on strange things in dataset:"
   ]
  },
  {
   "cell_type": "code",
   "execution_count": 29,
   "metadata": {
    "ExecuteTime": {
     "end_time": "2018-10-14T10:15:55.506837Z",
     "start_time": "2018-10-14T10:15:52.159667Z"
    },
    "_uuid": "3f1a255e21cbee7ae45c1fe652cf4ae23bb4f86a"
   },
   "outputs": [],
   "source": [
    "for df in [train, test]:\n",
    "    # remember these features were equal, but not always? May be it means something...\n",
    "    df[\"id_incoherence\"] = pd.to_datetime(df.visitId, unit='s') != df.date\n",
    "    # remember visitId dublicates?\n",
    "    df[\"visitId_dublicates\"] = df.visitId.map(df.visitId.value_counts())\n",
    "    # remember session dublicates?\n",
    "    df[\"session_dublicates\"] = df.sessionId.map(df.sessionId.value_counts())"
   ]
  },
  {
   "cell_type": "markdown",
   "metadata": {
    "_uuid": "37f5047dce936f96a127e277d918e7ddfe615551"
   },
   "source": [
    "Basic time features:"
   ]
  },
  {
   "cell_type": "code",
   "execution_count": 30,
   "metadata": {
    "ExecuteTime": {
     "end_time": "2018-10-14T10:15:56.543232Z",
     "start_time": "2018-10-14T10:15:55.507819Z"
    },
    "_uuid": "073ccfadc886fdde9da3a780f61aff53bfc52f29"
   },
   "outputs": [],
   "source": [
    "for df in [train, test]:\n",
    "    df['weekday'] = df['date'].dt.dayofweek.astype(object)\n",
    "    df['time'] = df['date'].dt.second + df['date'].dt.minute*60 + df['date'].dt.hour*3600\n",
    "    #df['month'] = df['date'].dt.month   # it must not be included in features during learning!\n",
    "    df['day'] = df['date'].dt.date       # it must not be included in features during learning!"
   ]
  },
  {
   "cell_type": "markdown",
   "metadata": {
    "_uuid": "b83208cb7e0f7c9b86c52bfd12c5148b5325d52f"
   },
   "source": [
    "Looking to future features (from https://www.kaggle.com/ashishpatel26/future-is-here):"
   ]
  },
  {
   "cell_type": "code",
   "execution_count": 31,
   "metadata": {
    "ExecuteTime": {
     "end_time": "2018-10-14T10:16:18.857190Z",
     "start_time": "2018-10-14T10:15:59.656227Z"
    },
    "_uuid": "68c9f7aa5d7138e5dde3facbb3b4e6799781a4bd"
   },
   "outputs": [],
   "source": [
    "df = pd.concat([train, test])\n",
    "df.sort_values(['fullVisitorId', 'date'], ascending=True, inplace=True)\n",
    "df['prev_session'] = (df['date'] - df[['fullVisitorId', 'date']].groupby('fullVisitorId')['date'].shift(1)).astype(np.int64) // 1e9 // 60 // 60\n",
    "df['next_session'] = (df['date'] - df[['fullVisitorId', 'date']].groupby('fullVisitorId')['date'].shift(-1)).astype(np.int64) // 1e9 // 60 // 60\n",
    "df.sort_index(inplace=True)\n",
    "\n",
    "train = df[:len(train)]\n",
    "test = df[len(train):]"
   ]
  },
  {
   "cell_type": "markdown",
   "metadata": {
    "_uuid": "7e73108b18143f336249bfa7eccc0528efc9a9d5"
   },
   "source": [
    "Paired categories from \"teach-lightgbm-to-sum-predictions\" kernel"
   ]
  },
  {
   "cell_type": "code",
   "execution_count": 32,
   "metadata": {
    "ExecuteTime": {
     "end_time": "2018-10-14T10:16:41.590190Z",
     "start_time": "2018-10-14T10:16:39.896553Z"
    },
    "_uuid": "10d1600e3defb6ff55155f6f8e951f3dd028552b"
   },
   "outputs": [],
   "source": [
    "for df in [train, test]:\n",
    "    df['source.country'] = df['trafficSource.source'] + '_' + df['geoNetwork.country']\n",
    "    df['campaign.medium'] = df['trafficSource.campaign'] + '_' + df['trafficSource.medium']\n",
    "    df['browser.category'] = df['device.browser'] + '_' + df['device.deviceCategory']\n",
    "    df['browser.os'] = df['device.browser'] + '_' + df['device.operatingSystem']"
   ]
  },
  {
   "cell_type": "code",
   "execution_count": 33,
   "metadata": {
    "ExecuteTime": {
     "end_time": "2018-10-14T10:16:52.339513Z",
     "start_time": "2018-10-14T10:16:41.591753Z"
    },
    "_uuid": "58bb8b85f89863602b6467195cc00aee0a0ab52d"
   },
   "outputs": [],
   "source": [
    "for df in [train, test]:\n",
    "    df['device_deviceCategory_channelGrouping'] = df['device.deviceCategory'] + \"_\" + df['channelGrouping']\n",
    "    df['channelGrouping_browser'] = df['device.browser'] + \"_\" + df['channelGrouping']\n",
    "    df['channelGrouping_OS'] = df['device.operatingSystem'] + \"_\" + df['channelGrouping']\n",
    "    \n",
    "    for i in ['geoNetwork.city', 'geoNetwork.continent', 'geoNetwork.country','geoNetwork.metro', 'geoNetwork.networkDomain', 'geoNetwork.region','geoNetwork.subContinent']:\n",
    "        for j in ['device.browser','device.deviceCategory', 'device.operatingSystem', 'trafficSource.source']:\n",
    "            df[i + \"_\" + j] = df[i] + \"_\" + df[j]\n",
    "    \n",
    "    df['content.source'] = df['trafficSource.adContent'].astype(str) + \"_\" + df['source.country']\n",
    "    df['medium.source'] = df['trafficSource.medium'] + \"_\" + df['source.country']"
   ]
  },
  {
   "cell_type": "markdown",
   "metadata": {
    "_uuid": "ae67bc3d2938e76ac7d7c9f11dd5bf70d0cdcdbd"
   },
   "source": [
    "User-aggregating features:"
   ]
  },
  {
   "cell_type": "code",
   "execution_count": 34,
   "metadata": {
    "ExecuteTime": {
     "end_time": "2018-10-14T10:17:35.164422Z",
     "start_time": "2018-10-14T10:16:52.340484Z"
    },
    "_uuid": "27514d21f0fc7a9dad33ec270d839477254d43f9",
    "scrolled": true
   },
   "outputs": [],
   "source": [
    "for feature in [\"totals.hits\", \"totals.pageviews\"]:\n",
    "    info = pd.concat([train, test], sort=False).groupby(\"fullVisitorId\")[feature].mean()\n",
    "    train[\"usermean_\" + feature] = train.fullVisitorId.map(info)\n",
    "    test[\"usermean_\" + feature] = test.fullVisitorId.map(info)\n",
    "    \n",
    "for feature in [\"visitNumber\"]:\n",
    "    info = pd.concat([train, test], sort=False).groupby(\"fullVisitorId\")[feature].max()\n",
    "    train[\"usermax_\" + feature] = train.fullVisitorId.map(info)\n",
    "    test[\"usermax_\" + feature] = test.fullVisitorId.map(info)"
   ]
  },
  {
   "cell_type": "markdown",
   "metadata": {
    "_uuid": "dbf5236e34eba96d3dc50b7a1a80d202a64f56bf"
   },
   "source": [
    "# Encoding features"
   ]
  },
  {
   "cell_type": "code",
   "execution_count": 35,
   "metadata": {
    "ExecuteTime": {
     "end_time": "2018-10-14T10:17:35.245363Z",
     "start_time": "2018-10-14T10:17:35.166407Z"
    },
    "_uuid": "78ae6da4f2949dc31b194ad718afc21ce7e589d0"
   },
   "outputs": [],
   "source": [
    "excluded = ['date', 'fullVisitorId', 'sessionId', 'totals.transactionRevenue', 'visitId', 'visitStartTime', \n",
    "            'month', 'day', 'help']\n",
    "\n",
    "cat_cols = [f for f in train.columns if (train[f].dtype == 'object' and f not in excluded)]\n",
    "real_cols = [f for f in train.columns if (not f in cat_cols and f not in excluded)]"
   ]
  },
  {
   "cell_type": "code",
   "execution_count": 36,
   "metadata": {
    "ExecuteTime": {
     "end_time": "2018-10-14T10:17:39.712707Z",
     "start_time": "2018-10-14T10:17:35.246376Z"
    },
    "_uuid": "3d86a3019a0ec353e3d0200d4c4ff7cc852b07f2",
    "scrolled": true
   },
   "outputs": [
    {
     "data": {
      "text/plain": [
       "channelGrouping                                       8\n",
       "device.browser                                       11\n",
       "device.deviceCategory                                 3\n",
       "device.operatingSystem                                8\n",
       "geoNetwork.city                                      77\n",
       "geoNetwork.continent                                  6\n",
       "geoNetwork.country                                   60\n",
       "geoNetwork.metro                                     24\n",
       "geoNetwork.networkDomain                             62\n",
       "geoNetwork.region                                    62\n",
       "geoNetwork.subContinent                              19\n",
       "trafficSource.adContent                               4\n",
       "trafficSource.campaign                                5\n",
       "trafficSource.keyword                                 8\n",
       "trafficSource.medium                                  7\n",
       "trafficSource.referralPath                           17\n",
       "trafficSource.source                                 22\n",
       "weekday                                               7\n",
       "source.country                                      952\n",
       "campaign.medium                                      12\n",
       "browser.category                                     32\n",
       "browser.os                                           49\n",
       "device_deviceCategory_channelGrouping                24\n",
       "channelGrouping_browser                              81\n",
       "channelGrouping_OS                                   62\n",
       "geoNetwork.city_device.browser                      723\n",
       "geoNetwork.city_device.deviceCategory               230\n",
       "geoNetwork.city_device.operatingSystem              547\n",
       "geoNetwork.city_trafficSource.source               1216\n",
       "geoNetwork.continent_device.browser                  66\n",
       "geoNetwork.continent_device.deviceCategory           18\n",
       "geoNetwork.continent_device.operatingSystem          48\n",
       "geoNetwork.continent_trafficSource.source           117\n",
       "geoNetwork.country_device.browser                   633\n",
       "geoNetwork.country_device.deviceCategory            180\n",
       "geoNetwork.country_device.operatingSystem           476\n",
       "geoNetwork.country_trafficSource.source             952\n",
       "geoNetwork.metro_device.browser                     227\n",
       "geoNetwork.metro_device.deviceCategory               72\n",
       "geoNetwork.metro_device.operatingSystem             170\n",
       "geoNetwork.metro_trafficSource.source               430\n",
       "geoNetwork.networkDomain_device.browser             598\n",
       "geoNetwork.networkDomain_device.deviceCategory      185\n",
       "geoNetwork.networkDomain_device.operatingSystem     474\n",
       "geoNetwork.networkDomain_trafficSource.source       935\n",
       "geoNetwork.region_device.browser                    607\n",
       "geoNetwork.region_device.deviceCategory             185\n",
       "geoNetwork.region_device.operatingSystem            450\n",
       "geoNetwork.region_trafficSource.source              965\n",
       "geoNetwork.subContinent_device.browser              209\n",
       "geoNetwork.subContinent_device.deviceCategory        57\n",
       "geoNetwork.subContinent_device.operatingSystem      152\n",
       "geoNetwork.subContinent_trafficSource.source        333\n",
       "content.source                                     1106\n",
       "medium.source                                      1086\n",
       "dtype: int64"
      ]
     },
     "execution_count": 36,
     "metadata": {},
     "output_type": "execute_result"
    }
   ],
   "source": [
    "train[cat_cols].nunique()"
   ]
  },
  {
   "cell_type": "code",
   "execution_count": 37,
   "metadata": {
    "ExecuteTime": {
     "end_time": "2018-10-14T10:28:54.550611Z",
     "start_time": "2018-10-14T10:22:17.008542Z"
    },
    "_uuid": "076160aba3c0147983bbf2c7f67c59564cc4d5b7"
   },
   "outputs": [],
   "source": [
    "from sklearn.preprocessing import LabelEncoder\n",
    "for col in cat_cols:\n",
    "    lbl = LabelEncoder()\n",
    "    lbl.fit(list(train[col].values.astype('str')) + list(test[col].values.astype('str')))\n",
    "    train[col] = lbl.transform(list(train[col].values.astype('str')))\n",
    "    test[col] = lbl.transform(list(test[col].values.astype('str')))"
   ]
  },
  {
   "cell_type": "code",
   "execution_count": 38,
   "metadata": {
    "ExecuteTime": {
     "end_time": "2018-10-14T10:28:55.236215Z",
     "start_time": "2018-10-14T10:28:54.551593Z"
    },
    "_uuid": "38279bd60b601e107acb4e80135728475642349d"
   },
   "outputs": [],
   "source": [
    "for col in real_cols:\n",
    "    train[col] = train[col].astype(float)\n",
    "    test[col] = test[col].astype(float)"
   ]
  },
  {
   "cell_type": "code",
   "execution_count": 39,
   "metadata": {
    "ExecuteTime": {
     "end_time": "2018-10-14T10:28:56.395339Z",
     "start_time": "2018-10-14T10:28:55.237198Z"
    },
    "_uuid": "c4970a0e547b1a62a3d8ab1f00ff32fdf4680d22"
   },
   "outputs": [
    {
     "data": {
      "text/html": [
       "<div>\n",
       "<style scoped>\n",
       "    .dataframe tbody tr th:only-of-type {\n",
       "        vertical-align: middle;\n",
       "    }\n",
       "\n",
       "    .dataframe tbody tr th {\n",
       "        vertical-align: top;\n",
       "    }\n",
       "\n",
       "    .dataframe thead th {\n",
       "        text-align: right;\n",
       "    }\n",
       "</style>\n",
       "<table border=\"1\" class=\"dataframe\">\n",
       "  <thead>\n",
       "    <tr style=\"text-align: right;\">\n",
       "      <th></th>\n",
       "      <th>visitNumber</th>\n",
       "      <th>device.isMobile</th>\n",
       "      <th>totals.bounces</th>\n",
       "      <th>totals.hits</th>\n",
       "      <th>totals.newVisits</th>\n",
       "      <th>totals.pageviews</th>\n",
       "      <th>trafficSource.isTrueDirect</th>\n",
       "      <th>Sessions</th>\n",
       "      <th>Avg. Session Duration</th>\n",
       "      <th>Bounce Rate</th>\n",
       "      <th>Revenue</th>\n",
       "      <th>Transactions</th>\n",
       "      <th>Goal Conversion Rate</th>\n",
       "      <th>id_incoherence</th>\n",
       "      <th>visitId_dublicates</th>\n",
       "      <th>session_dublicates</th>\n",
       "      <th>time</th>\n",
       "      <th>prev_session</th>\n",
       "      <th>next_session</th>\n",
       "      <th>usermean_totals.hits</th>\n",
       "      <th>usermean_totals.pageviews</th>\n",
       "      <th>usermax_visitNumber</th>\n",
       "      <th>channelGrouping</th>\n",
       "      <th>device.browser</th>\n",
       "      <th>device.deviceCategory</th>\n",
       "      <th>device.operatingSystem</th>\n",
       "      <th>geoNetwork.city</th>\n",
       "      <th>geoNetwork.continent</th>\n",
       "      <th>geoNetwork.country</th>\n",
       "      <th>geoNetwork.metro</th>\n",
       "      <th>geoNetwork.networkDomain</th>\n",
       "      <th>geoNetwork.region</th>\n",
       "      <th>geoNetwork.subContinent</th>\n",
       "      <th>trafficSource.adContent</th>\n",
       "      <th>trafficSource.campaign</th>\n",
       "      <th>trafficSource.keyword</th>\n",
       "      <th>trafficSource.medium</th>\n",
       "      <th>trafficSource.referralPath</th>\n",
       "      <th>trafficSource.source</th>\n",
       "      <th>weekday</th>\n",
       "      <th>source.country</th>\n",
       "      <th>campaign.medium</th>\n",
       "      <th>browser.category</th>\n",
       "      <th>browser.os</th>\n",
       "      <th>device_deviceCategory_channelGrouping</th>\n",
       "      <th>channelGrouping_browser</th>\n",
       "      <th>channelGrouping_OS</th>\n",
       "      <th>geoNetwork.city_device.browser</th>\n",
       "      <th>geoNetwork.city_device.deviceCategory</th>\n",
       "      <th>geoNetwork.city_device.operatingSystem</th>\n",
       "      <th>geoNetwork.city_trafficSource.source</th>\n",
       "      <th>geoNetwork.continent_device.browser</th>\n",
       "      <th>geoNetwork.continent_device.deviceCategory</th>\n",
       "      <th>geoNetwork.continent_device.operatingSystem</th>\n",
       "      <th>geoNetwork.continent_trafficSource.source</th>\n",
       "      <th>geoNetwork.country_device.browser</th>\n",
       "      <th>geoNetwork.country_device.deviceCategory</th>\n",
       "      <th>geoNetwork.country_device.operatingSystem</th>\n",
       "      <th>geoNetwork.country_trafficSource.source</th>\n",
       "      <th>geoNetwork.metro_device.browser</th>\n",
       "      <th>geoNetwork.metro_device.deviceCategory</th>\n",
       "      <th>geoNetwork.metro_device.operatingSystem</th>\n",
       "      <th>geoNetwork.metro_trafficSource.source</th>\n",
       "      <th>geoNetwork.networkDomain_device.browser</th>\n",
       "      <th>geoNetwork.networkDomain_device.deviceCategory</th>\n",
       "      <th>geoNetwork.networkDomain_device.operatingSystem</th>\n",
       "      <th>geoNetwork.networkDomain_trafficSource.source</th>\n",
       "      <th>geoNetwork.region_device.browser</th>\n",
       "      <th>geoNetwork.region_device.deviceCategory</th>\n",
       "      <th>geoNetwork.region_device.operatingSystem</th>\n",
       "      <th>geoNetwork.region_trafficSource.source</th>\n",
       "      <th>geoNetwork.subContinent_device.browser</th>\n",
       "      <th>geoNetwork.subContinent_device.deviceCategory</th>\n",
       "      <th>geoNetwork.subContinent_device.operatingSystem</th>\n",
       "      <th>geoNetwork.subContinent_trafficSource.source</th>\n",
       "      <th>content.source</th>\n",
       "      <th>medium.source</th>\n",
       "    </tr>\n",
       "    <tr>\n",
       "      <th>visitStartTime</th>\n",
       "      <th></th>\n",
       "      <th></th>\n",
       "      <th></th>\n",
       "      <th></th>\n",
       "      <th></th>\n",
       "      <th></th>\n",
       "      <th></th>\n",
       "      <th></th>\n",
       "      <th></th>\n",
       "      <th></th>\n",
       "      <th></th>\n",
       "      <th></th>\n",
       "      <th></th>\n",
       "      <th></th>\n",
       "      <th></th>\n",
       "      <th></th>\n",
       "      <th></th>\n",
       "      <th></th>\n",
       "      <th></th>\n",
       "      <th></th>\n",
       "      <th></th>\n",
       "      <th></th>\n",
       "      <th></th>\n",
       "      <th></th>\n",
       "      <th></th>\n",
       "      <th></th>\n",
       "      <th></th>\n",
       "      <th></th>\n",
       "      <th></th>\n",
       "      <th></th>\n",
       "      <th></th>\n",
       "      <th></th>\n",
       "      <th></th>\n",
       "      <th></th>\n",
       "      <th></th>\n",
       "      <th></th>\n",
       "      <th></th>\n",
       "      <th></th>\n",
       "      <th></th>\n",
       "      <th></th>\n",
       "      <th></th>\n",
       "      <th></th>\n",
       "      <th></th>\n",
       "      <th></th>\n",
       "      <th></th>\n",
       "      <th></th>\n",
       "      <th></th>\n",
       "      <th></th>\n",
       "      <th></th>\n",
       "      <th></th>\n",
       "      <th></th>\n",
       "      <th></th>\n",
       "      <th></th>\n",
       "      <th></th>\n",
       "      <th></th>\n",
       "      <th></th>\n",
       "      <th></th>\n",
       "      <th></th>\n",
       "      <th></th>\n",
       "      <th></th>\n",
       "      <th></th>\n",
       "      <th></th>\n",
       "      <th></th>\n",
       "      <th></th>\n",
       "      <th></th>\n",
       "      <th></th>\n",
       "      <th></th>\n",
       "      <th></th>\n",
       "      <th></th>\n",
       "      <th></th>\n",
       "      <th></th>\n",
       "      <th></th>\n",
       "      <th></th>\n",
       "      <th></th>\n",
       "      <th></th>\n",
       "      <th></th>\n",
       "      <th></th>\n",
       "    </tr>\n",
       "  </thead>\n",
       "  <tbody>\n",
       "    <tr>\n",
       "      <th>2016-08-01 07:00:12</th>\n",
       "      <td>3.0</td>\n",
       "      <td>1.0</td>\n",
       "      <td>1.0</td>\n",
       "      <td>1.0</td>\n",
       "      <td>0.0</td>\n",
       "      <td>1.0</td>\n",
       "      <td>1.0</td>\n",
       "      <td>0.0</td>\n",
       "      <td>0.0</td>\n",
       "      <td>0.0</td>\n",
       "      <td>0.0</td>\n",
       "      <td>0.0</td>\n",
       "      <td>0.0</td>\n",
       "      <td>0.0</td>\n",
       "      <td>1.0</td>\n",
       "      <td>1.0</td>\n",
       "      <td>25212.0</td>\n",
       "      <td>-2562048.0</td>\n",
       "      <td>-2562048.0</td>\n",
       "      <td>1.0</td>\n",
       "      <td>1.0</td>\n",
       "      <td>3.0</td>\n",
       "      <td>2</td>\n",
       "      <td>7</td>\n",
       "      <td>1</td>\n",
       "      <td>6</td>\n",
       "      <td>75</td>\n",
       "      <td>2</td>\n",
       "      <td>57</td>\n",
       "      <td>22</td>\n",
       "      <td>0</td>\n",
       "      <td>61</td>\n",
       "      <td>8</td>\n",
       "      <td>0</td>\n",
       "      <td>1</td>\n",
       "      <td>4</td>\n",
       "      <td>0</td>\n",
       "      <td>24</td>\n",
       "      <td>0</td>\n",
       "      <td>0</td>\n",
       "      <td>57</td>\n",
       "      <td>1</td>\n",
       "      <td>25</td>\n",
       "      <td>37</td>\n",
       "      <td>10</td>\n",
       "      <td>62</td>\n",
       "      <td>50</td>\n",
       "      <td>831</td>\n",
       "      <td>226</td>\n",
       "      <td>564</td>\n",
       "      <td>1359</td>\n",
       "      <td>31</td>\n",
       "      <td>7</td>\n",
       "      <td>22</td>\n",
       "      <td>37</td>\n",
       "      <td>676</td>\n",
       "      <td>172</td>\n",
       "      <td>459</td>\n",
       "      <td>1032</td>\n",
       "      <td>252</td>\n",
       "      <td>67</td>\n",
       "      <td>170</td>\n",
       "      <td>442</td>\n",
       "      <td>7</td>\n",
       "      <td>1</td>\n",
       "      <td>6</td>\n",
       "      <td>0</td>\n",
       "      <td>701</td>\n",
       "      <td>184</td>\n",
       "      <td>471</td>\n",
       "      <td>1103</td>\n",
       "      <td>103</td>\n",
       "      <td>25</td>\n",
       "      <td>70</td>\n",
       "      <td>153</td>\n",
       "      <td>57</td>\n",
       "      <td>57</td>\n",
       "    </tr>\n",
       "    <tr>\n",
       "      <th>2016-08-01 07:04:26</th>\n",
       "      <td>1.0</td>\n",
       "      <td>0.0</td>\n",
       "      <td>1.0</td>\n",
       "      <td>1.0</td>\n",
       "      <td>1.0</td>\n",
       "      <td>1.0</td>\n",
       "      <td>0.0</td>\n",
       "      <td>0.0</td>\n",
       "      <td>0.0</td>\n",
       "      <td>0.0</td>\n",
       "      <td>0.0</td>\n",
       "      <td>0.0</td>\n",
       "      <td>0.0</td>\n",
       "      <td>0.0</td>\n",
       "      <td>1.0</td>\n",
       "      <td>1.0</td>\n",
       "      <td>25466.0</td>\n",
       "      <td>-2562048.0</td>\n",
       "      <td>-2562048.0</td>\n",
       "      <td>1.0</td>\n",
       "      <td>1.0</td>\n",
       "      <td>1.0</td>\n",
       "      <td>7</td>\n",
       "      <td>1</td>\n",
       "      <td>0</td>\n",
       "      <td>5</td>\n",
       "      <td>75</td>\n",
       "      <td>3</td>\n",
       "      <td>52</td>\n",
       "      <td>22</td>\n",
       "      <td>51</td>\n",
       "      <td>61</td>\n",
       "      <td>11</td>\n",
       "      <td>0</td>\n",
       "      <td>1</td>\n",
       "      <td>4</td>\n",
       "      <td>6</td>\n",
       "      <td>14</td>\n",
       "      <td>21</td>\n",
       "      <td>0</td>\n",
       "      <td>1084</td>\n",
       "      <td>7</td>\n",
       "      <td>3</td>\n",
       "      <td>6</td>\n",
       "      <td>7</td>\n",
       "      <td>14</td>\n",
       "      <td>47</td>\n",
       "      <td>825</td>\n",
       "      <td>225</td>\n",
       "      <td>563</td>\n",
       "      <td>1380</td>\n",
       "      <td>37</td>\n",
       "      <td>9</td>\n",
       "      <td>29</td>\n",
       "      <td>80</td>\n",
       "      <td>610</td>\n",
       "      <td>156</td>\n",
       "      <td>418</td>\n",
       "      <td>956</td>\n",
       "      <td>246</td>\n",
       "      <td>66</td>\n",
       "      <td>169</td>\n",
       "      <td>463</td>\n",
       "      <td>559</td>\n",
       "      <td>153</td>\n",
       "      <td>405</td>\n",
       "      <td>930</td>\n",
       "      <td>695</td>\n",
       "      <td>183</td>\n",
       "      <td>470</td>\n",
       "      <td>1124</td>\n",
       "      <td>133</td>\n",
       "      <td>33</td>\n",
       "      <td>93</td>\n",
       "      <td>239</td>\n",
       "      <td>1084</td>\n",
       "      <td>1237</td>\n",
       "    </tr>\n",
       "    <tr>\n",
       "      <th>2016-08-01 07:04:41</th>\n",
       "      <td>1.0</td>\n",
       "      <td>1.0</td>\n",
       "      <td>0.0</td>\n",
       "      <td>5.0</td>\n",
       "      <td>1.0</td>\n",
       "      <td>5.0</td>\n",
       "      <td>0.0</td>\n",
       "      <td>0.0</td>\n",
       "      <td>0.0</td>\n",
       "      <td>0.0</td>\n",
       "      <td>0.0</td>\n",
       "      <td>0.0</td>\n",
       "      <td>0.0</td>\n",
       "      <td>0.0</td>\n",
       "      <td>1.0</td>\n",
       "      <td>1.0</td>\n",
       "      <td>25481.0</td>\n",
       "      <td>-2562048.0</td>\n",
       "      <td>-2562048.0</td>\n",
       "      <td>5.0</td>\n",
       "      <td>5.0</td>\n",
       "      <td>1.0</td>\n",
       "      <td>4</td>\n",
       "      <td>11</td>\n",
       "      <td>2</td>\n",
       "      <td>1</td>\n",
       "      <td>75</td>\n",
       "      <td>2</td>\n",
       "      <td>57</td>\n",
       "      <td>22</td>\n",
       "      <td>0</td>\n",
       "      <td>61</td>\n",
       "      <td>8</td>\n",
       "      <td>0</td>\n",
       "      <td>1</td>\n",
       "      <td>3</td>\n",
       "      <td>4</td>\n",
       "      <td>24</td>\n",
       "      <td>8</td>\n",
       "      <td>0</td>\n",
       "      <td>518</td>\n",
       "      <td>5</td>\n",
       "      <td>35</td>\n",
       "      <td>49</td>\n",
       "      <td>20</td>\n",
       "      <td>86</td>\n",
       "      <td>12</td>\n",
       "      <td>835</td>\n",
       "      <td>227</td>\n",
       "      <td>559</td>\n",
       "      <td>1367</td>\n",
       "      <td>35</td>\n",
       "      <td>8</td>\n",
       "      <td>17</td>\n",
       "      <td>45</td>\n",
       "      <td>680</td>\n",
       "      <td>173</td>\n",
       "      <td>454</td>\n",
       "      <td>1040</td>\n",
       "      <td>256</td>\n",
       "      <td>68</td>\n",
       "      <td>165</td>\n",
       "      <td>450</td>\n",
       "      <td>11</td>\n",
       "      <td>2</td>\n",
       "      <td>1</td>\n",
       "      <td>8</td>\n",
       "      <td>705</td>\n",
       "      <td>185</td>\n",
       "      <td>466</td>\n",
       "      <td>1111</td>\n",
       "      <td>107</td>\n",
       "      <td>26</td>\n",
       "      <td>65</td>\n",
       "      <td>161</td>\n",
       "      <td>518</td>\n",
       "      <td>393</td>\n",
       "    </tr>\n",
       "    <tr>\n",
       "      <th>2016-08-01 07:06:01</th>\n",
       "      <td>1.0</td>\n",
       "      <td>0.0</td>\n",
       "      <td>0.0</td>\n",
       "      <td>9.0</td>\n",
       "      <td>1.0</td>\n",
       "      <td>7.0</td>\n",
       "      <td>0.0</td>\n",
       "      <td>0.0</td>\n",
       "      <td>0.0</td>\n",
       "      <td>0.0</td>\n",
       "      <td>0.0</td>\n",
       "      <td>0.0</td>\n",
       "      <td>0.0</td>\n",
       "      <td>0.0</td>\n",
       "      <td>1.0</td>\n",
       "      <td>1.0</td>\n",
       "      <td>25561.0</td>\n",
       "      <td>-2562048.0</td>\n",
       "      <td>-2562048.0</td>\n",
       "      <td>9.0</td>\n",
       "      <td>7.0</td>\n",
       "      <td>1.0</td>\n",
       "      <td>4</td>\n",
       "      <td>1</td>\n",
       "      <td>0</td>\n",
       "      <td>5</td>\n",
       "      <td>75</td>\n",
       "      <td>2</td>\n",
       "      <td>8</td>\n",
       "      <td>22</td>\n",
       "      <td>8</td>\n",
       "      <td>61</td>\n",
       "      <td>8</td>\n",
       "      <td>0</td>\n",
       "      <td>1</td>\n",
       "      <td>3</td>\n",
       "      <td>4</td>\n",
       "      <td>24</td>\n",
       "      <td>8</td>\n",
       "      <td>0</td>\n",
       "      <td>469</td>\n",
       "      <td>5</td>\n",
       "      <td>3</td>\n",
       "      <td>6</td>\n",
       "      <td>4</td>\n",
       "      <td>11</td>\n",
       "      <td>44</td>\n",
       "      <td>825</td>\n",
       "      <td>225</td>\n",
       "      <td>563</td>\n",
       "      <td>1367</td>\n",
       "      <td>25</td>\n",
       "      <td>6</td>\n",
       "      <td>21</td>\n",
       "      <td>45</td>\n",
       "      <td>96</td>\n",
       "      <td>24</td>\n",
       "      <td>69</td>\n",
       "      <td>149</td>\n",
       "      <td>246</td>\n",
       "      <td>66</td>\n",
       "      <td>169</td>\n",
       "      <td>450</td>\n",
       "      <td>90</td>\n",
       "      <td>24</td>\n",
       "      <td>69</td>\n",
       "      <td>151</td>\n",
       "      <td>695</td>\n",
       "      <td>183</td>\n",
       "      <td>470</td>\n",
       "      <td>1111</td>\n",
       "      <td>97</td>\n",
       "      <td>24</td>\n",
       "      <td>69</td>\n",
       "      <td>161</td>\n",
       "      <td>469</td>\n",
       "      <td>344</td>\n",
       "    </tr>\n",
       "    <tr>\n",
       "      <th>2016-08-01 07:06:10</th>\n",
       "      <td>1.0</td>\n",
       "      <td>0.0</td>\n",
       "      <td>1.0</td>\n",
       "      <td>1.0</td>\n",
       "      <td>1.0</td>\n",
       "      <td>1.0</td>\n",
       "      <td>1.0</td>\n",
       "      <td>0.0</td>\n",
       "      <td>0.0</td>\n",
       "      <td>0.0</td>\n",
       "      <td>0.0</td>\n",
       "      <td>0.0</td>\n",
       "      <td>0.0</td>\n",
       "      <td>0.0</td>\n",
       "      <td>1.0</td>\n",
       "      <td>1.0</td>\n",
       "      <td>25570.0</td>\n",
       "      <td>-2562048.0</td>\n",
       "      <td>-2562048.0</td>\n",
       "      <td>1.0</td>\n",
       "      <td>1.0</td>\n",
       "      <td>1.0</td>\n",
       "      <td>2</td>\n",
       "      <td>1</td>\n",
       "      <td>0</td>\n",
       "      <td>5</td>\n",
       "      <td>76</td>\n",
       "      <td>3</td>\n",
       "      <td>36</td>\n",
       "      <td>0</td>\n",
       "      <td>29</td>\n",
       "      <td>62</td>\n",
       "      <td>11</td>\n",
       "      <td>0</td>\n",
       "      <td>1</td>\n",
       "      <td>4</td>\n",
       "      <td>0</td>\n",
       "      <td>24</td>\n",
       "      <td>0</td>\n",
       "      <td>0</td>\n",
       "      <td>36</td>\n",
       "      <td>1</td>\n",
       "      <td>3</td>\n",
       "      <td>6</td>\n",
       "      <td>2</td>\n",
       "      <td>9</td>\n",
       "      <td>42</td>\n",
       "      <td>837</td>\n",
       "      <td>228</td>\n",
       "      <td>571</td>\n",
       "      <td>1381</td>\n",
       "      <td>37</td>\n",
       "      <td>9</td>\n",
       "      <td>29</td>\n",
       "      <td>59</td>\n",
       "      <td>422</td>\n",
       "      <td>108</td>\n",
       "      <td>290</td>\n",
       "      <td>651</td>\n",
       "      <td>1</td>\n",
       "      <td>0</td>\n",
       "      <td>5</td>\n",
       "      <td>0</td>\n",
       "      <td>319</td>\n",
       "      <td>87</td>\n",
       "      <td>233</td>\n",
       "      <td>527</td>\n",
       "      <td>707</td>\n",
       "      <td>186</td>\n",
       "      <td>478</td>\n",
       "      <td>1125</td>\n",
       "      <td>133</td>\n",
       "      <td>33</td>\n",
       "      <td>93</td>\n",
       "      <td>218</td>\n",
       "      <td>36</td>\n",
       "      <td>36</td>\n",
       "    </tr>\n",
       "  </tbody>\n",
       "</table>\n",
       "</div>"
      ],
      "text/plain": [
       "                     visitNumber  device.isMobile  totals.bounces  \\\n",
       "visitStartTime                                                      \n",
       "2016-08-01 07:00:12          3.0              1.0             1.0   \n",
       "2016-08-01 07:04:26          1.0              0.0             1.0   \n",
       "2016-08-01 07:04:41          1.0              1.0             0.0   \n",
       "2016-08-01 07:06:01          1.0              0.0             0.0   \n",
       "2016-08-01 07:06:10          1.0              0.0             1.0   \n",
       "\n",
       "                     totals.hits  totals.newVisits  totals.pageviews  \\\n",
       "visitStartTime                                                         \n",
       "2016-08-01 07:00:12          1.0               0.0               1.0   \n",
       "2016-08-01 07:04:26          1.0               1.0               1.0   \n",
       "2016-08-01 07:04:41          5.0               1.0               5.0   \n",
       "2016-08-01 07:06:01          9.0               1.0               7.0   \n",
       "2016-08-01 07:06:10          1.0               1.0               1.0   \n",
       "\n",
       "                     trafficSource.isTrueDirect  Sessions  \\\n",
       "visitStartTime                                              \n",
       "2016-08-01 07:00:12                         1.0       0.0   \n",
       "2016-08-01 07:04:26                         0.0       0.0   \n",
       "2016-08-01 07:04:41                         0.0       0.0   \n",
       "2016-08-01 07:06:01                         0.0       0.0   \n",
       "2016-08-01 07:06:10                         1.0       0.0   \n",
       "\n",
       "                     Avg. Session Duration  Bounce Rate  Revenue  \\\n",
       "visitStartTime                                                     \n",
       "2016-08-01 07:00:12                    0.0          0.0      0.0   \n",
       "2016-08-01 07:04:26                    0.0          0.0      0.0   \n",
       "2016-08-01 07:04:41                    0.0          0.0      0.0   \n",
       "2016-08-01 07:06:01                    0.0          0.0      0.0   \n",
       "2016-08-01 07:06:10                    0.0          0.0      0.0   \n",
       "\n",
       "                     Transactions  Goal Conversion Rate  id_incoherence  \\\n",
       "visitStartTime                                                            \n",
       "2016-08-01 07:00:12           0.0                   0.0             0.0   \n",
       "2016-08-01 07:04:26           0.0                   0.0             0.0   \n",
       "2016-08-01 07:04:41           0.0                   0.0             0.0   \n",
       "2016-08-01 07:06:01           0.0                   0.0             0.0   \n",
       "2016-08-01 07:06:10           0.0                   0.0             0.0   \n",
       "\n",
       "                     visitId_dublicates  session_dublicates     time  \\\n",
       "visitStartTime                                                         \n",
       "2016-08-01 07:00:12                 1.0                 1.0  25212.0   \n",
       "2016-08-01 07:04:26                 1.0                 1.0  25466.0   \n",
       "2016-08-01 07:04:41                 1.0                 1.0  25481.0   \n",
       "2016-08-01 07:06:01                 1.0                 1.0  25561.0   \n",
       "2016-08-01 07:06:10                 1.0                 1.0  25570.0   \n",
       "\n",
       "                     prev_session  next_session  usermean_totals.hits  \\\n",
       "visitStartTime                                                          \n",
       "2016-08-01 07:00:12    -2562048.0    -2562048.0                   1.0   \n",
       "2016-08-01 07:04:26    -2562048.0    -2562048.0                   1.0   \n",
       "2016-08-01 07:04:41    -2562048.0    -2562048.0                   5.0   \n",
       "2016-08-01 07:06:01    -2562048.0    -2562048.0                   9.0   \n",
       "2016-08-01 07:06:10    -2562048.0    -2562048.0                   1.0   \n",
       "\n",
       "                     usermean_totals.pageviews  usermax_visitNumber  \\\n",
       "visitStartTime                                                        \n",
       "2016-08-01 07:00:12                        1.0                  3.0   \n",
       "2016-08-01 07:04:26                        1.0                  1.0   \n",
       "2016-08-01 07:04:41                        5.0                  1.0   \n",
       "2016-08-01 07:06:01                        7.0                  1.0   \n",
       "2016-08-01 07:06:10                        1.0                  1.0   \n",
       "\n",
       "                     channelGrouping  device.browser  device.deviceCategory  \\\n",
       "visitStartTime                                                                \n",
       "2016-08-01 07:00:12                2               7                      1   \n",
       "2016-08-01 07:04:26                7               1                      0   \n",
       "2016-08-01 07:04:41                4              11                      2   \n",
       "2016-08-01 07:06:01                4               1                      0   \n",
       "2016-08-01 07:06:10                2               1                      0   \n",
       "\n",
       "                     device.operatingSystem  geoNetwork.city  \\\n",
       "visitStartTime                                                 \n",
       "2016-08-01 07:00:12                       6               75   \n",
       "2016-08-01 07:04:26                       5               75   \n",
       "2016-08-01 07:04:41                       1               75   \n",
       "2016-08-01 07:06:01                       5               75   \n",
       "2016-08-01 07:06:10                       5               76   \n",
       "\n",
       "                     geoNetwork.continent  geoNetwork.country  \\\n",
       "visitStartTime                                                  \n",
       "2016-08-01 07:00:12                     2                  57   \n",
       "2016-08-01 07:04:26                     3                  52   \n",
       "2016-08-01 07:04:41                     2                  57   \n",
       "2016-08-01 07:06:01                     2                   8   \n",
       "2016-08-01 07:06:10                     3                  36   \n",
       "\n",
       "                     geoNetwork.metro  geoNetwork.networkDomain  \\\n",
       "visitStartTime                                                    \n",
       "2016-08-01 07:00:12                22                         0   \n",
       "2016-08-01 07:04:26                22                        51   \n",
       "2016-08-01 07:04:41                22                         0   \n",
       "2016-08-01 07:06:01                22                         8   \n",
       "2016-08-01 07:06:10                 0                        29   \n",
       "\n",
       "                     geoNetwork.region  geoNetwork.subContinent  \\\n",
       "visitStartTime                                                    \n",
       "2016-08-01 07:00:12                 61                        8   \n",
       "2016-08-01 07:04:26                 61                       11   \n",
       "2016-08-01 07:04:41                 61                        8   \n",
       "2016-08-01 07:06:01                 61                        8   \n",
       "2016-08-01 07:06:10                 62                       11   \n",
       "\n",
       "                     trafficSource.adContent  trafficSource.campaign  \\\n",
       "visitStartTime                                                         \n",
       "2016-08-01 07:00:12                        0                       1   \n",
       "2016-08-01 07:04:26                        0                       1   \n",
       "2016-08-01 07:04:41                        0                       1   \n",
       "2016-08-01 07:06:01                        0                       1   \n",
       "2016-08-01 07:06:10                        0                       1   \n",
       "\n",
       "                     trafficSource.keyword  trafficSource.medium  \\\n",
       "visitStartTime                                                     \n",
       "2016-08-01 07:00:12                      4                     0   \n",
       "2016-08-01 07:04:26                      4                     6   \n",
       "2016-08-01 07:04:41                      3                     4   \n",
       "2016-08-01 07:06:01                      3                     4   \n",
       "2016-08-01 07:06:10                      4                     0   \n",
       "\n",
       "                     trafficSource.referralPath  trafficSource.source  \\\n",
       "visitStartTime                                                          \n",
       "2016-08-01 07:00:12                          24                     0   \n",
       "2016-08-01 07:04:26                          14                    21   \n",
       "2016-08-01 07:04:41                          24                     8   \n",
       "2016-08-01 07:06:01                          24                     8   \n",
       "2016-08-01 07:06:10                          24                     0   \n",
       "\n",
       "                     weekday  source.country  campaign.medium  \\\n",
       "visitStartTime                                                  \n",
       "2016-08-01 07:00:12        0              57                1   \n",
       "2016-08-01 07:04:26        0            1084                7   \n",
       "2016-08-01 07:04:41        0             518                5   \n",
       "2016-08-01 07:06:01        0             469                5   \n",
       "2016-08-01 07:06:10        0              36                1   \n",
       "\n",
       "                     browser.category  browser.os  \\\n",
       "visitStartTime                                      \n",
       "2016-08-01 07:00:12                25          37   \n",
       "2016-08-01 07:04:26                 3           6   \n",
       "2016-08-01 07:04:41                35          49   \n",
       "2016-08-01 07:06:01                 3           6   \n",
       "2016-08-01 07:06:10                 3           6   \n",
       "\n",
       "                     device_deviceCategory_channelGrouping  \\\n",
       "visitStartTime                                               \n",
       "2016-08-01 07:00:12                                     10   \n",
       "2016-08-01 07:04:26                                      7   \n",
       "2016-08-01 07:04:41                                     20   \n",
       "2016-08-01 07:06:01                                      4   \n",
       "2016-08-01 07:06:10                                      2   \n",
       "\n",
       "                     channelGrouping_browser  channelGrouping_OS  \\\n",
       "visitStartTime                                                     \n",
       "2016-08-01 07:00:12                       62                  50   \n",
       "2016-08-01 07:04:26                       14                  47   \n",
       "2016-08-01 07:04:41                       86                  12   \n",
       "2016-08-01 07:06:01                       11                  44   \n",
       "2016-08-01 07:06:10                        9                  42   \n",
       "\n",
       "                     geoNetwork.city_device.browser  \\\n",
       "visitStartTime                                        \n",
       "2016-08-01 07:00:12                             831   \n",
       "2016-08-01 07:04:26                             825   \n",
       "2016-08-01 07:04:41                             835   \n",
       "2016-08-01 07:06:01                             825   \n",
       "2016-08-01 07:06:10                             837   \n",
       "\n",
       "                     geoNetwork.city_device.deviceCategory  \\\n",
       "visitStartTime                                               \n",
       "2016-08-01 07:00:12                                    226   \n",
       "2016-08-01 07:04:26                                    225   \n",
       "2016-08-01 07:04:41                                    227   \n",
       "2016-08-01 07:06:01                                    225   \n",
       "2016-08-01 07:06:10                                    228   \n",
       "\n",
       "                     geoNetwork.city_device.operatingSystem  \\\n",
       "visitStartTime                                                \n",
       "2016-08-01 07:00:12                                     564   \n",
       "2016-08-01 07:04:26                                     563   \n",
       "2016-08-01 07:04:41                                     559   \n",
       "2016-08-01 07:06:01                                     563   \n",
       "2016-08-01 07:06:10                                     571   \n",
       "\n",
       "                     geoNetwork.city_trafficSource.source  \\\n",
       "visitStartTime                                              \n",
       "2016-08-01 07:00:12                                  1359   \n",
       "2016-08-01 07:04:26                                  1380   \n",
       "2016-08-01 07:04:41                                  1367   \n",
       "2016-08-01 07:06:01                                  1367   \n",
       "2016-08-01 07:06:10                                  1381   \n",
       "\n",
       "                     geoNetwork.continent_device.browser  \\\n",
       "visitStartTime                                             \n",
       "2016-08-01 07:00:12                                   31   \n",
       "2016-08-01 07:04:26                                   37   \n",
       "2016-08-01 07:04:41                                   35   \n",
       "2016-08-01 07:06:01                                   25   \n",
       "2016-08-01 07:06:10                                   37   \n",
       "\n",
       "                     geoNetwork.continent_device.deviceCategory  \\\n",
       "visitStartTime                                                    \n",
       "2016-08-01 07:00:12                                           7   \n",
       "2016-08-01 07:04:26                                           9   \n",
       "2016-08-01 07:04:41                                           8   \n",
       "2016-08-01 07:06:01                                           6   \n",
       "2016-08-01 07:06:10                                           9   \n",
       "\n",
       "                     geoNetwork.continent_device.operatingSystem  \\\n",
       "visitStartTime                                                     \n",
       "2016-08-01 07:00:12                                           22   \n",
       "2016-08-01 07:04:26                                           29   \n",
       "2016-08-01 07:04:41                                           17   \n",
       "2016-08-01 07:06:01                                           21   \n",
       "2016-08-01 07:06:10                                           29   \n",
       "\n",
       "                     geoNetwork.continent_trafficSource.source  \\\n",
       "visitStartTime                                                   \n",
       "2016-08-01 07:00:12                                         37   \n",
       "2016-08-01 07:04:26                                         80   \n",
       "2016-08-01 07:04:41                                         45   \n",
       "2016-08-01 07:06:01                                         45   \n",
       "2016-08-01 07:06:10                                         59   \n",
       "\n",
       "                     geoNetwork.country_device.browser  \\\n",
       "visitStartTime                                           \n",
       "2016-08-01 07:00:12                                676   \n",
       "2016-08-01 07:04:26                                610   \n",
       "2016-08-01 07:04:41                                680   \n",
       "2016-08-01 07:06:01                                 96   \n",
       "2016-08-01 07:06:10                                422   \n",
       "\n",
       "                     geoNetwork.country_device.deviceCategory  \\\n",
       "visitStartTime                                                  \n",
       "2016-08-01 07:00:12                                       172   \n",
       "2016-08-01 07:04:26                                       156   \n",
       "2016-08-01 07:04:41                                       173   \n",
       "2016-08-01 07:06:01                                        24   \n",
       "2016-08-01 07:06:10                                       108   \n",
       "\n",
       "                     geoNetwork.country_device.operatingSystem  \\\n",
       "visitStartTime                                                   \n",
       "2016-08-01 07:00:12                                        459   \n",
       "2016-08-01 07:04:26                                        418   \n",
       "2016-08-01 07:04:41                                        454   \n",
       "2016-08-01 07:06:01                                         69   \n",
       "2016-08-01 07:06:10                                        290   \n",
       "\n",
       "                     geoNetwork.country_trafficSource.source  \\\n",
       "visitStartTime                                                 \n",
       "2016-08-01 07:00:12                                     1032   \n",
       "2016-08-01 07:04:26                                      956   \n",
       "2016-08-01 07:04:41                                     1040   \n",
       "2016-08-01 07:06:01                                      149   \n",
       "2016-08-01 07:06:10                                      651   \n",
       "\n",
       "                     geoNetwork.metro_device.browser  \\\n",
       "visitStartTime                                         \n",
       "2016-08-01 07:00:12                              252   \n",
       "2016-08-01 07:04:26                              246   \n",
       "2016-08-01 07:04:41                              256   \n",
       "2016-08-01 07:06:01                              246   \n",
       "2016-08-01 07:06:10                                1   \n",
       "\n",
       "                     geoNetwork.metro_device.deviceCategory  \\\n",
       "visitStartTime                                                \n",
       "2016-08-01 07:00:12                                      67   \n",
       "2016-08-01 07:04:26                                      66   \n",
       "2016-08-01 07:04:41                                      68   \n",
       "2016-08-01 07:06:01                                      66   \n",
       "2016-08-01 07:06:10                                       0   \n",
       "\n",
       "                     geoNetwork.metro_device.operatingSystem  \\\n",
       "visitStartTime                                                 \n",
       "2016-08-01 07:00:12                                      170   \n",
       "2016-08-01 07:04:26                                      169   \n",
       "2016-08-01 07:04:41                                      165   \n",
       "2016-08-01 07:06:01                                      169   \n",
       "2016-08-01 07:06:10                                        5   \n",
       "\n",
       "                     geoNetwork.metro_trafficSource.source  \\\n",
       "visitStartTime                                               \n",
       "2016-08-01 07:00:12                                    442   \n",
       "2016-08-01 07:04:26                                    463   \n",
       "2016-08-01 07:04:41                                    450   \n",
       "2016-08-01 07:06:01                                    450   \n",
       "2016-08-01 07:06:10                                      0   \n",
       "\n",
       "                     geoNetwork.networkDomain_device.browser  \\\n",
       "visitStartTime                                                 \n",
       "2016-08-01 07:00:12                                        7   \n",
       "2016-08-01 07:04:26                                      559   \n",
       "2016-08-01 07:04:41                                       11   \n",
       "2016-08-01 07:06:01                                       90   \n",
       "2016-08-01 07:06:10                                      319   \n",
       "\n",
       "                     geoNetwork.networkDomain_device.deviceCategory  \\\n",
       "visitStartTime                                                        \n",
       "2016-08-01 07:00:12                                               1   \n",
       "2016-08-01 07:04:26                                             153   \n",
       "2016-08-01 07:04:41                                               2   \n",
       "2016-08-01 07:06:01                                              24   \n",
       "2016-08-01 07:06:10                                              87   \n",
       "\n",
       "                     geoNetwork.networkDomain_device.operatingSystem  \\\n",
       "visitStartTime                                                         \n",
       "2016-08-01 07:00:12                                                6   \n",
       "2016-08-01 07:04:26                                              405   \n",
       "2016-08-01 07:04:41                                                1   \n",
       "2016-08-01 07:06:01                                               69   \n",
       "2016-08-01 07:06:10                                              233   \n",
       "\n",
       "                     geoNetwork.networkDomain_trafficSource.source  \\\n",
       "visitStartTime                                                       \n",
       "2016-08-01 07:00:12                                              0   \n",
       "2016-08-01 07:04:26                                            930   \n",
       "2016-08-01 07:04:41                                              8   \n",
       "2016-08-01 07:06:01                                            151   \n",
       "2016-08-01 07:06:10                                            527   \n",
       "\n",
       "                     geoNetwork.region_device.browser  \\\n",
       "visitStartTime                                          \n",
       "2016-08-01 07:00:12                               701   \n",
       "2016-08-01 07:04:26                               695   \n",
       "2016-08-01 07:04:41                               705   \n",
       "2016-08-01 07:06:01                               695   \n",
       "2016-08-01 07:06:10                               707   \n",
       "\n",
       "                     geoNetwork.region_device.deviceCategory  \\\n",
       "visitStartTime                                                 \n",
       "2016-08-01 07:00:12                                      184   \n",
       "2016-08-01 07:04:26                                      183   \n",
       "2016-08-01 07:04:41                                      185   \n",
       "2016-08-01 07:06:01                                      183   \n",
       "2016-08-01 07:06:10                                      186   \n",
       "\n",
       "                     geoNetwork.region_device.operatingSystem  \\\n",
       "visitStartTime                                                  \n",
       "2016-08-01 07:00:12                                       471   \n",
       "2016-08-01 07:04:26                                       470   \n",
       "2016-08-01 07:04:41                                       466   \n",
       "2016-08-01 07:06:01                                       470   \n",
       "2016-08-01 07:06:10                                       478   \n",
       "\n",
       "                     geoNetwork.region_trafficSource.source  \\\n",
       "visitStartTime                                                \n",
       "2016-08-01 07:00:12                                    1103   \n",
       "2016-08-01 07:04:26                                    1124   \n",
       "2016-08-01 07:04:41                                    1111   \n",
       "2016-08-01 07:06:01                                    1111   \n",
       "2016-08-01 07:06:10                                    1125   \n",
       "\n",
       "                     geoNetwork.subContinent_device.browser  \\\n",
       "visitStartTime                                                \n",
       "2016-08-01 07:00:12                                     103   \n",
       "2016-08-01 07:04:26                                     133   \n",
       "2016-08-01 07:04:41                                     107   \n",
       "2016-08-01 07:06:01                                      97   \n",
       "2016-08-01 07:06:10                                     133   \n",
       "\n",
       "                     geoNetwork.subContinent_device.deviceCategory  \\\n",
       "visitStartTime                                                       \n",
       "2016-08-01 07:00:12                                             25   \n",
       "2016-08-01 07:04:26                                             33   \n",
       "2016-08-01 07:04:41                                             26   \n",
       "2016-08-01 07:06:01                                             24   \n",
       "2016-08-01 07:06:10                                             33   \n",
       "\n",
       "                     geoNetwork.subContinent_device.operatingSystem  \\\n",
       "visitStartTime                                                        \n",
       "2016-08-01 07:00:12                                              70   \n",
       "2016-08-01 07:04:26                                              93   \n",
       "2016-08-01 07:04:41                                              65   \n",
       "2016-08-01 07:06:01                                              69   \n",
       "2016-08-01 07:06:10                                              93   \n",
       "\n",
       "                     geoNetwork.subContinent_trafficSource.source  \\\n",
       "visitStartTime                                                      \n",
       "2016-08-01 07:00:12                                           153   \n",
       "2016-08-01 07:04:26                                           239   \n",
       "2016-08-01 07:04:41                                           161   \n",
       "2016-08-01 07:06:01                                           161   \n",
       "2016-08-01 07:06:10                                           218   \n",
       "\n",
       "                     content.source  medium.source  \n",
       "visitStartTime                                      \n",
       "2016-08-01 07:00:12              57             57  \n",
       "2016-08-01 07:04:26            1084           1237  \n",
       "2016-08-01 07:04:41             518            393  \n",
       "2016-08-01 07:06:01             469            344  \n",
       "2016-08-01 07:06:10              36             36  "
      ]
     },
     "execution_count": 39,
     "metadata": {},
     "output_type": "execute_result"
    }
   ],
   "source": [
    "train[real_cols + cat_cols].head()"
   ]
  },
  {
   "cell_type": "code",
   "execution_count": 40,
   "metadata": {
    "ExecuteTime": {
     "end_time": "2018-10-14T10:28:56.900050Z",
     "start_time": "2018-10-14T10:28:56.396338Z"
    },
    "_uuid": "13e4f6dde59ace24a87c92eacce5665732eddab6"
   },
   "outputs": [],
   "source": [
    "for to_del in [\"date\", \"sessionId\", \"visitId\", \"day\"]:\n",
    "    del train[to_del]\n",
    "    del test[to_del]"
   ]
  },
  {
   "cell_type": "markdown",
   "metadata": {
    "_uuid": "3c064d11d02eea63a2f8ecc52c5d61870e0ddc69"
   },
   "source": [
    "# Preparing validation"
   ]
  },
  {
   "cell_type": "code",
   "execution_count": 41,
   "metadata": {
    "ExecuteTime": {
     "end_time": "2018-10-14T10:31:00.099098Z",
     "start_time": "2018-10-14T10:31:00.089103Z"
    },
    "_uuid": "29d31db304283a23cb88b8618882b7fae081be6d"
   },
   "outputs": [],
   "source": [
    "excluded = ['date', 'fullVisitorId', 'sessionId', 'totals.transactionRevenue', 'visitId', 'visitStartTime', \"month\", \"help\"]\n",
    "\n",
    "cat_cols = [f for f in train.columns if (train[f].dtype == 'int64' and f not in excluded)]\n",
    "real_cols = [f for f in train.columns if (not f in cat_cols and f not in excluded)]"
   ]
  },
  {
   "cell_type": "markdown",
   "metadata": {
    "_uuid": "fad0e919bf09d72e0b0064cd058bfe11bf7620a9"
   },
   "source": [
    "Function to tell us the score using the metric we actually care about"
   ]
  },
  {
   "cell_type": "code",
   "execution_count": 42,
   "metadata": {
    "ExecuteTime": {
     "end_time": "2018-10-14T10:31:00.209041Z",
     "start_time": "2018-10-14T10:31:00.101097Z"
    },
    "_uuid": "f9467d334a330a5a06debbe0636b190c7a36bf87"
   },
   "outputs": [],
   "source": [
    "from sklearn.metrics import mean_squared_error\n",
    "def score(data, y):\n",
    "    validation_res = pd.DataFrame(\n",
    "    {\"fullVisitorId\": data[\"fullVisitorId\"].values,\n",
    "     \"transactionRevenue\": data[\"totals.transactionRevenue\"].values,\n",
    "     \"predictedRevenue\": np.expm1(y)})\n",
    "\n",
    "    validation_res = validation_res.groupby(\"fullVisitorId\")[\"transactionRevenue\", \"predictedRevenue\"].sum().reset_index()\n",
    "    return np.sqrt(mean_squared_error(np.log1p(validation_res[\"transactionRevenue\"].values), \n",
    "                                     np.log1p(validation_res[\"predictedRevenue\"].values)))"
   ]
  },
  {
   "cell_type": "markdown",
   "metadata": {
    "_uuid": "36f6b217c775d8f4b49739ba578003d2b23cb6a4"
   },
   "source": [
    "Cute function to validate and prepare stacking"
   ]
  },
  {
   "cell_type": "code",
   "execution_count": 43,
   "metadata": {
    "ExecuteTime": {
     "end_time": "2018-10-14T10:31:00.326979Z",
     "start_time": "2018-10-14T10:31:00.210038Z"
    },
    "_uuid": "3e9b9136e4afdc96cfa7ed89ea2cd70d356334f8"
   },
   "outputs": [],
   "source": [
    "from sklearn.model_selection import GroupKFold\n",
    "\n",
    "class KFoldValidation():\n",
    "    def __init__(self, data, n_splits=5):\n",
    "        unique_vis = np.array(sorted(data['fullVisitorId'].astype(str).unique()))\n",
    "        folds = GroupKFold(n_splits)\n",
    "        ids = np.arange(data.shape[0])\n",
    "        \n",
    "        self.fold_ids = []\n",
    "        for trn_vis, val_vis in folds.split(X=unique_vis, y=unique_vis, groups=unique_vis):\n",
    "            self.fold_ids.append([\n",
    "                    ids[data['fullVisitorId'].astype(str).isin(unique_vis[trn_vis])],\n",
    "                    ids[data['fullVisitorId'].astype(str).isin(unique_vis[val_vis])]\n",
    "                ])\n",
    "            \n",
    "    def validate(self, train, test, features, model, name=\"\", prepare_stacking=False, \n",
    "                 fit_params={\"early_stopping_rounds\": 50, \"verbose\": 100, \"eval_metric\": \"rmse\"}):\n",
    "        model.FI = pd.DataFrame(index=features)\n",
    "        full_score = 0\n",
    "        \n",
    "        if prepare_stacking:\n",
    "            test[name] = 0\n",
    "            train[name] = np.NaN\n",
    "        \n",
    "        for fold_id, (trn, val) in enumerate(self.fold_ids):\n",
    "            devel = train[features].iloc[trn]\n",
    "            y_devel = np.log1p(train[\"totals.transactionRevenue\"].iloc[trn])\n",
    "            valid = train[features].iloc[val]\n",
    "            y_valid = np.log1p(train[\"totals.transactionRevenue\"].iloc[val])\n",
    "                       \n",
    "            print(\"Fold \", fold_id, \":\")\n",
    "            model.fit(devel, y_devel, eval_set=[(valid, y_valid)], **fit_params)\n",
    "            \n",
    "            if len(model.feature_importances_) == len(features):  # some bugs in catboost?\n",
    "                model.FI['fold' + str(fold_id)] = model.feature_importances_ / model.feature_importances_.sum()\n",
    "\n",
    "            predictions = model.predict(valid)\n",
    "            predictions[predictions < 0] = 0\n",
    "            print(\"Fold \", fold_id, \" error: \", mean_squared_error(y_valid, predictions)**0.5)\n",
    "            \n",
    "            fold_score = score(train.iloc[val], predictions)\n",
    "            full_score += fold_score / len(self.fold_ids)\n",
    "            print(\"Fold \", fold_id, \" score: \", fold_score)\n",
    "            \n",
    "            if prepare_stacking:\n",
    "                train[name].iloc[val] = predictions\n",
    "                \n",
    "                test_predictions = model.predict(test[features])\n",
    "                test_predictions[test_predictions < 0] = 0\n",
    "                test[name] += test_predictions / len(self.fold_ids)\n",
    "                \n",
    "        print(\"Final score: \", full_score)\n",
    "        return full_score"
   ]
  },
  {
   "cell_type": "code",
   "execution_count": 44,
   "metadata": {
    "ExecuteTime": {
     "end_time": "2018-10-14T10:31:06.926033Z",
     "start_time": "2018-10-14T10:31:00.328983Z"
    },
    "_uuid": "873e39a4fbb0b39c4ca817018f57f91799e8cfb4"
   },
   "outputs": [],
   "source": [
    "Kfolder = KFoldValidation(train)"
   ]
  },
  {
   "cell_type": "code",
   "execution_count": 45,
   "metadata": {
    "ExecuteTime": {
     "end_time": "2018-10-14T10:31:06.932030Z",
     "start_time": "2018-10-14T10:31:06.928032Z"
    },
    "_uuid": "627dfd643eeea3343a832bf49132775ad0cf8de6"
   },
   "outputs": [],
   "source": [
    "lgbmodel = lgb.LGBMRegressor(n_estimators=1000, objective=\"regression\", metric=\"rmse\", num_leaves=31, min_child_samples=100,\n",
    "                      learning_rate=0.03, bagging_fraction=0.7, feature_fraction=0.5, bagging_frequency=5, \n",
    "                      bagging_seed=2019, subsample=.9, colsample_bytree=.9, use_best_model=True)"
   ]
  },
  {
   "cell_type": "code",
   "execution_count": 46,
   "metadata": {
    "ExecuteTime": {
     "end_time": "2018-10-14T10:34:23.651287Z",
     "start_time": "2018-10-14T10:31:06.934028Z"
    },
    "_uuid": "866753ac2ec4083463f35dc10f1871298006bfb0",
    "scrolled": true
   },
   "outputs": [
    {
     "name": "stdout",
     "output_type": "stream",
     "text": [
      "Fold  0 :\n",
      "Training until validation scores don't improve for 50 rounds.\n",
      "[100]\tvalid_0's rmse: 1.6217\n",
      "[200]\tvalid_0's rmse: 1.59395\n",
      "[300]\tvalid_0's rmse: 1.58416\n",
      "[400]\tvalid_0's rmse: 1.58092\n",
      "[500]\tvalid_0's rmse: 1.57862\n",
      "[600]\tvalid_0's rmse: 1.57718\n",
      "[700]\tvalid_0's rmse: 1.57635\n",
      "[800]\tvalid_0's rmse: 1.57583\n",
      "Early stopping, best iteration is:\n",
      "[762]\tvalid_0's rmse: 1.57581\n",
      "Fold  0  error:  1.574468039843558\n",
      "Fold  0  score:  1.5555508508875122\n",
      "Fold  1 :\n",
      "Training until validation scores don't improve for 50 rounds.\n",
      "[100]\tvalid_0's rmse: 1.59479\n",
      "[200]\tvalid_0's rmse: 1.5714\n",
      "[300]\tvalid_0's rmse: 1.56371\n",
      "[400]\tvalid_0's rmse: 1.55975\n",
      "[500]\tvalid_0's rmse: 1.5579\n",
      "[600]\tvalid_0's rmse: 1.55671\n",
      "[700]\tvalid_0's rmse: 1.55582\n",
      "[800]\tvalid_0's rmse: 1.55549\n",
      "Early stopping, best iteration is:\n",
      "[781]\tvalid_0's rmse: 1.55525\n",
      "Fold  1  error:  1.5540710953591002\n",
      "Fold  1  score:  1.5564294397302254\n",
      "Fold  2 :\n",
      "Training until validation scores don't improve for 50 rounds.\n",
      "[100]\tvalid_0's rmse: 1.60651\n",
      "[200]\tvalid_0's rmse: 1.5778\n",
      "[300]\tvalid_0's rmse: 1.5659\n",
      "[400]\tvalid_0's rmse: 1.56101\n",
      "[500]\tvalid_0's rmse: 1.55792\n",
      "[600]\tvalid_0's rmse: 1.55609\n",
      "[700]\tvalid_0's rmse: 1.5548\n",
      "[800]\tvalid_0's rmse: 1.55432\n",
      "Early stopping, best iteration is:\n",
      "[771]\tvalid_0's rmse: 1.55409\n",
      "Fold  2  error:  1.5526249530362244\n",
      "Fold  2  score:  1.5447500053136736\n",
      "Fold  3 :\n",
      "Training until validation scores don't improve for 50 rounds.\n",
      "[100]\tvalid_0's rmse: 1.592\n",
      "[200]\tvalid_0's rmse: 1.56662\n",
      "[300]\tvalid_0's rmse: 1.55748\n",
      "[400]\tvalid_0's rmse: 1.55362\n",
      "[500]\tvalid_0's rmse: 1.55188\n",
      "[600]\tvalid_0's rmse: 1.5502\n",
      "[700]\tvalid_0's rmse: 1.5498\n",
      "[800]\tvalid_0's rmse: 1.54964\n",
      "Early stopping, best iteration is:\n",
      "[790]\tvalid_0's rmse: 1.54939\n",
      "Fold  3  error:  1.5482893706437337\n",
      "Fold  3  score:  1.530332785732976\n",
      "Fold  4 :\n",
      "Training until validation scores don't improve for 50 rounds.\n",
      "[100]\tvalid_0's rmse: 1.62963\n",
      "[200]\tvalid_0's rmse: 1.60524\n",
      "[300]\tvalid_0's rmse: 1.59505\n",
      "[400]\tvalid_0's rmse: 1.59044\n",
      "[500]\tvalid_0's rmse: 1.58769\n",
      "[600]\tvalid_0's rmse: 1.5868\n",
      "[700]\tvalid_0's rmse: 1.58612\n",
      "[800]\tvalid_0's rmse: 1.5855\n",
      "Early stopping, best iteration is:\n",
      "[785]\tvalid_0's rmse: 1.58545\n",
      "Fold  4  error:  1.5838956254709746\n",
      "Fold  4  score:  1.563667360925202\n",
      "Final score:  1.5501460885179177\n"
     ]
    },
    {
     "data": {
      "text/plain": [
       "1.5501460885179177"
      ]
     },
     "execution_count": 46,
     "metadata": {},
     "output_type": "execute_result"
    }
   ],
   "source": [
    "Kfolder.validate(train, test, real_cols + cat_cols, lgbmodel, \"lgbpred\", prepare_stacking=True)"
   ]
  },
  {
   "cell_type": "code",
   "execution_count": 47,
   "metadata": {
    "ExecuteTime": {
     "end_time": "2018-10-14T10:34:31.126837Z",
     "start_time": "2018-10-14T10:34:30.869974Z"
    },
    "_uuid": "3d42fd6591f49a3bbffaf319513f3f954b77ea7d"
   },
   "outputs": [
    {
     "data": {
      "text/plain": [
       "<matplotlib.axes._subplots.AxesSubplot at 0x7fd2e24ad240>"
      ]
     },
     "execution_count": 47,
     "metadata": {},
     "output_type": "execute_result"
    },
    {
     "data": {
      "image/png": "[encoded data removed]",
      "text/plain": [
       "<Figure size 432x288 with 1 Axes>"
      ]
     },
     "metadata": {
      "needs_background": "light"
     },
     "output_type": "display_data"
    }
   ],
   "source": [
    "lgbmodel.FI.mean(axis=1).sort_values()[:30].plot(kind=\"barh\")"
   ]
  },
  {
   "cell_type": "markdown",
   "metadata": {
    "ExecuteTime": {
     "end_time": "2018-10-09T17:50:33.536413Z",
     "start_time": "2018-10-09T17:50:33.533401Z"
    },
    "_uuid": "5f563afd19474f6085298bf1e6edd64cb69d0155"
   },
   "source": [
    "# User-level"
   ]
  },
  {
   "cell_type": "markdown",
   "metadata": {
    "_uuid": "cc16253b1fa723956648d89b19908a79e27a3102"
   },
   "source": [
    "Make one user one object:\n",
    "* all features are averaged\n",
    "* we hope, that categorical features do not change for one user (that's not true :/ )\n",
    "* categoricals labels are averaged (!!!) and are treated as numerical features (o_O)\n",
    "* predictions are averaged in multiple ways..."
   ]
  },
  {
   "cell_type": "code",
   "execution_count": 48,
   "metadata": {
    "ExecuteTime": {
     "end_time": "2018-10-14T10:36:09.827135Z",
     "start_time": "2018-10-14T10:36:09.821150Z"
    },
    "_uuid": "9b9693648513555c5f0688af651581c7c192d581"
   },
   "outputs": [],
   "source": [
    "def create_user_df(df):\n",
    "    agg_data = df[real_cols + cat_cols + ['fullVisitorId']].groupby('fullVisitorId').mean()\n",
    "    \n",
    "    pred_list = df[['fullVisitorId', 'lgbpred']].groupby('fullVisitorId').apply(lambda visitor_df: list(visitor_df.lgbpred))\\\n",
    "        .apply(lambda x: {'pred_'+str(i): pred for i, pred in enumerate(x)})\n",
    "    all_predictions = pd.DataFrame(list(pred_list.values), index=agg_data.index)\n",
    "    feats = all_predictions.columns\n",
    "\n",
    "    all_predictions['t_mean'] = all_predictions.mean(axis=1)\n",
    "    all_predictions['t_median'] = all_predictions.median(axis=1)   # including t_mean as one of the elements? well, ok\n",
    "    all_predictions['t_sum_log'] = all_predictions.sum(axis=1)\n",
    "    all_predictions['t_sum_act'] = all_predictions.fillna(0).sum(axis=1)\n",
    "    all_predictions['t_nb_sess'] = all_predictions.isnull().sum(axis=1)\n",
    "\n",
    "    full_data = pd.concat([agg_data, all_predictions], axis=1).astype(float)\n",
    "    full_data['fullVisitorId'] = full_data.index\n",
    "    del agg_data, all_predictions\n",
    "    gc.collect()\n",
    "    return full_data"
   ]
  },
  {
   "cell_type": "code",
   "execution_count": 49,
   "metadata": {
    "ExecuteTime": {
     "end_time": "2018-10-14T10:39:14.694931Z",
     "start_time": "2018-10-14T10:36:11.373146Z"
    },
    "_uuid": "c00b7107b4a9069f9be7d466c3c523cf880037ea"
   },
   "outputs": [],
   "source": [
    "user_train = create_user_df(train)\n",
    "user_test = create_user_df(test)"
   ]
  },
  {
   "cell_type": "code",
   "execution_count": 50,
   "metadata": {
    "ExecuteTime": {
     "end_time": "2018-10-14T10:39:16.454615Z",
     "start_time": "2018-10-14T10:39:14.696930Z"
    },
    "_uuid": "3c2550e5680a06aa78525cc6fac57e70fb288f6b"
   },
   "outputs": [],
   "source": [
    "features = list(user_train.columns)[:-1]  # don't include \"fullVisitorId\"\n",
    "user_train[\"totals.transactionRevenue\"] = train[['fullVisitorId', 'totals.transactionRevenue']].groupby('fullVisitorId').sum()"
   ]
  },
  {
   "cell_type": "code",
   "execution_count": 51,
   "metadata": {
    "ExecuteTime": {
     "end_time": "2018-10-14T10:39:30.672677Z",
     "start_time": "2018-10-14T10:39:30.651678Z"
    },
    "_uuid": "2cb410a63ac86d08117421bdcee2c32ffce980a5"
   },
   "outputs": [],
   "source": [
    "for f in features:\n",
    "    if f not in user_test.columns:\n",
    "        user_test[f] = np.nan"
   ]
  },
  {
   "cell_type": "markdown",
   "metadata": {
    "_uuid": "c1e15413cbb73c6e74948e91f173dfc8fb2db093"
   },
   "source": [
    "# Meta-models"
   ]
  },
  {
   "cell_type": "code",
   "execution_count": 52,
   "metadata": {
    "ExecuteTime": {
     "end_time": "2018-10-14T10:39:44.481353Z",
     "start_time": "2018-10-14T10:39:38.085163Z"
    },
    "_uuid": "3161efd586a3bc6421c92b16192e7d768105f008"
   },
   "outputs": [],
   "source": [
    "Kfolder = KFoldValidation(user_train)"
   ]
  },
  {
   "cell_type": "code",
   "execution_count": 53,
   "metadata": {
    "ExecuteTime": {
     "end_time": "2018-10-14T10:39:44.488349Z",
     "start_time": "2018-10-14T10:39:44.482352Z"
    },
    "_uuid": "31cac11992e6c8704766d6224c355d796dba4642"
   },
   "outputs": [],
   "source": [
    "lgbmodel = lgb.LGBMRegressor(n_estimators=1000, objective=\"regression\", metric=\"rmse\", num_leaves=31, min_child_samples=100,\n",
    "                      learning_rate=0.03, bagging_fraction=0.7, feature_fraction=0.5, bagging_frequency=5, \n",
    "                      bagging_seed=2019, subsample=.9, colsample_bytree=.9,\n",
    "                            use_best_model=True)"
   ]
  },
  {
   "cell_type": "code",
   "execution_count": 54,
   "metadata": {
    "ExecuteTime": {
     "end_time": "2018-10-14T10:42:33.819663Z",
     "start_time": "2018-10-14T10:39:44.490358Z"
    },
    "_uuid": "682665e7749f8378bd90ba78adf265fabde8a146",
    "scrolled": true
   },
   "outputs": [
    {
     "name": "stdout",
     "output_type": "stream",
     "text": [
      "Fold  0 :\n",
      "Training until validation scores don't improve for 50 rounds.\n",
      "[100]\tvalid_0's rmse: 1.50389\n",
      "[200]\tvalid_0's rmse: 1.4974\n",
      "Early stopping, best iteration is:\n",
      "[209]\tvalid_0's rmse: 1.49724\n",
      "Fold  0  error:  1.496954331853478\n",
      "Fold  0  score:  1.496954331853478\n",
      "Fold  1 :\n",
      "Training until validation scores don't improve for 50 rounds.\n",
      "[100]\tvalid_0's rmse: 1.50961\n",
      "Early stopping, best iteration is:\n",
      "[144]\tvalid_0's rmse: 1.50648\n",
      "Fold  1  error:  1.5063903426869982\n",
      "Fold  1  score:  1.5063903426869982\n",
      "Fold  2 :\n",
      "Training until validation scores don't improve for 50 rounds.\n",
      "[100]\tvalid_0's rmse: 1.50781\n",
      "[200]\tvalid_0's rmse: 1.50259\n",
      "Early stopping, best iteration is:\n",
      "[176]\tvalid_0's rmse: 1.50249\n",
      "Fold  2  error:  1.5023974143144654\n",
      "Fold  2  score:  1.5023974143144654\n",
      "Fold  3 :\n",
      "Training until validation scores don't improve for 50 rounds.\n",
      "[100]\tvalid_0's rmse: 1.48405\n",
      "[200]\tvalid_0's rmse: 1.47826\n",
      "Early stopping, best iteration is:\n",
      "[216]\tvalid_0's rmse: 1.47783\n",
      "Fold  3  error:  1.4776875493088963\n",
      "Fold  3  score:  1.4776875493088963\n",
      "Fold  4 :\n",
      "Training until validation scores don't improve for 50 rounds.\n",
      "[100]\tvalid_0's rmse: 1.51279\n",
      "[200]\tvalid_0's rmse: 1.5084\n",
      "Early stopping, best iteration is:\n",
      "[174]\tvalid_0's rmse: 1.50826\n",
      "Fold  4  error:  1.5080099419958084\n",
      "Fold  4  score:  1.5080099419958084\n",
      "Final score:  1.4982879160319291\n"
     ]
    },
    {
     "data": {
      "text/plain": [
       "1.4982879160319291"
      ]
     },
     "execution_count": 54,
     "metadata": {},
     "output_type": "execute_result"
    }
   ],
   "source": [
    "Kfolder.validate(user_train, user_test, features, lgbmodel, name=\"lgbfinal\", prepare_stacking=True)"
   ]
  },
  {
   "cell_type": "code",
   "execution_count": 55,
   "metadata": {
    "ExecuteTime": {
     "end_time": "2018-10-14T10:42:33.825471Z",
     "start_time": "2018-10-14T10:42:33.820663Z"
    },
    "_uuid": "97c4de57ccfeea68d93ac407ea931d7ce422f894"
   },
   "outputs": [],
   "source": [
    "xgbmodel = xgb.XGBRegressor(max_depth=22, learning_rate=0.02, n_estimators=1000, \n",
    "                                         objective='reg:linear', gamma=1.45, seed=2019, silent=False,\n",
    "                                        subsample=0.67, colsample_bytree=0.054, colsample_bylevel=0.50)"
   ]
  },
  {
   "cell_type": "code",
   "execution_count": 58,
   "metadata": {},
   "outputs": [
    {
     "name": "stderr",
     "output_type": "stream",
     "text": [
      "Exception ignored in: <function DMatrix.__del__ at 0x7fd303aebea0>\n",
      "Traceback (most recent call last):\n",
      "  File \"/home/ec2-user/anaconda3/lib/python3.7/site-packages/xgboost/core.py\", line 482, in __del__\n",
      "    if self.handle is not None:\n",
      "AttributeError: 'DMatrix' object has no attribute 'handle'\n"
     ]
    },
    {
     "data": {
      "text/plain": [
       "170"
      ]
     },
     "execution_count": 58,
     "metadata": {},
     "output_type": "execute_result"
    }
   ],
   "source": [
    "gc.collect()"
   ]
  },
  {
   "cell_type": "code",
   "execution_count": 57,
   "metadata": {
    "ExecuteTime": {
     "end_time": "2018-10-14T11:05:28.635869Z",
     "start_time": "2018-10-14T10:42:33.827470Z"
    },
    "_uuid": "26bfa011883360279934e61cad8d2f2a6ee1ccf9",
    "scrolled": true
   },
   "outputs": [
    {
     "ename": "MemoryError",
     "evalue": "",
     "output_type": "error",
     "traceback": [
      "\u001b[0;31m---------------------------------------------------------------------------\u001b[0m",
      "\u001b[0;31mMemoryError\u001b[0m                               Traceback (most recent call last)",
      "\u001b[0;32m<ipython-input-57-71985e54c2d3>\u001b[0m in \u001b[0;36m<module>\u001b[0;34m()\u001b[0m\n\u001b[0;32m----> 1\u001b[0;31m \u001b[0mKfolder\u001b[0m\u001b[0;34m.\u001b[0m\u001b[0mvalidate\u001b[0m\u001b[0;34m(\u001b[0m\u001b[0muser_train\u001b[0m\u001b[0;34m,\u001b[0m \u001b[0muser_test\u001b[0m\u001b[0;34m,\u001b[0m \u001b[0mfeatures\u001b[0m\u001b[0;34m,\u001b[0m \u001b[0mxgbmodel\u001b[0m\u001b[0;34m,\u001b[0m \u001b[0mname\u001b[0m\u001b[0;34m=\u001b[0m\u001b[0;34m\"xgbfinal\"\u001b[0m\u001b[0;34m,\u001b[0m \u001b[0mprepare_stacking\u001b[0m\u001b[0;34m=\u001b[0m\u001b[0;32mTrue\u001b[0m\u001b[0;34m)\u001b[0m\u001b[0;34m\u001b[0m\u001b[0m\n\u001b[0m",
      "\u001b[0;32m<ipython-input-43-fdc4a630bed4>\u001b[0m in \u001b[0;36mvalidate\u001b[0;34m(self, train, test, features, model, name, prepare_stacking, fit_params)\u001b[0m\n\u001b[1;32m     24\u001b[0m \u001b[0;34m\u001b[0m\u001b[0m\n\u001b[1;32m     25\u001b[0m         \u001b[0;32mfor\u001b[0m \u001b[0mfold_id\u001b[0m\u001b[0;34m,\u001b[0m \u001b[0;34m(\u001b[0m\u001b[0mtrn\u001b[0m\u001b[0;34m,\u001b[0m \u001b[0mval\u001b[0m\u001b[0;34m)\u001b[0m \u001b[0;32min\u001b[0m \u001b[0menumerate\u001b[0m\u001b[0;34m(\u001b[0m\u001b[0mself\u001b[0m\u001b[0;34m.\u001b[0m\u001b[0mfold_ids\u001b[0m\u001b[0;34m)\u001b[0m\u001b[0;34m:\u001b[0m\u001b[0;34m\u001b[0m\u001b[0m\n\u001b[0;32m---> 26\u001b[0;31m             \u001b[0mdevel\u001b[0m \u001b[0;34m=\u001b[0m \u001b[0mtrain\u001b[0m\u001b[0;34m[\u001b[0m\u001b[0mfeatures\u001b[0m\u001b[0;34m]\u001b[0m\u001b[0;34m.\u001b[0m\u001b[0miloc\u001b[0m\u001b[0;34m[\u001b[0m\u001b[0mtrn\u001b[0m\u001b[0;34m]\u001b[0m\u001b[0;34m\u001b[0m\u001b[0m\n\u001b[0m\u001b[1;32m     27\u001b[0m             \u001b[0my_devel\u001b[0m \u001b[0;34m=\u001b[0m \u001b[0mnp\u001b[0m\u001b[0;34m.\u001b[0m\u001b[0mlog1p\u001b[0m\u001b[0;34m(\u001b[0m\u001b[0mtrain\u001b[0m\u001b[0;34m[\u001b[0m\u001b[0;34m\"totals.transactionRevenue\"\u001b[0m\u001b[0;34m]\u001b[0m\u001b[0;34m.\u001b[0m\u001b[0miloc\u001b[0m\u001b[0;34m[\u001b[0m\u001b[0mtrn\u001b[0m\u001b[0;34m]\u001b[0m\u001b[0;34m)\u001b[0m\u001b[0;34m\u001b[0m\u001b[0m\n\u001b[1;32m     28\u001b[0m             \u001b[0mvalid\u001b[0m \u001b[0;34m=\u001b[0m \u001b[0mtrain\u001b[0m\u001b[0;34m[\u001b[0m\u001b[0mfeatures\u001b[0m\u001b[0;34m]\u001b[0m\u001b[0;34m.\u001b[0m\u001b[0miloc\u001b[0m\u001b[0;34m[\u001b[0m\u001b[0mval\u001b[0m\u001b[0;34m]\u001b[0m\u001b[0;34m\u001b[0m\u001b[0m\n",
      "\u001b[0;32m~/anaconda3/lib/python3.7/site-packages/pandas/core/indexing.py\u001b[0m in \u001b[0;36m__getitem__\u001b[0;34m(self, key)\u001b[0m\n\u001b[1;32m   1476\u001b[0m \u001b[0;34m\u001b[0m\u001b[0m\n\u001b[1;32m   1477\u001b[0m             \u001b[0mmaybe_callable\u001b[0m \u001b[0;34m=\u001b[0m \u001b[0mcom\u001b[0m\u001b[0;34m.\u001b[0m\u001b[0m_apply_if_callable\u001b[0m\u001b[0;34m(\u001b[0m\u001b[0mkey\u001b[0m\u001b[0;34m,\u001b[0m \u001b[0mself\u001b[0m\u001b[0;34m.\u001b[0m\u001b[0mobj\u001b[0m\u001b[0;34m)\u001b[0m\u001b[0;34m\u001b[0m\u001b[0m\n\u001b[0;32m-> 1478\u001b[0;31m             \u001b[0;32mreturn\u001b[0m \u001b[0mself\u001b[0m\u001b[0;34m.\u001b[0m\u001b[0m_getitem_axis\u001b[0m\u001b[0;34m(\u001b[0m\u001b[0mmaybe_callable\u001b[0m\u001b[0;34m,\u001b[0m \u001b[0maxis\u001b[0m\u001b[0;34m=\u001b[0m\u001b[0maxis\u001b[0m\u001b[0;34m)\u001b[0m\u001b[0;34m\u001b[0m\u001b[0m\n\u001b[0m\u001b[1;32m   1479\u001b[0m \u001b[0;34m\u001b[0m\u001b[0m\n\u001b[1;32m   1480\u001b[0m     \u001b[0;32mdef\u001b[0m \u001b[0m_is_scalar_access\u001b[0m\u001b[0;34m(\u001b[0m\u001b[0mself\u001b[0m\u001b[0;34m,\u001b[0m \u001b[0mkey\u001b[0m\u001b[0;34m)\u001b[0m\u001b[0;34m:\u001b[0m\u001b[0;34m\u001b[0m\u001b[0m\n",
      "\u001b[0;32m~/anaconda3/lib/python3.7/site-packages/pandas/core/indexing.py\u001b[0m in \u001b[0;36m_getitem_axis\u001b[0;34m(self, key, axis)\u001b[0m\n\u001b[1;32m   2089\u001b[0m         \u001b[0;31m# a list of integers\u001b[0m\u001b[0;34m\u001b[0m\u001b[0;34m\u001b[0m\u001b[0m\n\u001b[1;32m   2090\u001b[0m         \u001b[0;32melif\u001b[0m \u001b[0mis_list_like_indexer\u001b[0m\u001b[0;34m(\u001b[0m\u001b[0mkey\u001b[0m\u001b[0;34m)\u001b[0m\u001b[0;34m:\u001b[0m\u001b[0;34m\u001b[0m\u001b[0m\n\u001b[0;32m-> 2091\u001b[0;31m             \u001b[0;32mreturn\u001b[0m \u001b[0mself\u001b[0m\u001b[0;34m.\u001b[0m\u001b[0m_get_list_axis\u001b[0m\u001b[0;34m(\u001b[0m\u001b[0mkey\u001b[0m\u001b[0;34m,\u001b[0m \u001b[0maxis\u001b[0m\u001b[0;34m=\u001b[0m\u001b[0maxis\u001b[0m\u001b[0;34m)\u001b[0m\u001b[0;34m\u001b[0m\u001b[0m\n\u001b[0m\u001b[1;32m   2092\u001b[0m \u001b[0;34m\u001b[0m\u001b[0m\n\u001b[1;32m   2093\u001b[0m         \u001b[0;31m# a single integer\u001b[0m\u001b[0;34m\u001b[0m\u001b[0;34m\u001b[0m\u001b[0m\n",
      "\u001b[0;32m~/anaconda3/lib/python3.7/site-packages/pandas/core/indexing.py\u001b[0m in \u001b[0;36m_get_list_axis\u001b[0;34m(self, key, axis)\u001b[0m\n\u001b[1;32m   2068\u001b[0m             \u001b[0maxis\u001b[0m \u001b[0;34m=\u001b[0m \u001b[0mself\u001b[0m\u001b[0;34m.\u001b[0m\u001b[0maxis\u001b[0m \u001b[0;32mor\u001b[0m \u001b[0;36m0\u001b[0m\u001b[0;34m\u001b[0m\u001b[0m\n\u001b[1;32m   2069\u001b[0m         \u001b[0;32mtry\u001b[0m\u001b[0;34m:\u001b[0m\u001b[0;34m\u001b[0m\u001b[0m\n\u001b[0;32m-> 2070\u001b[0;31m             \u001b[0;32mreturn\u001b[0m \u001b[0mself\u001b[0m\u001b[0;34m.\u001b[0m\u001b[0mobj\u001b[0m\u001b[0;34m.\u001b[0m\u001b[0m_take\u001b[0m\u001b[0;34m(\u001b[0m\u001b[0mkey\u001b[0m\u001b[0;34m,\u001b[0m \u001b[0maxis\u001b[0m\u001b[0;34m=\u001b[0m\u001b[0maxis\u001b[0m\u001b[0;34m)\u001b[0m\u001b[0;34m\u001b[0m\u001b[0m\n\u001b[0m\u001b[1;32m   2071\u001b[0m         \u001b[0;32mexcept\u001b[0m \u001b[0mIndexError\u001b[0m\u001b[0;34m:\u001b[0m\u001b[0;34m\u001b[0m\u001b[0m\n\u001b[1;32m   2072\u001b[0m             \u001b[0;31m# re-raise with different error message\u001b[0m\u001b[0;34m\u001b[0m\u001b[0;34m\u001b[0m\u001b[0m\n",
      "\u001b[0;32m~/anaconda3/lib/python3.7/site-packages/pandas/core/generic.py\u001b[0m in \u001b[0;36m_take\u001b[0;34m(self, indices, axis, is_copy)\u001b[0m\n\u001b[1;32m   2787\u001b[0m         new_data = self._data.take(indices,\n\u001b[1;32m   2788\u001b[0m                                    \u001b[0maxis\u001b[0m\u001b[0;34m=\u001b[0m\u001b[0mself\u001b[0m\u001b[0;34m.\u001b[0m\u001b[0m_get_block_manager_axis\u001b[0m\u001b[0;34m(\u001b[0m\u001b[0maxis\u001b[0m\u001b[0;34m)\u001b[0m\u001b[0;34m,\u001b[0m\u001b[0;34m\u001b[0m\u001b[0m\n\u001b[0;32m-> 2789\u001b[0;31m                                    verify=True)\n\u001b[0m\u001b[1;32m   2790\u001b[0m         \u001b[0mresult\u001b[0m \u001b[0;34m=\u001b[0m \u001b[0mself\u001b[0m\u001b[0;34m.\u001b[0m\u001b[0m_constructor\u001b[0m\u001b[0;34m(\u001b[0m\u001b[0mnew_data\u001b[0m\u001b[0;34m)\u001b[0m\u001b[0;34m.\u001b[0m\u001b[0m__finalize__\u001b[0m\u001b[0;34m(\u001b[0m\u001b[0mself\u001b[0m\u001b[0;34m)\u001b[0m\u001b[0;34m\u001b[0m\u001b[0m\n\u001b[1;32m   2791\u001b[0m \u001b[0;34m\u001b[0m\u001b[0m\n",
      "\u001b[0;32m~/anaconda3/lib/python3.7/site-packages/pandas/core/internals.py\u001b[0m in \u001b[0;36mtake\u001b[0;34m(self, indexer, axis, verify, convert)\u001b[0m\n\u001b[1;32m   4537\u001b[0m         \u001b[0mnew_labels\u001b[0m \u001b[0;34m=\u001b[0m \u001b[0mself\u001b[0m\u001b[0;34m.\u001b[0m\u001b[0maxes\u001b[0m\u001b[0;34m[\u001b[0m\u001b[0maxis\u001b[0m\u001b[0;34m]\u001b[0m\u001b[0;34m.\u001b[0m\u001b[0mtake\u001b[0m\u001b[0;34m(\u001b[0m\u001b[0mindexer\u001b[0m\u001b[0;34m)\u001b[0m\u001b[0;34m\u001b[0m\u001b[0m\n\u001b[1;32m   4538\u001b[0m         return self.reindex_indexer(new_axis=new_labels, indexer=indexer,\n\u001b[0;32m-> 4539\u001b[0;31m                                     axis=axis, allow_dups=True)\n\u001b[0m\u001b[1;32m   4540\u001b[0m \u001b[0;34m\u001b[0m\u001b[0m\n\u001b[1;32m   4541\u001b[0m     \u001b[0;32mdef\u001b[0m \u001b[0mmerge\u001b[0m\u001b[0;34m(\u001b[0m\u001b[0mself\u001b[0m\u001b[0;34m,\u001b[0m \u001b[0mother\u001b[0m\u001b[0;34m,\u001b[0m \u001b[0mlsuffix\u001b[0m\u001b[0;34m=\u001b[0m\u001b[0;34m''\u001b[0m\u001b[0;34m,\u001b[0m \u001b[0mrsuffix\u001b[0m\u001b[0;34m=\u001b[0m\u001b[0;34m''\u001b[0m\u001b[0;34m)\u001b[0m\u001b[0;34m:\u001b[0m\u001b[0;34m\u001b[0m\u001b[0m\n",
      "\u001b[0;32m~/anaconda3/lib/python3.7/site-packages/pandas/core/internals.py\u001b[0m in \u001b[0;36mreindex_indexer\u001b[0;34m(self, new_axis, indexer, axis, fill_value, allow_dups, copy)\u001b[0m\n\u001b[1;32m   4423\u001b[0m             new_blocks = [blk.take_nd(indexer, axis=axis, fill_tuple=(\n\u001b[1;32m   4424\u001b[0m                 fill_value if fill_value is not None else blk.fill_value,))\n\u001b[0;32m-> 4425\u001b[0;31m                 for blk in self.blocks]\n\u001b[0m\u001b[1;32m   4426\u001b[0m \u001b[0;34m\u001b[0m\u001b[0m\n\u001b[1;32m   4427\u001b[0m         \u001b[0mnew_axes\u001b[0m \u001b[0;34m=\u001b[0m \u001b[0mlist\u001b[0m\u001b[0;34m(\u001b[0m\u001b[0mself\u001b[0m\u001b[0;34m.\u001b[0m\u001b[0maxes\u001b[0m\u001b[0;34m)\u001b[0m\u001b[0;34m\u001b[0m\u001b[0m\n",
      "\u001b[0;32m~/anaconda3/lib/python3.7/site-packages/pandas/core/internals.py\u001b[0m in \u001b[0;36m<listcomp>\u001b[0;34m(.0)\u001b[0m\n\u001b[1;32m   4423\u001b[0m             new_blocks = [blk.take_nd(indexer, axis=axis, fill_tuple=(\n\u001b[1;32m   4424\u001b[0m                 fill_value if fill_value is not None else blk.fill_value,))\n\u001b[0;32m-> 4425\u001b[0;31m                 for blk in self.blocks]\n\u001b[0m\u001b[1;32m   4426\u001b[0m \u001b[0;34m\u001b[0m\u001b[0m\n\u001b[1;32m   4427\u001b[0m         \u001b[0mnew_axes\u001b[0m \u001b[0;34m=\u001b[0m \u001b[0mlist\u001b[0m\u001b[0;34m(\u001b[0m\u001b[0mself\u001b[0m\u001b[0;34m.\u001b[0m\u001b[0maxes\u001b[0m\u001b[0;34m)\u001b[0m\u001b[0;34m\u001b[0m\u001b[0m\n",
      "\u001b[0;32m~/anaconda3/lib/python3.7/site-packages/pandas/core/internals.py\u001b[0m in \u001b[0;36mtake_nd\u001b[0;34m(self, indexer, axis, new_mgr_locs, fill_tuple)\u001b[0m\n\u001b[1;32m   1256\u001b[0m             \u001b[0mfill_value\u001b[0m \u001b[0;34m=\u001b[0m \u001b[0mfill_tuple\u001b[0m\u001b[0;34m[\u001b[0m\u001b[0;36m0\u001b[0m\u001b[0;34m]\u001b[0m\u001b[0;34m\u001b[0m\u001b[0m\n\u001b[1;32m   1257\u001b[0m             new_values = algos.take_nd(values, indexer, axis=axis,\n\u001b[0;32m-> 1258\u001b[0;31m                                        allow_fill=True, fill_value=fill_value)\n\u001b[0m\u001b[1;32m   1259\u001b[0m \u001b[0;34m\u001b[0m\u001b[0m\n\u001b[1;32m   1260\u001b[0m         \u001b[0;32mif\u001b[0m \u001b[0mnew_mgr_locs\u001b[0m \u001b[0;32mis\u001b[0m \u001b[0;32mNone\u001b[0m\u001b[0;34m:\u001b[0m\u001b[0;34m\u001b[0m\u001b[0m\n",
      "\u001b[0;32m~/anaconda3/lib/python3.7/site-packages/pandas/core/algorithms.py\u001b[0m in \u001b[0;36mtake_nd\u001b[0;34m(arr, indexer, axis, out, fill_value, mask_info, allow_fill)\u001b[0m\n\u001b[1;32m   1653\u001b[0m             \u001b[0mout\u001b[0m \u001b[0;34m=\u001b[0m \u001b[0mnp\u001b[0m\u001b[0;34m.\u001b[0m\u001b[0mempty\u001b[0m\u001b[0;34m(\u001b[0m\u001b[0mout_shape\u001b[0m\u001b[0;34m,\u001b[0m \u001b[0mdtype\u001b[0m\u001b[0;34m=\u001b[0m\u001b[0mdtype\u001b[0m\u001b[0;34m,\u001b[0m \u001b[0morder\u001b[0m\u001b[0;34m=\u001b[0m\u001b[0;34m'F'\u001b[0m\u001b[0;34m)\u001b[0m\u001b[0;34m\u001b[0m\u001b[0m\n\u001b[1;32m   1654\u001b[0m         \u001b[0;32melse\u001b[0m\u001b[0;34m:\u001b[0m\u001b[0;34m\u001b[0m\u001b[0m\n\u001b[0;32m-> 1655\u001b[0;31m             \u001b[0mout\u001b[0m \u001b[0;34m=\u001b[0m \u001b[0mnp\u001b[0m\u001b[0;34m.\u001b[0m\u001b[0mempty\u001b[0m\u001b[0;34m(\u001b[0m\u001b[0mout_shape\u001b[0m\u001b[0;34m,\u001b[0m \u001b[0mdtype\u001b[0m\u001b[0;34m=\u001b[0m\u001b[0mdtype\u001b[0m\u001b[0;34m)\u001b[0m\u001b[0;34m\u001b[0m\u001b[0m\n\u001b[0m\u001b[1;32m   1656\u001b[0m \u001b[0;34m\u001b[0m\u001b[0m\n\u001b[1;32m   1657\u001b[0m     func = _get_take_nd_function(arr.ndim, arr.dtype, out.dtype, axis=axis,\n",
      "\u001b[0;31mMemoryError\u001b[0m: "
     ]
    }
   ],
   "source": [
    "Kfolder.validate(user_train, user_test, features, xgbmodel, name=\"xgbfinal\", prepare_stacking=True)"
   ]
  },
  {
   "cell_type": "code",
   "execution_count": 59,
   "metadata": {
    "ExecuteTime": {
     "end_time": "2018-10-14T11:05:28.655836Z",
     "start_time": "2018-10-14T11:05:28.638846Z"
    },
    "_uuid": "a69f5b9029548458fc8e6378fc7fac1e2a46ac3e"
   },
   "outputs": [],
   "source": [
    "catmodel = cat.CatBoostRegressor(iterations=500, learning_rate=0.2, depth=5, random_seed=2019)"
   ]
  },
  {
   "cell_type": "code",
   "execution_count": 60,
   "metadata": {
    "ExecuteTime": {
     "end_time": "2018-10-14T11:10:36.794158Z",
     "start_time": "2018-10-14T11:05:28.657835Z"
    },
    "_uuid": "97fb40a1e6e6fb9d67d0202a9a5df781dcf591b5",
    "scrolled": true
   },
   "outputs": [
    {
     "name": "stdout",
     "output_type": "stream",
     "text": [
      "Fold  0 :\n",
      "0:\tlearn: 1.9255219\ttest: 1.9279519\tbest: 1.9279519 (0)\ttotal: 375ms\tremaining: 3m 7s\n",
      "100:\tlearn: 1.4657594\ttest: 1.5019154\tbest: 1.5011882 (76)\ttotal: 34.8s\tremaining: 2m 17s\n",
      "200:\tlearn: 1.4380087\ttest: 1.5022203\tbest: 1.5007061 (135)\ttotal: 1m 10s\tremaining: 1m 45s\n",
      "300:\tlearn: 1.4141213\ttest: 1.5048838\tbest: 1.5007061 (135)\ttotal: 1m 46s\tremaining: 1m 10s\n",
      "400:\tlearn: 1.3921136\ttest: 1.5083650\tbest: 1.5007061 (135)\ttotal: 2m 23s\tremaining: 35.5s\n",
      "499:\tlearn: 1.3732326\ttest: 1.5111122\tbest: 1.5007061 (135)\ttotal: 2m 59s\tremaining: 0us\n",
      "\n",
      "bestTest = 1.500706148\n",
      "bestIteration = 135\n",
      "\n",
      "Shrink model to first 136 iterations.\n",
      "Fold  0  error:  1.5006562796351786\n",
      "Fold  0  score:  1.5006562796351786\n"
     ]
    },
    {
     "ename": "MemoryError",
     "evalue": "",
     "output_type": "error",
     "traceback": [
      "\u001b[0;31m---------------------------------------------------------------------------\u001b[0m",
      "\u001b[0;31mMemoryError\u001b[0m                               Traceback (most recent call last)",
      "\u001b[0;32m<ipython-input-60-7a5da47f808b>\u001b[0m in \u001b[0;36m<module>\u001b[0;34m()\u001b[0m\n\u001b[1;32m      1\u001b[0m Kfolder.validate(user_train, user_test, features, catmodel, name=\"catfinal\", prepare_stacking=True,\n\u001b[0;32m----> 2\u001b[0;31m                 fit_params={\"use_best_model\": True, \"verbose\": 100})\n\u001b[0m",
      "\u001b[0;32m<ipython-input-43-fdc4a630bed4>\u001b[0m in \u001b[0;36mvalidate\u001b[0;34m(self, train, test, features, model, name, prepare_stacking, fit_params)\u001b[0m\n\u001b[1;32m     24\u001b[0m \u001b[0;34m\u001b[0m\u001b[0m\n\u001b[1;32m     25\u001b[0m         \u001b[0;32mfor\u001b[0m \u001b[0mfold_id\u001b[0m\u001b[0;34m,\u001b[0m \u001b[0;34m(\u001b[0m\u001b[0mtrn\u001b[0m\u001b[0;34m,\u001b[0m \u001b[0mval\u001b[0m\u001b[0;34m)\u001b[0m \u001b[0;32min\u001b[0m \u001b[0menumerate\u001b[0m\u001b[0;34m(\u001b[0m\u001b[0mself\u001b[0m\u001b[0;34m.\u001b[0m\u001b[0mfold_ids\u001b[0m\u001b[0;34m)\u001b[0m\u001b[0;34m:\u001b[0m\u001b[0;34m\u001b[0m\u001b[0m\n\u001b[0;32m---> 26\u001b[0;31m             \u001b[0mdevel\u001b[0m \u001b[0;34m=\u001b[0m \u001b[0mtrain\u001b[0m\u001b[0;34m[\u001b[0m\u001b[0mfeatures\u001b[0m\u001b[0;34m]\u001b[0m\u001b[0;34m.\u001b[0m\u001b[0miloc\u001b[0m\u001b[0;34m[\u001b[0m\u001b[0mtrn\u001b[0m\u001b[0;34m]\u001b[0m\u001b[0;34m\u001b[0m\u001b[0m\n\u001b[0m\u001b[1;32m     27\u001b[0m             \u001b[0my_devel\u001b[0m \u001b[0;34m=\u001b[0m \u001b[0mnp\u001b[0m\u001b[0;34m.\u001b[0m\u001b[0mlog1p\u001b[0m\u001b[0;34m(\u001b[0m\u001b[0mtrain\u001b[0m\u001b[0;34m[\u001b[0m\u001b[0;34m\"totals.transactionRevenue\"\u001b[0m\u001b[0;34m]\u001b[0m\u001b[0;34m.\u001b[0m\u001b[0miloc\u001b[0m\u001b[0;34m[\u001b[0m\u001b[0mtrn\u001b[0m\u001b[0;34m]\u001b[0m\u001b[0;34m)\u001b[0m\u001b[0;34m\u001b[0m\u001b[0m\n\u001b[1;32m     28\u001b[0m             \u001b[0mvalid\u001b[0m \u001b[0;34m=\u001b[0m \u001b[0mtrain\u001b[0m\u001b[0;34m[\u001b[0m\u001b[0mfeatures\u001b[0m\u001b[0;34m]\u001b[0m\u001b[0;34m.\u001b[0m\u001b[0miloc\u001b[0m\u001b[0;34m[\u001b[0m\u001b[0mval\u001b[0m\u001b[0;34m]\u001b[0m\u001b[0;34m\u001b[0m\u001b[0m\n",
      "\u001b[0;32m~/anaconda3/lib/python3.7/site-packages/pandas/core/indexing.py\u001b[0m in \u001b[0;36m__getitem__\u001b[0;34m(self, key)\u001b[0m\n\u001b[1;32m   1476\u001b[0m \u001b[0;34m\u001b[0m\u001b[0m\n\u001b[1;32m   1477\u001b[0m             \u001b[0mmaybe_callable\u001b[0m \u001b[0;34m=\u001b[0m \u001b[0mcom\u001b[0m\u001b[0;34m.\u001b[0m\u001b[0m_apply_if_callable\u001b[0m\u001b[0;34m(\u001b[0m\u001b[0mkey\u001b[0m\u001b[0;34m,\u001b[0m \u001b[0mself\u001b[0m\u001b[0;34m.\u001b[0m\u001b[0mobj\u001b[0m\u001b[0;34m)\u001b[0m\u001b[0;34m\u001b[0m\u001b[0m\n\u001b[0;32m-> 1478\u001b[0;31m             \u001b[0;32mreturn\u001b[0m \u001b[0mself\u001b[0m\u001b[0;34m.\u001b[0m\u001b[0m_getitem_axis\u001b[0m\u001b[0;34m(\u001b[0m\u001b[0mmaybe_callable\u001b[0m\u001b[0;34m,\u001b[0m \u001b[0maxis\u001b[0m\u001b[0;34m=\u001b[0m\u001b[0maxis\u001b[0m\u001b[0;34m)\u001b[0m\u001b[0;34m\u001b[0m\u001b[0m\n\u001b[0m\u001b[1;32m   1479\u001b[0m \u001b[0;34m\u001b[0m\u001b[0m\n\u001b[1;32m   1480\u001b[0m     \u001b[0;32mdef\u001b[0m \u001b[0m_is_scalar_access\u001b[0m\u001b[0;34m(\u001b[0m\u001b[0mself\u001b[0m\u001b[0;34m,\u001b[0m \u001b[0mkey\u001b[0m\u001b[0;34m)\u001b[0m\u001b[0;34m:\u001b[0m\u001b[0;34m\u001b[0m\u001b[0m\n",
      "\u001b[0;32m~/anaconda3/lib/python3.7/site-packages/pandas/core/indexing.py\u001b[0m in \u001b[0;36m_getitem_axis\u001b[0;34m(self, key, axis)\u001b[0m\n\u001b[1;32m   2089\u001b[0m         \u001b[0;31m# a list of integers\u001b[0m\u001b[0;34m\u001b[0m\u001b[0;34m\u001b[0m\u001b[0m\n\u001b[1;32m   2090\u001b[0m         \u001b[0;32melif\u001b[0m \u001b[0mis_list_like_indexer\u001b[0m\u001b[0;34m(\u001b[0m\u001b[0mkey\u001b[0m\u001b[0;34m)\u001b[0m\u001b[0;34m:\u001b[0m\u001b[0;34m\u001b[0m\u001b[0m\n\u001b[0;32m-> 2091\u001b[0;31m             \u001b[0;32mreturn\u001b[0m \u001b[0mself\u001b[0m\u001b[0;34m.\u001b[0m\u001b[0m_get_list_axis\u001b[0m\u001b[0;34m(\u001b[0m\u001b[0mkey\u001b[0m\u001b[0;34m,\u001b[0m \u001b[0maxis\u001b[0m\u001b[0;34m=\u001b[0m\u001b[0maxis\u001b[0m\u001b[0;34m)\u001b[0m\u001b[0;34m\u001b[0m\u001b[0m\n\u001b[0m\u001b[1;32m   2092\u001b[0m \u001b[0;34m\u001b[0m\u001b[0m\n\u001b[1;32m   2093\u001b[0m         \u001b[0;31m# a single integer\u001b[0m\u001b[0;34m\u001b[0m\u001b[0;34m\u001b[0m\u001b[0m\n",
      "\u001b[0;32m~/anaconda3/lib/python3.7/site-packages/pandas/core/indexing.py\u001b[0m in \u001b[0;36m_get_list_axis\u001b[0;34m(self, key, axis)\u001b[0m\n\u001b[1;32m   2068\u001b[0m             \u001b[0maxis\u001b[0m \u001b[0;34m=\u001b[0m \u001b[0mself\u001b[0m\u001b[0;34m.\u001b[0m\u001b[0maxis\u001b[0m \u001b[0;32mor\u001b[0m \u001b[0;36m0\u001b[0m\u001b[0;34m\u001b[0m\u001b[0m\n\u001b[1;32m   2069\u001b[0m         \u001b[0;32mtry\u001b[0m\u001b[0;34m:\u001b[0m\u001b[0;34m\u001b[0m\u001b[0m\n\u001b[0;32m-> 2070\u001b[0;31m             \u001b[0;32mreturn\u001b[0m \u001b[0mself\u001b[0m\u001b[0;34m.\u001b[0m\u001b[0mobj\u001b[0m\u001b[0;34m.\u001b[0m\u001b[0m_take\u001b[0m\u001b[0;34m(\u001b[0m\u001b[0mkey\u001b[0m\u001b[0;34m,\u001b[0m \u001b[0maxis\u001b[0m\u001b[0;34m=\u001b[0m\u001b[0maxis\u001b[0m\u001b[0;34m)\u001b[0m\u001b[0;34m\u001b[0m\u001b[0m\n\u001b[0m\u001b[1;32m   2071\u001b[0m         \u001b[0;32mexcept\u001b[0m \u001b[0mIndexError\u001b[0m\u001b[0;34m:\u001b[0m\u001b[0;34m\u001b[0m\u001b[0m\n\u001b[1;32m   2072\u001b[0m             \u001b[0;31m# re-raise with different error message\u001b[0m\u001b[0;34m\u001b[0m\u001b[0;34m\u001b[0m\u001b[0m\n",
      "\u001b[0;32m~/anaconda3/lib/python3.7/site-packages/pandas/core/generic.py\u001b[0m in \u001b[0;36m_take\u001b[0;34m(self, indices, axis, is_copy)\u001b[0m\n\u001b[1;32m   2787\u001b[0m         new_data = self._data.take(indices,\n\u001b[1;32m   2788\u001b[0m                                    \u001b[0maxis\u001b[0m\u001b[0;34m=\u001b[0m\u001b[0mself\u001b[0m\u001b[0;34m.\u001b[0m\u001b[0m_get_block_manager_axis\u001b[0m\u001b[0;34m(\u001b[0m\u001b[0maxis\u001b[0m\u001b[0;34m)\u001b[0m\u001b[0;34m,\u001b[0m\u001b[0;34m\u001b[0m\u001b[0m\n\u001b[0;32m-> 2789\u001b[0;31m                                    verify=True)\n\u001b[0m\u001b[1;32m   2790\u001b[0m         \u001b[0mresult\u001b[0m \u001b[0;34m=\u001b[0m \u001b[0mself\u001b[0m\u001b[0;34m.\u001b[0m\u001b[0m_constructor\u001b[0m\u001b[0;34m(\u001b[0m\u001b[0mnew_data\u001b[0m\u001b[0;34m)\u001b[0m\u001b[0;34m.\u001b[0m\u001b[0m__finalize__\u001b[0m\u001b[0;34m(\u001b[0m\u001b[0mself\u001b[0m\u001b[0;34m)\u001b[0m\u001b[0;34m\u001b[0m\u001b[0m\n\u001b[1;32m   2791\u001b[0m \u001b[0;34m\u001b[0m\u001b[0m\n",
      "\u001b[0;32m~/anaconda3/lib/python3.7/site-packages/pandas/core/internals.py\u001b[0m in \u001b[0;36mtake\u001b[0;34m(self, indexer, axis, verify, convert)\u001b[0m\n\u001b[1;32m   4537\u001b[0m         \u001b[0mnew_labels\u001b[0m \u001b[0;34m=\u001b[0m \u001b[0mself\u001b[0m\u001b[0;34m.\u001b[0m\u001b[0maxes\u001b[0m\u001b[0;34m[\u001b[0m\u001b[0maxis\u001b[0m\u001b[0;34m]\u001b[0m\u001b[0;34m.\u001b[0m\u001b[0mtake\u001b[0m\u001b[0;34m(\u001b[0m\u001b[0mindexer\u001b[0m\u001b[0;34m)\u001b[0m\u001b[0;34m\u001b[0m\u001b[0m\n\u001b[1;32m   4538\u001b[0m         return self.reindex_indexer(new_axis=new_labels, indexer=indexer,\n\u001b[0;32m-> 4539\u001b[0;31m                                     axis=axis, allow_dups=True)\n\u001b[0m\u001b[1;32m   4540\u001b[0m \u001b[0;34m\u001b[0m\u001b[0m\n\u001b[1;32m   4541\u001b[0m     \u001b[0;32mdef\u001b[0m \u001b[0mmerge\u001b[0m\u001b[0;34m(\u001b[0m\u001b[0mself\u001b[0m\u001b[0;34m,\u001b[0m \u001b[0mother\u001b[0m\u001b[0;34m,\u001b[0m \u001b[0mlsuffix\u001b[0m\u001b[0;34m=\u001b[0m\u001b[0;34m''\u001b[0m\u001b[0;34m,\u001b[0m \u001b[0mrsuffix\u001b[0m\u001b[0;34m=\u001b[0m\u001b[0;34m''\u001b[0m\u001b[0;34m)\u001b[0m\u001b[0;34m:\u001b[0m\u001b[0;34m\u001b[0m\u001b[0m\n",
      "\u001b[0;32m~/anaconda3/lib/python3.7/site-packages/pandas/core/internals.py\u001b[0m in \u001b[0;36mreindex_indexer\u001b[0;34m(self, new_axis, indexer, axis, fill_value, allow_dups, copy)\u001b[0m\n\u001b[1;32m   4423\u001b[0m             new_blocks = [blk.take_nd(indexer, axis=axis, fill_tuple=(\n\u001b[1;32m   4424\u001b[0m                 fill_value if fill_value is not None else blk.fill_value,))\n\u001b[0;32m-> 4425\u001b[0;31m                 for blk in self.blocks]\n\u001b[0m\u001b[1;32m   4426\u001b[0m \u001b[0;34m\u001b[0m\u001b[0m\n\u001b[1;32m   4427\u001b[0m         \u001b[0mnew_axes\u001b[0m \u001b[0;34m=\u001b[0m \u001b[0mlist\u001b[0m\u001b[0;34m(\u001b[0m\u001b[0mself\u001b[0m\u001b[0;34m.\u001b[0m\u001b[0maxes\u001b[0m\u001b[0;34m)\u001b[0m\u001b[0;34m\u001b[0m\u001b[0m\n",
      "\u001b[0;32m~/anaconda3/lib/python3.7/site-packages/pandas/core/internals.py\u001b[0m in \u001b[0;36m<listcomp>\u001b[0;34m(.0)\u001b[0m\n\u001b[1;32m   4423\u001b[0m             new_blocks = [blk.take_nd(indexer, axis=axis, fill_tuple=(\n\u001b[1;32m   4424\u001b[0m                 fill_value if fill_value is not None else blk.fill_value,))\n\u001b[0;32m-> 4425\u001b[0;31m                 for blk in self.blocks]\n\u001b[0m\u001b[1;32m   4426\u001b[0m \u001b[0;34m\u001b[0m\u001b[0m\n\u001b[1;32m   4427\u001b[0m         \u001b[0mnew_axes\u001b[0m \u001b[0;34m=\u001b[0m \u001b[0mlist\u001b[0m\u001b[0;34m(\u001b[0m\u001b[0mself\u001b[0m\u001b[0;34m.\u001b[0m\u001b[0maxes\u001b[0m\u001b[0;34m)\u001b[0m\u001b[0;34m\u001b[0m\u001b[0m\n",
      "\u001b[0;32m~/anaconda3/lib/python3.7/site-packages/pandas/core/internals.py\u001b[0m in \u001b[0;36mtake_nd\u001b[0;34m(self, indexer, axis, new_mgr_locs, fill_tuple)\u001b[0m\n\u001b[1;32m   1256\u001b[0m             \u001b[0mfill_value\u001b[0m \u001b[0;34m=\u001b[0m \u001b[0mfill_tuple\u001b[0m\u001b[0;34m[\u001b[0m\u001b[0;36m0\u001b[0m\u001b[0;34m]\u001b[0m\u001b[0;34m\u001b[0m\u001b[0m\n\u001b[1;32m   1257\u001b[0m             new_values = algos.take_nd(values, indexer, axis=axis,\n\u001b[0;32m-> 1258\u001b[0;31m                                        allow_fill=True, fill_value=fill_value)\n\u001b[0m\u001b[1;32m   1259\u001b[0m \u001b[0;34m\u001b[0m\u001b[0m\n\u001b[1;32m   1260\u001b[0m         \u001b[0;32mif\u001b[0m \u001b[0mnew_mgr_locs\u001b[0m \u001b[0;32mis\u001b[0m \u001b[0;32mNone\u001b[0m\u001b[0;34m:\u001b[0m\u001b[0;34m\u001b[0m\u001b[0m\n",
      "\u001b[0;32m~/anaconda3/lib/python3.7/site-packages/pandas/core/algorithms.py\u001b[0m in \u001b[0;36mtake_nd\u001b[0;34m(arr, indexer, axis, out, fill_value, mask_info, allow_fill)\u001b[0m\n\u001b[1;32m   1653\u001b[0m             \u001b[0mout\u001b[0m \u001b[0;34m=\u001b[0m \u001b[0mnp\u001b[0m\u001b[0;34m.\u001b[0m\u001b[0mempty\u001b[0m\u001b[0;34m(\u001b[0m\u001b[0mout_shape\u001b[0m\u001b[0;34m,\u001b[0m \u001b[0mdtype\u001b[0m\u001b[0;34m=\u001b[0m\u001b[0mdtype\u001b[0m\u001b[0;34m,\u001b[0m \u001b[0morder\u001b[0m\u001b[0;34m=\u001b[0m\u001b[0;34m'F'\u001b[0m\u001b[0;34m)\u001b[0m\u001b[0;34m\u001b[0m\u001b[0m\n\u001b[1;32m   1654\u001b[0m         \u001b[0;32melse\u001b[0m\u001b[0;34m:\u001b[0m\u001b[0;34m\u001b[0m\u001b[0m\n\u001b[0;32m-> 1655\u001b[0;31m             \u001b[0mout\u001b[0m \u001b[0;34m=\u001b[0m \u001b[0mnp\u001b[0m\u001b[0;34m.\u001b[0m\u001b[0mempty\u001b[0m\u001b[0;34m(\u001b[0m\u001b[0mout_shape\u001b[0m\u001b[0;34m,\u001b[0m \u001b[0mdtype\u001b[0m\u001b[0;34m=\u001b[0m\u001b[0mdtype\u001b[0m\u001b[0;34m)\u001b[0m\u001b[0;34m\u001b[0m\u001b[0m\n\u001b[0m\u001b[1;32m   1656\u001b[0m \u001b[0;34m\u001b[0m\u001b[0m\n\u001b[1;32m   1657\u001b[0m     func = _get_take_nd_function(arr.ndim, arr.dtype, out.dtype, axis=axis,\n",
      "\u001b[0;31mMemoryError\u001b[0m: "
     ]
    }
   ],
   "source": [
    "Kfolder.validate(user_train, user_test, features, catmodel, name=\"catfinal\", prepare_stacking=True,\n",
    "                fit_params={\"use_best_model\": True, \"verbose\": 100})"
   ]
  },
  {
   "cell_type": "markdown",
   "metadata": {
    "_uuid": "ca522c27232b2b6e77795a49847e98712b58ccbf"
   },
   "source": [
    "# Ensembling dragons"
   ]
  },
  {
   "cell_type": "code",
   "execution_count": 67,
   "metadata": {
    "scrolled": true
   },
   "outputs": [],
   "source": [
    "user_train['PredictedLogRevenue'] = user_train[\"lgbfinal\"] \n",
    "score(user_train, user_train.PredictedLogRevenue)\n",
    "\n",
    "user_test['PredictedLogRevenue'] = user_test[\"lgbfinal\"] \n",
    "user_test[['PredictedLogRevenue']].to_csv('v2_lgbfinal_only.csv', index=True)"
   ]
  },
  {
   "cell_type": "code",
   "execution_count": null,
   "metadata": {
    "ExecuteTime": {
     "end_time": "2018-10-14T11:10:38.041351Z",
     "start_time": "2018-10-14T11:10:36.796149Z"
    },
    "_uuid": "63e9c6b72d17bc1a95cf0d43b1fddb3ba4a69da7",
    "scrolled": true
   },
   "outputs": [],
   "source": [
    "user_train['PredictedLogRevenue'] = 0.6 * user_train[\"lgbfinal\"] + \\\n",
    "                                    0.3 * user_train[\"xgbfinal\"] + \\\n",
    "                                    0.1 * user_train[\"catfinal\"]\n",
    "score(user_train, user_train.PredictedLogRevenue)"
   ]
  },
  {
   "cell_type": "code",
   "execution_count": null,
   "metadata": {
    "ExecuteTime": {
     "end_time": "2018-10-14T11:10:42.362447Z",
     "start_time": "2018-10-14T11:10:38.042333Z"
    },
    "_uuid": "8458bf6e73d51551b3a9414583acf4d23138eb0b"
   },
   "outputs": [],
   "source": [
    "user_test['PredictedLogRevenue'] = 0.6 * user_test[\"lgbfinal\"] +  0.1 * user_test[\"catfinal\"] + 0.3 * user_test[\"xgbfinal\"]\n",
    "user_test[['PredictedLogRevenue']].to_csv('leak_check_submission.csv', index=True)"
   ]
  },
  {
   "cell_type": "code",
   "execution_count": null,
   "metadata": {
    "_uuid": "5f39554712f02822a1a698fd4138e573be7c39e8"
   },
   "outputs": [],
   "source": []
  }
 ],
 "metadata": {
  "kernelspec": {
   "display_name": "Python 3",
   "language": "python",
   "name": "python3"
  },
  "language_info": {
   "codemirror_mode": {
    "name": "ipython",
    "version": 3
   },
   "file_extension": ".py",
   "mimetype": "text/x-python",
   "name": "python",
   "nbconvert_exporter": "python",
   "pygments_lexer": "ipython3",
   "version": "3.7.0"
  },
  "latex_envs": {
   "LaTeX_envs_menu_present": true,
   "autoclose": false,
   "autocomplete": true,
   "bibliofile": "biblio.bib",
   "cite_by": "apalike",
   "current_citInitial": 1,
   "eqLabelWithNumbers": true,
   "eqNumInitial": 1,
   "hotkeys": {
    "equation": "Ctrl-E",
    "itemize": "Ctrl-I"
   },
   "labels_anchors": false,
   "latex_user_defs": false,
   "report_style_numbering": false,
   "user_envs_cfg": false
  },
  "notify_time": "10"
 },
 "nbformat": 4,
 "nbformat_minor": 1
}
